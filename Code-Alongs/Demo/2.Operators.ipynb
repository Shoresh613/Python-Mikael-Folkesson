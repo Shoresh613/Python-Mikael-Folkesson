{
 "cells": [
  {
   "cell_type": "markdown",
   "metadata": {},
   "source": [
    "# Operators\n",
    "\n",
    "Symbols to instruct the interpreter to perform specific mathematical, relational or logical tasks.\n",
    "\n",
    "## Arithmetic operators\n",
    "\n",
    "| Operation | Symbol |\n",
    "| --------- | ------ |\n",
    "| Addition  | +      |\n",
    "| Subtraction | -    |\n",
    "| Multiplication | * |\n",
    "| Division | /      |\n",
    "| Floor Division | // |\n",
    "| Modulus | %       |\n",
    "| Exponentiation | ** |\n",
    "\n",
    "Om man vill dela ett flyttal och vill få ut ett heltal kan man använda `floor` för att avrunda neråt och `ceil` för att avrunda uppåt. "
   ]
  },
  {
   "cell_type": "code",
   "execution_count": 13,
   "metadata": {},
   "outputs": [
    {
     "name": "stdout",
     "output_type": "stream",
     "text": [
      "4.5\n",
      "4\n",
      "1\n",
      "27\n",
      "True\n",
      "True\n"
     ]
    }
   ],
   "source": [
    "print(9/2)\n",
    "print(9//2)\n",
    "print(9%2)\n",
    "\n",
    "print(3**3)\n",
    "\n",
    "print(\"Fredrik\" < \"Frida\") # Kollar strängarna i bokstavsordning\n",
    "\n",
    "x = 15\n",
    "\n",
    "print(x > 10 and x < 20) \n",
    "print(10 < x < 20) #Likvärdigt med det ovan, kompaktare syntax"
   ]
  },
  {
   "cell_type": "markdown",
   "metadata": {},
   "source": [
    "## Comparison operators\n",
    "\n",
    "| Operation | Symbol |\n",
    "| --------- | ------ |\n",
    "| Equal     | ==     |\n",
    "| Not Equal | !=     |\n",
    "| Greater than | >   |\n",
    "| Less than | <      |\n",
    "| Greater than or equal | >= |\n",
    "| Less than or equal | <= |"
   ]
  },
  {
   "cell_type": "code",
   "execution_count": 8,
   "metadata": {},
   "outputs": [
    {
     "name": "stdout",
     "output_type": "stream",
     "text": [
      "False\n",
      "True\n",
      "False\n"
     ]
    }
   ],
   "source": [
    "x = 6\n",
    "print(x == 5)\n",
    "print(5 <=5)\n",
    "print(5 < 5)"
   ]
  },
  {
   "cell_type": "markdown",
   "metadata": {},
   "source": [
    "## Logical Operators\n",
    "\n",
    "- and\n",
    "- or\n",
    "- not"
   ]
  },
  {
   "cell_type": "code",
   "execution_count": 11,
   "metadata": {},
   "outputs": [
    {
     "name": "stdout",
     "output_type": "stream",
     "text": [
      "True\n",
      "True\n",
      "False\n",
      "True\n",
      "False\n",
      "False\n"
     ]
    }
   ],
   "source": [
    "print(True and True)\n",
    "print(True or True)\n",
    "print(True and False)\n",
    "print(True or True)\n",
    "print(not True)\n",
    "print( 5 ==5 and 7 == 8)"
   ]
  }
 ],
 "metadata": {
  "kernelspec": {
   "display_name": "Python-Mikael-Folkesson-aTHbKsrI",
   "language": "python",
   "name": "python3"
  },
  "language_info": {
   "codemirror_mode": {
    "name": "ipython",
    "version": 3
   },
   "file_extension": ".py",
   "mimetype": "text/x-python",
   "name": "python",
   "nbconvert_exporter": "python",
   "pygments_lexer": "ipython3",
   "version": "3.11.2"
  },
  "orig_nbformat": 4
 },
 "nbformat": 4,
 "nbformat_minor": 2
}
