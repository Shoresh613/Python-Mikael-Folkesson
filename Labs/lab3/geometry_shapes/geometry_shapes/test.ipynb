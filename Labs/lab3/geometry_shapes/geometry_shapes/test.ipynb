{
 "cells": [
  {
   "cell_type": "markdown",
   "metadata": {},
   "source": [
    "# Basic checking of the geometric shapes library"
   ]
  },
  {
   "cell_type": "code",
   "execution_count": 13,
   "metadata": {},
   "outputs": [
    {
     "data": {
      "text/plain": [
       "<bound method Circle.__repr__ of <Circle.Circle object at 0x0000023D5BA5DB10>>"
      ]
     },
     "execution_count": 13,
     "metadata": {},
     "output_type": "execute_result"
    }
   ],
   "source": [
    "from Circle import Circle\n",
    "from Rectangle import Rectangle\n",
    "\n",
    "my_circle = Circle(4,5,6)\n",
    "my_rectangle = Rectangle(2,2,4,5)\n",
    "\n",
    "my_circle.__repr__"
   ]
  }
 ],
 "metadata": {
  "kernelspec": {
   "display_name": "python-programming-Mikael-Folkesson-Xp2s793V",
   "language": "python",
   "name": "python3"
  },
  "language_info": {
   "codemirror_mode": {
    "name": "ipython",
    "version": 3
   },
   "file_extension": ".py",
   "mimetype": "text/x-python",
   "name": "python",
   "nbconvert_exporter": "python",
   "pygments_lexer": "ipython3",
   "version": "3.11.5"
  }
 },
 "nbformat": 4,
 "nbformat_minor": 2
}
