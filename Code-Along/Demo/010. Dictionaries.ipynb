{
 "cells": [
  {
   "cell_type": "markdown",
   "metadata": {},
   "source": [
    "# Dictionaries\n",
    "- Used to store data in key-value pairs (key used to point to value).\n",
    "- {} used to specify a dictionary\n",
    "- Keys are used to access values, and must be unique\n",
    "- Only immutable types (eg. string, int, float, bool) can be used as keys.\n",
    "- Ordered and changeable."
   ]
  },
  {
   "cell_type": "code",
   "execution_count": 24,
   "metadata": {},
   "outputs": [
    {
     "name": "stdout",
     "output_type": "stream",
     "text": [
      "6\n",
      "teacher = {'firstname': 'Fredrik', 'lastname': 'Johansson', 'age': '42', 'languages': ['python', 'C#', 'JavaScript'], 'contact_info': {'phone': '0702354678', 'email': ['fredrik@everyloop.com', 'fredrik@gmail.com', 'fredrik.johansson@hotmail.com']}, 'length': 1.8}\n",
      "teacher = {'age': '42', 'languages': ['python', 'C#', 'JavaScript'], 'contact_info': {'phone': '0702354678', 'email': ['fredrik@everyloop.com', 'fredrik@gmail.com', 'fredrik.johansson@hotmail.com']}, 'length': 1.8, 'firstname': 'Kalle'}\n",
      "removed_value = 'Johansson'\n",
      "{'phone': '0702354678', 'email': ['fredrik@everyloop.com', 'fredrik@gmail.com', 'fredrik.johansson@hotmail.com']}\n",
      "'Number of languages: '3\n",
      "teacher[\"languages\"][-1] = 'JavaScript'\n"
     ]
    }
   ],
   "source": [
    "# Create empty dictionary\n",
    "empty_dictionary = {}\n",
    "\n",
    "# Create dictionary with items\n",
    "teacher = {\n",
    "    \"firstname\": \"Fredrik\",\n",
    "    \"lastname\": \"Johansson\",\n",
    "    \"age\": \"42\",\n",
    "    \"languages\": [\"python\", \"C#\", \"JavaScript\"],\n",
    "    \"contact_info\": {\n",
    "        \"phone\": \"0702354678\",\n",
    "        \"email\": [\n",
    "            \"fredrik@everyloop.com\", \n",
    "            \"fredrik@gmail.com\", \n",
    "            \"fredrik.johansson@hotmail.com\", # Good idea to have a final comma, so as not to miss when adding future values\n",
    "        ]\n",
    "    }\n",
    "}\n",
    "\n",
    "# Add key to dictionary\n",
    "teacher[\"length\"] = 1.80\n",
    "\n",
    "# Get number of items (key-value pairs) in dictionary\n",
    "print(f\"{len(teacher)}\")\n",
    "print(f\"{teacher = }\")\n",
    "\n",
    "\n",
    "# Remove key and return value from dictionary\n",
    "removed_value = teacher.pop(\"lastname\")\n",
    "del(teacher[\"firstname\"])\n",
    "\n",
    "teacher[\"firstname\"] = \"Kalle\"\n",
    "\n",
    "print(f\"{teacher = }\")\n",
    "print(f\"{removed_value = }\")\n",
    "\n",
    "print(teacher[\"contact_info\"])\n",
    "\n",
    "print(f\"'Number of languages: '{len(teacher['languages'])}\")\n",
    "\n",
    "# Print last item in list in dictionary\n",
    "print(f'{teacher[\"languages\"][-1] = }')\n"
   ]
  },
  {
   "cell_type": "markdown",
   "metadata": {},
   "source": [
    "## Get value using key"
   ]
  },
  {
   "cell_type": "code",
   "execution_count": 28,
   "metadata": {},
   "outputs": [
    {
     "name": "stdout",
     "output_type": "stream",
     "text": [
      ":(\n"
     ]
    }
   ],
   "source": [
    "key = input(\"Enter key: \")\n",
    "\n",
    "if key in teacher:\n",
    "    print(teacher[key])\n",
    "else:\n",
    "    print(\":(\")\n",
    "\n",
    "# Koden nedan gör exakt samma som detta, dvs mer kompakt"
   ]
  },
  {
   "cell_type": "code",
   "execution_count": 29,
   "metadata": {},
   "outputs": [
    {
     "name": "stdout",
     "output_type": "stream",
     "text": [
      ":(\n"
     ]
    }
   ],
   "source": [
    "key = input(\"Enter key: \")\n",
    "print(teacher.get(key,\":(\"))"
   ]
  },
  {
   "cell_type": "markdown",
   "metadata": {},
   "source": [
    "## Looping through a dictionary"
   ]
  },
  {
   "cell_type": "code",
   "execution_count": 37,
   "metadata": {},
   "outputs": [
    {
     "name": "stdout",
     "output_type": "stream",
     "text": [
      "age\n",
      "languages\n",
      "contact_info\n",
      "length\n",
      "firstname\n",
      "age\n",
      "languages\n",
      "contact_info\n",
      "length\n",
      "firstname\n",
      "42\n",
      "['python', 'C#', 'JavaScript']\n",
      "{'phone': '0702354678', 'email': ['fredrik@everyloop.com', 'fredrik@gmail.com', 'fredrik.johansson@hotmail.com']}\n",
      "1.8\n",
      "Kalle\n",
      "\n",
      "age = 42\n",
      "languages = ['python', 'C#', 'JavaScript']\n",
      "contact_info = {'phone': '0702354678', 'email': ['fredrik@everyloop.com', 'fredrik@gmail.com', 'fredrik.johansson@hotmail.com']}\n",
      "length = 1.8\n",
      "firstname = Kalle\n",
      "\n",
      "age = 42\n",
      "languages = ['python', 'C#', 'JavaScript']\n",
      "contact_info = {'phone': '0702354678', 'email': ['fredrik@everyloop.com', 'fredrik@gmail.com', 'fredrik.johansson@hotmail.com']}\n",
      "length = 1.8\n",
      "firstname = Kalle\n"
     ]
    }
   ],
   "source": [
    "for key in teacher.keys():\n",
    "    print(key)\n",
    "\n",
    "for key in teacher:\n",
    "    print(key)\n",
    "\n",
    "for value in teacher.values():\n",
    "    print(value)\n",
    "\n",
    "print()\n",
    "\n",
    "for key in teacher:\n",
    "    print(f\"{key} = {teacher[key]}\")\n",
    "\n",
    "print()\n",
    "\n",
    "for key,value in teacher.items():\n",
    "    print(f\"{key} = {value}\")\n"
   ]
  }
 ],
 "metadata": {
  "kernelspec": {
   "display_name": "python-programming-Mikael-Folkesson-Xp2s793V",
   "language": "python",
   "name": "python3"
  },
  "language_info": {
   "codemirror_mode": {
    "name": "ipython",
    "version": 3
   },
   "file_extension": ".py",
   "mimetype": "text/x-python",
   "name": "python",
   "nbconvert_exporter": "python",
   "pygments_lexer": "ipython3",
   "version": "3.11.5"
  },
  "orig_nbformat": 4
 },
 "nbformat": 4,
 "nbformat_minor": 2
}
