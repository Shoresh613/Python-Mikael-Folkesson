{
 "cells": [
  {
   "cell_type": "markdown",
   "metadata": {},
   "source": [
    "# Dictionaries\n",
    "- Used to store data in key-value pairs (key used to point to value).\n",
    "- {} used to specify a dictionary\n",
    "- Keys are used to access values, and must be unique\n",
    "- Only immutable types (eg. string, int, float, bool) can be used as keys.\n",
    "- Ordered and changeable."
   ]
  },
  {
   "cell_type": "code",
   "execution_count": 23,
   "metadata": {},
   "outputs": [
    {
     "name": "stdout",
     "output_type": "stream",
     "text": [
      "6\n",
      "teacher = {'firstname': 'Fredrik', 'lastname': 'Johansson', 'age': '42', 'languages': ['python', 'C#', 'JavaScript'], 'contact_info': {'phone': '0702354678', 'email': ['fredrik@everyloop.com', 'fredrik@gmail.com', 'fredrik.johansson@hotmail.com']}, 'length': 1.8}\n",
      "teacher = {'age': '42', 'languages': ['python', 'C#', 'JavaScript'], 'contact_info': {'phone': '0702354678', 'email': ['fredrik@everyloop.com', 'fredrik@gmail.com', 'fredrik.johansson@hotmail.com']}, 'length': 1.8, 'firstname': 'Kalle'}\n",
      "removed_value = 'Johansson'\n",
      "{'phone': '0702354678', 'email': ['fredrik@everyloop.com', 'fredrik@gmail.com', 'fredrik.johansson@hotmail.com']}\n",
      "'Number of languages: '3\n",
      "teacher[\"languages\"][-1] = 'JavaScript'\n"
     ]
    }
   ],
   "source": [
    "# Create empty dictionary\n",
    "empty_dictionary = {}\n",
    "\n",
    "# Create dictionary with items\n",
    "teacher = {\n",
    "    \"firstname\": \"Fredrik\",\n",
    "    \"lastname\": \"Johansson\",\n",
    "    \"age\": \"42\",\n",
    "    \"languages\": [\"python\", \"C#\", \"JavaScript\"],\n",
    "    \"contact_info\": {\n",
    "        \"phone\": \"0702354678\",\n",
    "        \"email\": [\n",
    "            \"fredrik@everyloop.com\", \n",
    "            \"fredrik@gmail.com\", \n",
    "            \"fredrik.johansson@hotmail.com\"\n",
    "        ]\n",
    "    }\n",
    "}\n",
    "\n",
    "# Add key to dictionary\n",
    "teacher[\"length\"] = 1.80\n",
    "\n",
    "# Get number of items (key-value pairs) in dictionary\n",
    "print(f\"{len(teacher)}\")\n",
    "print(f\"{teacher = }\")\n",
    "\n",
    "\n",
    "# Remove key and return value from dictionary\n",
    "removed_value = teacher.pop(\"lastname\")\n",
    "del(teacher[\"firstname\"])\n",
    "\n",
    "teacher[\"firstname\"] = \"Kalle\"\n",
    "\n",
    "print(f\"{teacher = }\")\n",
    "print(f\"{removed_value = }\")\n",
    "\n",
    "print(teacher[\"contact_info\"])\n",
    "\n",
    "print(f\"'Number of languages: '{len(teacher['languages'])}\")\n",
    "\n",
    "# Print last item in list in dictionary\n",
    "print(f'{teacher[\"languages\"][-1] = }')\n"
   ]
  }
 ],
 "metadata": {
  "kernelspec": {
   "display_name": "python-programming-Mikael-Folkesson-Xp2s793V",
   "language": "python",
   "name": "python3"
  },
  "language_info": {
   "codemirror_mode": {
    "name": "ipython",
    "version": 3
   },
   "file_extension": ".py",
   "mimetype": "text/x-python",
   "name": "python",
   "nbconvert_exporter": "python",
   "pygments_lexer": "ipython3",
   "version": "3.11.5"
  },
  "orig_nbformat": 4
 },
 "nbformat": 4,
 "nbformat_minor": 2
}
