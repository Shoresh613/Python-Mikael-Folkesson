{
 "cells": [
  {
   "cell_type": "markdown",
   "metadata": {},
   "source": [
    "# Övningstenta\n",
    "\n",
    "## Uppgift 3 (?)\n",
    "Skapa en funktion som tar in ett heltal n som parameter och skriver ut mönstret nedan.\n",
    "Exempel när n = 5:\n",
    "x x x x x\n",
    "x o x o x\n",
    "x x x x x\n",
    "x o x o x\n",
    "x x x x x"
   ]
  },
  {
   "cell_type": "code",
   "execution_count": 5,
   "metadata": {},
   "outputs": [
    {
     "name": "stdout",
     "output_type": "stream",
     "text": [
      "x x x x x x x \n",
      "x o x o x o x \n",
      "x x x x x x x \n",
      "x o x o x o x \n",
      "x x x x x x x \n",
      "x o x o x o x \n",
      "x x x x x x x \n"
     ]
    }
   ],
   "source": [
    "def pattern(n):\n",
    "    for y in range(n):\n",
    "        for x in range(n):\n",
    "            print('o ' if y %2 == 1 and x %2 == 1 else 'x ', end='')\n",
    "        print()\n",
    "\n",
    "pattern(7)\n"
   ]
  },
  {
   "cell_type": "markdown",
   "metadata": {},
   "source": [
    "## Uppgift 6\n",
    "\n",
    "\n",
    "```python\n",
    "class Animal:\n",
    "    def __init__(self, name):\n",
    "        self.name = name\n",
    "    def __str__(self):\n",
    "        return f\"Animal {self.name}\"\n",
    "class Dog(Animal):\n",
    "    # notera att __init__ är nedärvd\n",
    "    def __repr__(self):\n",
    "        return f\"Dog: {self.name}\"\n",
    "class Fish(Animal):\n",
    "    def __repr__(self):\n",
    "        return f\"Fish: {self.name}\"\n",
    "\n",
    "# TO-DO: implementera PetOwner\n",
    "class PetOwner:\n",
    " ...\n",
    " \n",
    "# manuell test av PetOwner\n",
    "owner1 = PetOwner(\"Ada\",[\"Snoopy\", \"Pluto\"], [\"Fishy\", \"Buppy\"])\n",
    "owner2 = PetOwner(\"Beda\", [\"Barkly\"] )\n",
    "print(owner1)\n",
    "print(owner2)\n",
    "```\n",
    "\n",
    "Implementera PetOwner klassen så att du får liknande utskrift som nedan med det manuella testet.\n",
    "\n",
    "```\n",
    "Ada owns:\n",
    "[Dog: Snoopy, Dog: Pluto]\n",
    "[Fish: Fishy, Fish: Buppy]\n",
    "Beda owns:\n",
    "[Dog: Barkly]```"
   ]
  },
  {
   "cell_type": "code",
   "execution_count": 8,
   "metadata": {},
   "outputs": [
    {
     "name": "stdout",
     "output_type": "stream",
     "text": [
      "Ada owns:\n",
      "[Dog: Snoopy, Dog: Pluto]\n",
      "[Fish: Fishy, Fish: Buppy]\n",
      "\n",
      "Beda owns:\n",
      "[Dog: Barkly]\n",
      "\n"
     ]
    }
   ],
   "source": [
    "class Animal:\n",
    "    def __init__(self, name):\n",
    "        self.name = name\n",
    "    def __str__(self):\n",
    "        return f\"Animal {self.name}\"\n",
    "class Dog(Animal):\n",
    "    # notera att __init__ är nedärvd\n",
    "    def __repr__(self):\n",
    "        return f\"Dog: {self.name}\"\n",
    "class Fish(Animal):\n",
    "    def __repr__(self):\n",
    "        return f\"Fish: {self.name}\"\n",
    "\n",
    "# TO-DO: implementera PetOwner\n",
    "class PetOwner:\n",
    "    def __init__(self, name, dogs=[], fish=[]) -> None:\n",
    "        self.name = name\n",
    "        self.dogs = [Dog(name) for name in dogs]\n",
    "        self.fish = [Fish(name) for name in fish]\n",
    "    def __str__(self) -> str:\n",
    "        text = self.name + \" owns:\\n\"\n",
    "        if self.dogs:\n",
    "            text += \"[\" + \", \".join([repr(dog) for dog in self.dogs]) + \"]\\n\"\n",
    "        if self.fish:\n",
    "            text += \"[\" + \", \".join([repr(fish) for fish in self.fish]) + \"]\\n\"\n",
    "        return text\n",
    "\n",
    "owner1 = PetOwner(\"Ada\",[\"Snoopy\", \"Pluto\"], [\"Fishy\", \"Buppy\"])\n",
    "owner2 = PetOwner(\"Beda\", [\"Barkly\"] )\n",
    "print(owner1)\n",
    "print(owner2)\n"
   ]
  },
  {
   "cell_type": "markdown",
   "metadata": {},
   "source": [
    "## Uppgift 2 (3p)\n",
    "Skriv en funktion som tar in en radie och en höjd som inparametrar och som returnerar volymen av en\n",
    "cylinder.\n",
    "\n",
    "Volymen för en cylinder är:\n",
    "\n",
    "V = πr²h\n",
    "\n",
    "Låt användaren mata in en radie och en höjd och kör funktionen. Tänk på att ta med lämplig felhantering."
   ]
  },
  {
   "cell_type": "code",
   "execution_count": 5,
   "metadata": {},
   "outputs": [
    {
     "name": "stdout",
     "output_type": "stream",
     "text": [
      "351.85837720205683\n"
     ]
    }
   ],
   "source": [
    "from math import pi\n",
    "\n",
    "def cylinder_volume(r,h):\n",
    "    return pi * r**2 * h\n",
    "\n",
    "while True:\n",
    "    try:\n",
    "        radius = float(input(\"Input radius: \"))\n",
    "        height = float(input(\"Input height: \"))\n",
    "        if radius <= 0 or height <=0:\n",
    "            raise ValueError\n",
    "        print(f\"{cylinder_volume(radius,height)}\")\n",
    "        break\n",
    "    except ValueError:\n",
    "        print(\"Please input only numbers > 0!\")\n"
   ]
  },
  {
   "cell_type": "markdown",
   "metadata": {},
   "source": [
    "## Uppgift 3 (3p)\n",
    "Simulera 1000000 tärningskast och beräkna antalet ettor, tvåor, treor, fyror, femmor och sexor. Spara\n",
    "resultatet i en lämplig datastruktur."
   ]
  },
  {
   "cell_type": "code",
   "execution_count": 9,
   "metadata": {},
   "outputs": [
    {
     "name": "stdout",
     "output_type": "stream",
     "text": [
      "1: 167140\n",
      "2: 166288\n",
      "3: 166068\n",
      "4: 167027\n",
      "5: 166608\n",
      "6: 166869\n"
     ]
    }
   ],
   "source": [
    "import random\n",
    "\n",
    "dice_results = [0] * 6\n",
    "\n",
    "for i in range (1_000_000): # Möjligt att dela upp såhär så koden blir mer lättläst\n",
    "    result = random.randint(1,6)\n",
    "    dice_results[result-1] += 1\n",
    "\n",
    "for result, count in enumerate(dice_results, start=1):\n",
    "    print(f\"{result}: {count}\")\n",
    "\n"
   ]
  },
  {
   "cell_type": "markdown",
   "metadata": {},
   "source": [
    "## Uppgift 5 (4p)\n",
    "Skapa en funktion som tar in en summa pengar.\n",
    "Den ska printa ut en representation av sedlar och mynt som representerar summan.\n",
    "```\n",
    "Exempel 3214 ska ge:\n",
    "Tusenlapp: 3\n",
    "Tvåhundralapp: 1\n",
    "Tiokrona: 1\n",
    "Enkrona: 4\n",
    "```"
   ]
  },
  {
   "cell_type": "code",
   "execution_count": 1,
   "metadata": {},
   "outputs": [
    {
     "name": "stdout",
     "output_type": "stream",
     "text": [
      "The value 3214 gives the change:\n",
      "\n",
      "1000-lapp: 3\n",
      "200-lapp: 1\n",
      "10-krona: 1\n",
      "2-krona: 2\n"
     ]
    }
   ],
   "source": [
    "def change(number: int):\n",
    "\n",
    "    currency_dict = {\n",
    "        1000: \"1000-lapp\",\n",
    "        500: \"500-lapp\",\n",
    "        200: \"200-lapp\",\n",
    "        100: \"100-lapp\",\n",
    "        50: \"50-lapp\",\n",
    "        20: \"20-lapp\",\n",
    "        10: \"10-krona\",\n",
    "        5: \"5-krona\",\n",
    "        2: \"2-krona\",\n",
    "        1: \"1-krona\"\n",
    "    }\n",
    "\n",
    "    print(f\"The value {number} gives the change:\\n\")\n",
    "\n",
    "    for currency, currency_name in currency_dict.items():\n",
    "        count = number // currency  # Use floor division to calculate the count\n",
    "        if count:\n",
    "            print(f\"{currency_name}: {count}\")\n",
    "        number %= currency  # Use modulus to update the remaining amount\n",
    "\n",
    "    # for currency, currency_name in currency_dict.items():\n",
    "    #     j = 1\n",
    "    #     count=0\n",
    "    #     while (float(number)/(currency*j)) >= 1:\n",
    "    #         count += 1\n",
    "    #         j +=1\n",
    "    #     if count:\n",
    "    #         print(f\"{count} {currency_name}\")\n",
    "    #     number -= count*currency\n",
    "\n",
    "number = input(\"Enter value to get in change: \")\n",
    "change(int(number))\n"
   ]
  }
 ],
 "metadata": {
  "kernelspec": {
   "display_name": "python-programming-Mikael-Folkesson-Xp2s793V",
   "language": "python",
   "name": "python3"
  },
  "language_info": {
   "codemirror_mode": {
    "name": "ipython",
    "version": 3
   },
   "file_extension": ".py",
   "mimetype": "text/x-python",
   "name": "python",
   "nbconvert_exporter": "python",
   "pygments_lexer": "ipython3",
   "version": "3.11.5"
  }
 },
 "nbformat": 4,
 "nbformat_minor": 2
}
