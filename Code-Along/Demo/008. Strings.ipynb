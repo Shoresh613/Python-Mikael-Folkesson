{
 "cells": [
  {
   "cell_type": "markdown",
   "metadata": {},
   "source": [
    "# Strings\n",
    "- Data type used in Python for storing text.\n",
    "- Literal values with single or double quotes.\n",
    "- Strings are immutable (not changeable, label allocated to new memory when changing)\n",
    "\n",
    "## Concatenate\n",
    "In python we can concatenate two or more strings using the + operator."
   ]
  },
  {
   "cell_type": "code",
   "execution_count": 2,
   "metadata": {},
   "outputs": [
    {
     "name": "stdout",
     "output_type": "stream",
     "text": [
      "Hello World\n"
     ]
    }
   ],
   "source": [
    "string1 = \"Hello\"\n",
    "string2 = \"World\"\n",
    "\n",
    "string3 = string1 + \" \" + string2\n",
    "\n",
    "print(string3)"
   ]
  },
  {
   "cell_type": "markdown",
   "metadata": {},
   "source": [
    "## Multiline strings\n",
    "Python allows string literals to span multiple rows if started and ended by \"\"\", or by '''.\n",
    "They can also be used to frame comments. It's allowed to have the same sign inside the text, as long as not three in a row."
   ]
  },
  {
   "cell_type": "code",
   "execution_count": 4,
   "metadata": {},
   "outputs": [
    {
     "name": "stdout",
     "output_type": "stream",
     "text": [
      "This \n",
      "is\n",
      " an \n",
      " example\n"
     ]
    }
   ],
   "source": [
    "text = \"\"\"This \n",
    "is\n",
    " an \n",
    " example\"\"\"\n",
    "\n",
    "print(text)"
   ]
  },
  {
   "cell_type": "markdown",
   "metadata": {},
   "source": [
    "## Indexing and Slicing"
   ]
  },
  {
   "cell_type": "code",
   "execution_count": 6,
   "metadata": {},
   "outputs": [
    {
     "name": "stdout",
     "output_type": "stream",
     "text": [
      "name = 'Fredrik'\n",
      "name[-1] = 'k'\n",
      "name[:3] = 'Fre'\n"
     ]
    }
   ],
   "source": [
    "name = \"Fredrik\"\n",
    "print(f\"{name = }\")\n",
    "print(f\"{name[-1] = }\") #Count from end\n",
    "print(f\"{name[:3] = }\")"
   ]
  },
  {
   "cell_type": "markdown",
   "metadata": {},
   "source": [
    "## Looping through a string"
   ]
  },
  {
   "cell_type": "code",
   "execution_count": 7,
   "metadata": {},
   "outputs": [
    {
     "name": "stdout",
     "output_type": "stream",
     "text": [
      "F\n",
      "r\n",
      "e\n",
      "d\n",
      "r\n",
      "i\n",
      "k\n"
     ]
    }
   ],
   "source": [
    "name = \"Fredrik\"\n",
    "\n",
    "for char in name:\n",
    "    print(char)"
   ]
  },
  {
   "cell_type": "markdown",
   "metadata": {},
   "source": [
    "## Membership operator with string"
   ]
  },
  {
   "cell_type": "code",
   "execution_count": 11,
   "metadata": {},
   "outputs": [
    {
     "name": "stdout",
     "output_type": "stream",
     "text": [
      "'drik' in name = True\n",
      "name in 'Fredrik Johansson' = True\n",
      "'efg' not in 'abcdefg' = False\n"
     ]
    }
   ],
   "source": [
    "name = \"Fredrik\"\n",
    "\n",
    "print(f\"{'drik' in name = }\")\n",
    "print(f\"{name in 'Fredrik Johansson' = }\")\n",
    "print(f\"{'efg' not in 'abcdefg' = }\")"
   ]
  },
  {
   "cell_type": "markdown",
   "metadata": {},
   "source": [
    "## Escape characters\n",
    "To insert characteers that are illegal in a string, use an escape character. An escape character is a backslash followed by the character you want to insert. An example of an illegal character is a double quote inside a string that is surrounded by double quotes.\n",
    "\n",
    "### Common escape characters\n",
    "- \\\\\" Double quote\n",
    "- \\\\' Single quote\n",
    "- \\\\\\\\ Backslash\n",
    "- \\\\n New line\n",
    "- \\\\t Tab"
   ]
  },
  {
   "cell_type": "code",
   "execution_count": 13,
   "metadata": {},
   "outputs": [
    {
     "name": "stdout",
     "output_type": "stream",
     "text": [
      "Hello\tWorld\n",
      "Here \\ is \"another\" example\n"
     ]
    }
   ],
   "source": [
    "escaped_text = \"Hello\\tWorld\\nHere \\\\ is \\\"another\\\" example\"\n",
    "print(escaped_text)"
   ]
  },
  {
   "cell_type": "markdown",
   "metadata": {},
   "source": [
    "## String methods\n",
    "See for example https://www.w3schools.com/python/python_ref_string.asp"
   ]
  },
  {
   "cell_type": "code",
   "execution_count": 41,
   "metadata": {},
   "outputs": [
    {
     "name": "stdout",
     "output_type": "stream",
     "text": [
      "\"Hello World\".upper() = 'HELLO WORLD'\n",
      "\"Hello World\".lower() = 'hello world'\n",
      "\"hello world\".title() = 'Hello World'\n",
      "\"Hello World\".capitalize() = 'Hello world'\n",
      "Fredrik\n",
      "FREDRIK\n",
      "\"Hello World\".startswith(\"Hello\") = True\n",
      "\"Hello World\".endswith(\"Hello\") = False\n",
      "\n",
      "\"       Hello   World    \".strip() = 'Hello   World'\n",
      "\"       Hello   World    \".lstrip() = 'Hello   World    '\n",
      "\"       Hello   World    \".rstrip() = '       Hello   World'\n",
      "\n",
      "Join multiple strings in iterable\n",
      "\", \".join([\"Pelle\",\"Lars\",\"Lotta\"]) = 'Pelle, Lars, Lotta'\n",
      "Split string into multiple strings\n",
      "\"This is another example\".split() = ['This', 'is', 'another', 'example']\n",
      "\"This is another example\".split(\"a\") = ['This is ', 'nother ex', 'mple']\n",
      "\"Apple, Orange, Melon, Pear\".split(\", \") = ['Apple', 'Orange', 'Melon', 'Pear']\n",
      "\n",
      "Replace part of string\n",
      "This is just an example\n",
      "\n",
      "Find index of substring\n",
      "'This is another example'.find('another') = 8\n"
     ]
    }
   ],
   "source": [
    "# Upper and Lower case\n",
    "print(f'{\"Hello World\".upper() = }')\n",
    "print(f'{\"Hello World\".lower() = }')\n",
    "print(f'{\"hello world\".title() = }')\n",
    "print(f'{\"Hello World\".capitalize() = }')\n",
    "\n",
    "\n",
    "# Doesn't change the string, but returns a new one\n",
    "name = \"Fredrik\"\n",
    "upper_name = name.upper()\n",
    "\n",
    "print(name)\n",
    "print(upper_name)\n",
    "\n",
    "# Check if string starts or ends with substring\n",
    "\n",
    "print(f'{\"Hello World\".startswith(\"Hello\") = }')\n",
    "print(f'{\"Hello World\".endswith(\"Hello\") = }\\n')\n",
    "\n",
    "# Strip is often used when getting input from user\n",
    "\n",
    "print(f'{\"       Hello   World    \".strip() = }')\n",
    "print(f'{\"       Hello   World    \".lstrip() = }')\n",
    "print(f'{\"       Hello   World    \".rstrip() = }\\n')\n",
    "\n",
    "# Join\n",
    "print(\"Join multiple strings in iterable\")\n",
    "print(f'{\", \".join([\"Pelle\",\"Lars\",\"Lotta\"]) = }')\n",
    "\n",
    "# Split\n",
    "print(\"Split string into multiple strings\")\n",
    "print(f'{\"This is another example\".split() = }')\n",
    "print(f'{\"This is another example\".split(\"a\") = }')\n",
    "print(f'{\"Apple, Orange, Melon, Pear\".split(\", \") = }')\n",
    "\n",
    "# Replace part of string\n",
    "print(f\"\\nReplace part of string\")\n",
    "print(f\"{'This is another example'.replace('another','just an')}\")\n",
    "\n",
    "# Find index of substring\n",
    "print(\"\\nFind index of substring\")\n",
    "print(f\"{'This is another example'.find('another') = }\")"
   ]
  },
  {
   "cell_type": "code",
   "execution_count": 35,
   "metadata": {},
   "outputs": [
    {
     "name": "stdout",
     "output_type": "stream",
     "text": [
      "holger\n",
      "och\n",
      "lasse\n",
      "köpte\n",
      "en\n",
      "banan\n"
     ]
    }
   ],
   "source": [
    "text = input(\"Enter some words: \")\n",
    "\n",
    "words = text.split()\n",
    "\n",
    "for word in words:\n",
    "    print(word)"
   ]
  },
  {
   "cell_type": "code",
   "execution_count": 47,
   "metadata": {},
   "outputs": [
    {
     "name": "stdout",
     "output_type": "stream",
     "text": [
      "Fredrik Johansson\n",
      "42\n"
     ]
    },
    {
     "ename": "",
     "evalue": "",
     "output_type": "error",
     "traceback": [
      "\u001b[1;31mThe Kernel crashed while executing code in the the current cell or a previous cell. Please review the code in the cell(s) to identify a possible cause of the failure. Click <a href='https://aka.ms/vscodeJupyterKernelCrash'>here</a> for more info. View Jupyter <a href='command:jupyter.viewOutput'>log</a> for further details."
     ]
    }
   ],
   "source": [
    "data = \"Fredrik Johansson, 42\"\n",
    "\n",
    "# Enklast att göra detta med split, men nu gör vi såhär för att se hur find funkar\n",
    "\n",
    "index = data.find(\",\")\n",
    "\n",
    "name = data[:index]\n",
    "age = data[index+2:]\n",
    "\n",
    "print(name)\n",
    "print(age)"
   ]
  }
 ],
 "metadata": {
  "kernelspec": {
   "display_name": "python-programming-Mikael-Folkesson-Xp2s793V",
   "language": "python",
   "name": "python3"
  },
  "language_info": {
   "codemirror_mode": {
    "name": "ipython",
    "version": 3
   },
   "file_extension": ".py",
   "mimetype": "text/x-python",
   "name": "python",
   "nbconvert_exporter": "python",
   "pygments_lexer": "ipython3",
   "version": "3.11.5"
  },
  "orig_nbformat": 4
 },
 "nbformat": 4,
 "nbformat_minor": 2
}
