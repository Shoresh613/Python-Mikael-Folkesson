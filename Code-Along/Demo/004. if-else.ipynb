{
 "cells": [
  {
   "cell_type": "markdown",
   "metadata": {},
   "source": [
    "# If statements\n",
    "- **if** - Essential part of if-statement\n",
    "- **elif** - Zero, one, or more elif\n",
    "- **else** - Zero, one"
   ]
  },
  {
   "cell_type": "code",
   "execution_count": 4,
   "metadata": {},
   "outputs": [
    {
     "name": "stdout",
     "output_type": "stream",
     "text": [
      "No\n",
      "Hepp\n"
     ]
    }
   ],
   "source": [
    "x = 50\n",
    "\n",
    "if x<10: print(\"Yes\")\n",
    "else: print(\"No\")\n",
    "\n",
    "print(\"Hepp\") # Not dependent on if clause\n",
    "\n",
    "if False: #Empty string, bool False and 0 interpreted as false\n",
    "        print(\"No\")"
   ]
  },
  {
   "cell_type": "markdown",
   "metadata": {},
   "source": [
    "# Ternary operator and one line conditionals\n",
    "\n",
    "A special operator that takes three operands, and returns one of two choices depending on if the middle expression evaluates as true or false. (TrueValue if expression else FalseValue)"
   ]
  },
  {
   "cell_type": "code",
   "execution_count": 9,
   "metadata": {},
   "outputs": [
    {
     "name": "stdout",
     "output_type": "stream",
     "text": [
      "Yes!\n",
      "Fredrik Johansson\n",
      "Please wait 1 second\n"
     ]
    }
   ],
   "source": [
    "name = \"Fredrik\"\n",
    "x=15\n",
    "\n",
    "# One line if statement\n",
    "if x < 10 or name == \"Fredrik\": print(\"Yes!\")\n",
    "\n",
    "# Ternary operator\n",
    "lastname = \"Johansson\" if name == \"Fredrik\" else \"???\" # The part after '=' is called ternary since it has 3 parts\n",
    "print(f\"{name} {lastname}\")\n",
    "\n",
    "seconds = 1\n",
    "print(f\"Please wait {seconds} second{'s' if seconds !=1 else ''}\")"
   ]
  }
 ],
 "metadata": {
  "kernelspec": {
   "display_name": "Python-Mikael-Folkesson-aTHbKsrI",
   "language": "python",
   "name": "python3"
  },
  "language_info": {
   "codemirror_mode": {
    "name": "ipython",
    "version": 3
   },
   "file_extension": ".py",
   "mimetype": "text/x-python",
   "name": "python",
   "nbconvert_exporter": "python",
   "pygments_lexer": "ipython3",
   "version": "3.11.2"
  },
  "orig_nbformat": 4
 },
 "nbformat": 4,
 "nbformat_minor": 2
}
