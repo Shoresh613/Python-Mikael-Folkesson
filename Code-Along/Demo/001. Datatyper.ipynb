{
 "cells": [
  {
   "cell_type": "markdown",
   "metadata": {},
   "source": [
    "# Huvudrubrik\n",
    "\n",
    "## Här har vi underrubriken\n",
    "\n",
    "Och här är texten. **Visst är den *fin*?**"
   ]
  },
  {
   "cell_type": "code",
   "execution_count": 1,
   "metadata": {},
   "outputs": [
    {
     "name": "stdout",
     "output_type": "stream",
     "text": [
      "Hepp!\n"
     ]
    }
   ],
   "source": [
    "print(\"Hepp!\")"
   ]
  },
  {
   "cell_type": "markdown",
   "metadata": {},
   "source": [
    "### Nedan följer ett avsnitt med Code Along lektion 1"
   ]
  },
  {
   "cell_type": "markdown",
   "metadata": {},
   "source": [
    "#### Datatyper\n",
    "\n",
    "- **String** (text)\n",
    "- **Int** (heltal)\n",
    "- **Float** (decimaltal)\n",
    "- **Bool**  (True/False)\n",
    "\n",
    "Python är inte starkt typat. Man kan inte ange datatyper i förväg, som i C#: ``string name=Fredrik`` \n",
    "utan här skriver man: `name=Fredrik`.\n",
    "\n",
    "Alla variabler är objekt, som själva håller reda på vad de är. De kan också byta typ, se nedan."
   ]
  },
  {
   "cell_type": "code",
   "execution_count": 5,
   "metadata": {},
   "outputs": [
    {
     "name": "stdout",
     "output_type": "stream",
     "text": [
      "Fredrik\n",
      "8\n",
      "8\n",
      "3.14\n",
      "True\n"
     ]
    },
    {
     "data": {
      "text/plain": [
       "int"
      ]
     },
     "execution_count": 5,
     "metadata": {},
     "output_type": "execute_result"
    }
   ],
   "source": [
    "myString = name =\"Fredrik\"\n",
    "print(name)\n",
    "\n",
    "name=8\n",
    "print(name)\n",
    "\n",
    "myInt=8\n",
    "print(myInt)\n",
    "\n",
    "myFloat = 3.14\n",
    "print(myFloat)\n",
    "\n",
    "myBool = True\n",
    "print(myBool)\n",
    "\n",
    "type(myInt)"
   ]
  },
  {
   "cell_type": "markdown",
   "metadata": {},
   "source": [
    "#### Literal values\n",
    "\n",
    "| Kod | Förklaring |\n",
    "| -------- | -------- |\n",
    "| \"Hello\" | string, kan deklareras med antingen enkel- eller dubbelfnuttar. Case-Sensitive |\n",
    "| 5 | int |\n",
    "| 4.5 | float |\n",
    "| True | bool |\n",
    "\n",
    "#### Variables\n",
    "- Case-sensitive\n",
    "- Created when first assigned, doesn't need to be declared\n",
    "- Dynamic typing, type referred from assignment, can be re-typed.\n",
    "- Cast type with: ``str(), int(), float(), bool()``\n",
    "- Get type with: `type()`\n",
    "- Use `del()` or just `del ` to delete variables, same as with `if`, parenthesis not needed"
   ]
  },
  {
   "cell_type": "code",
   "execution_count": 3,
   "metadata": {},
   "outputs": [
    {
     "name": "stdout",
     "output_type": "stream",
     "text": [
      "58\n",
      "<class 'int'>\n",
      "<class 'str'>\n",
      "3.0\n"
     ]
    }
   ],
   "source": [
    "import math\n",
    "\n",
    "myNumber = \"56\"\n",
    "myNumber2 = int(myNumber)\n",
    "print(myNumber2+2)\n",
    "\n",
    "print(type(myNumber2))\n",
    "print(type(myNumber))\n",
    "\n",
    "del(myNumber2)\n",
    "# print(myNumber2)\n",
    "\n",
    "print(math.sqrt(9))"
   ]
  },
  {
   "cell_type": "markdown",
   "metadata": {},
   "source": [
    "#### Input\n",
    "\n",
    "Input blir alltid string"
   ]
  },
  {
   "cell_type": "code",
   "execution_count": 12,
   "metadata": {},
   "outputs": [
    {
     "name": "stdout",
     "output_type": "stream",
     "text": [
      "Pung\n"
     ]
    }
   ],
   "source": [
    "name = input(\"Enter your name: \")\n",
    "print(name)"
   ]
  },
  {
   "cell_type": "markdown",
   "metadata": {},
   "source": [
    "#### Operatorer"
   ]
  }
 ],
 "metadata": {
  "kernelspec": {
   "display_name": "Python 3",
   "language": "python",
   "name": "python3"
  },
  "language_info": {
   "codemirror_mode": {
    "name": "ipython",
    "version": 3
   },
   "file_extension": ".py",
   "mimetype": "text/x-python",
   "name": "python",
   "nbconvert_exporter": "python",
   "pygments_lexer": "ipython3",
   "version": "3.11.2"
  },
  "orig_nbformat": 4
 },
 "nbformat": 4,
 "nbformat_minor": 2
}
