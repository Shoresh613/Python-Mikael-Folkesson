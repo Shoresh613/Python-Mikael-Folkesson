{
 "cells": [
  {
   "cell_type": "markdown",
   "metadata": {},
   "source": [
    "# Operator overloading\n",
    "\n",
    "Check python docs special method names and operator overloading"
   ]
  },
  {
   "cell_type": "code",
   "execution_count": 25,
   "metadata": {},
   "outputs": [
    {
     "data": {
      "text/plain": [
       "'PelleMåns'"
      ]
     },
     "execution_count": 25,
     "metadata": {},
     "output_type": "execute_result"
    }
   ],
   "source": [
    "class Cat:\n",
    "    def __init__(self, name, age):\n",
    "        self.name=name\n",
    "        self.age=age\n",
    "    \n",
    "    def __add__(self, other):\n",
    "        return self.name + other.name\n",
    "\n",
    "cat_a = Cat(\"Pelle\", 8)\n",
    "cat_b = Cat(\"Måns\", 9)\n",
    "\n",
    "# Evaualtes expression from left to right. You can add string by adding it last.\n",
    "cat_a + cat_b"
   ]
  },
  {
   "cell_type": "code",
   "execution_count": 1,
   "metadata": {},
   "outputs": [
    {
     "data": {
      "text/plain": [
       "8"
      ]
     },
     "execution_count": 1,
     "metadata": {},
     "output_type": "execute_result"
    }
   ],
   "source": [
    "5 + 3"
   ]
  },
  {
   "cell_type": "code",
   "execution_count": 2,
   "metadata": {},
   "outputs": [
    {
     "data": {
      "text/plain": [
       "'HelloWorld'"
      ]
     },
     "execution_count": 2,
     "metadata": {},
     "output_type": "execute_result"
    }
   ],
   "source": [
    "\"Hello\" + \"World\""
   ]
  },
  {
   "cell_type": "code",
   "execution_count": 35,
   "metadata": {},
   "outputs": [
    {
     "name": "stdout",
     "output_type": "stream",
     "text": [
      "Kelvin = 278.15, Celsius = 5.0\n",
      "Kelvin = 5, Celsius = -268.15\n",
      "Kelvin = 5, Celsius = -268.15\n"
     ]
    },
    {
     "data": {
      "text/plain": [
       "Kelvin = 5, Celsius = -268.15"
      ]
     },
     "execution_count": 35,
     "metadata": {},
     "output_type": "execute_result"
    }
   ],
   "source": [
    "class Temperature:\n",
    "    def __init__(self, kelvin=None, celsius=None) -> None:\n",
    "        if kelvin is not None:\n",
    "            self.kelvin = kelvin\n",
    "        elif celsius is not None:\n",
    "            self.celsius = celsius\n",
    "    \n",
    "    # Getter method\n",
    "    @property\n",
    "    def kelvin(self):\n",
    "        return self._kelvin\n",
    "\n",
    "    # Properties need setter methods, otherwise they can't be set, not even in init\n",
    "    @kelvin.setter\n",
    "    def kelvin(self,kelvin):\n",
    "        self._kelvin = kelvin\n",
    "\n",
    "    @property\n",
    "    def celsius(self):\n",
    "        return self._kelvin - 273.15\n",
    "\n",
    "    @celsius.setter\n",
    "    def celsius(self,celsius):\n",
    "        self._kelvin = celsius + 273.15\n",
    "\n",
    "    def __repr__(self):\n",
    "        return f\"Kelvin = {self.kelvin}, Celsius = {self.celsius}\"\n",
    "    \n",
    "    def __add__(self,other):\n",
    "        if type(other) not in [float,int,Temperature]:\n",
    "            raise TypeError(f\"Usupported operand type(s) for +: 'Temperature' and {type(other)}!\")\n",
    "        kelvin = other if type(other) in [float, int] else other.kelvin\n",
    "        return Temperature(kelvin)\n",
    "\n",
    "    # This will only be called if the data type to the left of the Temperature class doens't support adding Temperature objects\n",
    "    def __radd__(self,other):\n",
    "        return self.__add__(other)\n",
    "\n",
    "t1 = Temperature(celsius=5)\n",
    "t2 = Temperature(kelvin=5)\n",
    "t3 = Temperature(kelvin=3)\n",
    "\n",
    "print(t1)\n",
    "print(t2)\n",
    "\n",
    "t1 + t2 + t3 + 20 + t2 #+ Cat('Mulle', 28)\n",
    "\n",
    "5 + t2 #This calls the add method of the int class, adding a __radd__  (right side add) method makes it possible.\n"
   ]
  }
 ],
 "metadata": {
  "kernelspec": {
   "display_name": "python-programming-Mikael-Folkesson-Xp2s793V",
   "language": "python",
   "name": "python3"
  },
  "language_info": {
   "codemirror_mode": {
    "name": "ipython",
    "version": 3
   },
   "file_extension": ".py",
   "mimetype": "text/x-python",
   "name": "python",
   "nbconvert_exporter": "python",
   "pygments_lexer": "ipython3",
   "version": "3.11.5"
  },
  "orig_nbformat": 4
 },
 "nbformat": 4,
 "nbformat_minor": 2
}
