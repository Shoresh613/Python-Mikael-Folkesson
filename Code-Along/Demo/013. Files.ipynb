{
 "cells": [
  {
   "cell_type": "markdown",
   "metadata": {},
   "source": [
    "# Load and save data to files\n",
    "We can categorize files into 2 main categories, text files and binary files.\n",
    "- Text files store text / characters in a human readable format.\n",
    "- Binary files store byte data (1's and 0's) that only computers understand. (Won't go into this aspect during this course)\n",
    "\n",
    "## Common text based file formats to store data\n",
    "- .txt\n",
    "- .csv\n",
    "- .json\n",
    "\n",
    "## File names and file paths\n",
    "A file name usually has two parts, the name and the extension, separated by a period (name.extension).\n",
    "\n",
    "E.g. hello.txt, data.json, myimage.jpg\n",
    "\n",
    "Paths can be expressed as either relative or absolute:\n",
    "- **Absolute:** Full path to access a file or folder, e.g. C:\\users\\fredrik\\desktop\\myfile.txt\n",
    "- **Relative:** Relative from the current active folder: data/data.json\n",
    "\n",
    "## File modes\n",
    "It's possible to open a file in python in different modes:\n",
    "- **'r'**: for reading\n",
    "- **'w'**: for writing\n",
    "- **'a'**: for appending"
   ]
  },
  {
   "cell_type": "markdown",
   "metadata": {},
   "source": [
    "## Open file for reading"
   ]
  },
  {
   "cell_type": "code",
   "execution_count": 10,
   "metadata": {},
   "outputs": [
    {
     "name": "stdout",
     "output_type": "stream",
     "text": [
      "BLobba fluffa moppa luuuuuuulMore dataNy rad\n",
      "\n",
      "Kealllle\n"
     ]
    }
   ],
   "source": [
    "file = open(\"..\\..\\data\\hello.txt\")\n",
    "\n",
    "content = file.read()\n",
    "file.close()\n",
    "\n",
    "print(content)"
   ]
  },
  {
   "cell_type": "markdown",
   "metadata": {},
   "source": [
    "## Open with context management"
   ]
  },
  {
   "cell_type": "code",
   "execution_count": 13,
   "metadata": {},
   "outputs": [
    {
     "name": "stdout",
     "output_type": "stream",
     "text": [
      "BLobba fluffa moppa luuuuuuulMore dataNy rad\n",
      "\n",
      "Kealllle\n",
      "Testeslitest\n"
     ]
    }
   ],
   "source": [
    "# Better solution with automatic file closing\n",
    "\n",
    "with open(\"..\\..\\data\\hello.txt\") as file:\n",
    "    content = file.read()\n",
    "\n",
    "print(content)"
   ]
  },
  {
   "cell_type": "markdown",
   "metadata": {},
   "source": [
    "## Open file for writing"
   ]
  },
  {
   "cell_type": "code",
   "execution_count": 12,
   "metadata": {},
   "outputs": [],
   "source": [
    "with open(\"..\\..\\data\\hello.txt\",\"a\") as file: \n",
    "    new_content = input(\"Enter text: \")\n",
    "    file.write(\"\\n\" + new_content)\n"
   ]
  },
  {
   "cell_type": "markdown",
   "metadata": {},
   "source": [
    "## Mini-uppgift\n",
    "Skapa ett program som har en tom lista. När programmet körs får användaren mata in namn (input) i en loop tills användaren matar in en tom rad. När den är klar skrivs alla namn ut på skärmen och listan sparas till en fil, med ett namn på varje rad. Nästa gång man startar programmet läser den in de befintliga namnen och skriver ut dem."
   ]
  },
  {
   "cell_type": "code",
   "execution_count": 6,
   "metadata": {},
   "outputs": [
    {
     "name": "stdout",
     "output_type": "stream",
     "text": [
      "Current list of names:\n",
      "Mikael \n",
      "\n",
      "Pelle \n",
      "\n",
      "['Mikael \\n', 'Pelle \\n']\n",
      "Names are saved!\n"
     ]
    }
   ],
   "source": [
    "import os\n",
    "\n",
    "file_path = \"..\\\\..\\\\data\\\\names.txt\"\n",
    "name_list = []\n",
    "\n",
    "if os.path.exists(file_path):\n",
    "    with open(file_path) as file:\n",
    "        name_list = file.readlines()\n",
    "    for i, name in enumerate(name_list):\n",
    "        if name == \" \\n\":\n",
    "            name_list.pop(i)\n",
    "    print(f\"Current list of names:\")\n",
    "    for name in name_list:\n",
    "        if name == \" \":\n",
    "            del name\n",
    "        name = name.strip(\"\\\\n\")\n",
    "        print(f\"{name}\")\n",
    "\n",
    "while(True):\n",
    "    new_name=input(\"Enter names one at a time, abort by entering nothing: \")\n",
    "    if new_name:\n",
    "        name_list.append(new_name)\n",
    "    else:\n",
    "        break\n",
    "\n",
    "with open(file_path,\"w\") as file: \n",
    "    file.writelines([name + \" \\n\" for name in name_list ])\n",
    "\n",
    "print(f\"{[name for name in name_list]}\")    \n",
    "print(\"Names are saved!\")"
   ]
  },
  {
   "cell_type": "markdown",
   "metadata": {},
   "source": [
    "## Write .CSV file"
   ]
  },
  {
   "cell_type": "code",
   "execution_count": 51,
   "metadata": {},
   "outputs": [
    {
     "name": "stdout",
     "output_type": "stream",
     "text": [
      "[{'name': 'Adam', 'class': 'AI23', 'email': 'adam@gmail.com'}, {'name': 'Kalle', 'class': 'AI23', 'email': 'kalle@gmail.com'}, {'name': 'Eva', 'class': 'AI23', 'email': 'eva@gmail.com'}]\n"
     ]
    }
   ],
   "source": [
    "students = [\n",
    "    {\n",
    "        \"name\": \"Adam\",\n",
    "        \"class\": \"AI23\",\n",
    "        \"email\": \"adam@gmail.com\",\n",
    "    },\n",
    "    {\n",
    "        \"name\": \"Kalle\",\n",
    "        \"class\": \"AI23\",\n",
    "        \"email\": \"kalle@gmail.com\",\n",
    "    },\n",
    "    {\n",
    "        \"name\": \"Eva\",\n",
    "        \"class\": \"AI23\",\n",
    "        \"email\": \"eva@gmail.com\",\n",
    "    },\n",
    "    ]\n",
    "print(students)\n",
    "\n",
    "with open(\"..\\\\..\\\\data\\\\students.csv\", \"w\") as file:\n",
    "    file.write(\"name,class,email\\n\")\n",
    "    for student in students:\n",
    "        file.write(f\"{student['name']},{student['class']},{student['email']}\\n\")"
   ]
  },
  {
   "cell_type": "markdown",
   "metadata": {},
   "source": [
    "## Using CSV package"
   ]
  },
  {
   "cell_type": "code",
   "execution_count": 48,
   "metadata": {},
   "outputs": [
    {
     "name": "stdout",
     "output_type": "stream",
     "text": [
      "[{'name': 'Adam', 'class': 'AI23', 'email': 'adam@gmail.com'}, {'name': 'Kalle', 'class': 'AI23', 'email': 'kalle@gmail.com'}, {'name': 'Eva', 'class': 'AI23', 'email': 'eva@gmail.com'}]\n"
     ]
    }
   ],
   "source": [
    "import csv\n",
    "\n",
    "students = []\n",
    "\n",
    "with open(\"..\\\\..\\\\data\\\\students.csv\") as file:\n",
    "    reader = csv.DictReader(file)\n",
    "\n",
    "    for row in reader:\n",
    "        students.append({\"name\": row[\"name\"], \"class\": row[\"class\"], \"email\": row[\"email\"]})\n",
    "\n",
    "print(students)"
   ]
  },
  {
   "cell_type": "markdown",
   "metadata": {},
   "source": [
    "## Json serialization and deserialization"
   ]
  },
  {
   "cell_type": "code",
   "execution_count": 8,
   "metadata": {},
   "outputs": [],
   "source": [
    "import json\n",
    "\n",
    "teacher = {\n",
    "    \"firstname\": \"Fredrik\",\n",
    "    \"lastname\": \"Johansson\",\n",
    "    \"age\": 42,\n",
    "    \"languages\": [\"Python\",\"C#\",\"JavaScript\"],\n",
    "    \"contactinfo\": {\n",
    "        \"phone\": \"0702345634\",\n",
    "        \"email\": [\n",
    "            \"fredrik@gmail.com\",\n",
    "            \"fredrik.johansson@hotmail.com\",\n",
    "        ]\n",
    "    },\n",
    "}\n",
    "\n",
    "serialized_data = json.dumps(teacher, indent=4)\n",
    "#print(serialized_data)\n",
    "\n",
    "with open(\"..\\\\..\\\\data\\\\teacher.json\",\"w\") as file:\n",
    "    file.write(serialized_data)"
   ]
  },
  {
   "cell_type": "markdown",
   "metadata": {},
   "source": [
    "### Read .json file"
   ]
  },
  {
   "cell_type": "code",
   "execution_count": 11,
   "metadata": {},
   "outputs": [
    {
     "name": "stdout",
     "output_type": "stream",
     "text": [
      "{'firstname': 'Fredrik', 'lastname': 'Johansson', 'age': 42, 'languages': ['Python', 'C#', 'JavaScript'], 'contactinfo': {'phone': '0702345634', 'email': ['fredrik@gmail.com', 'fredrik.johansson@hotmail.com']}}\n"
     ]
    }
   ],
   "source": [
    "with open(\"..\\\\..\\\\data\\\\teacher.json\") as file:\n",
    "    data = file.read()\n",
    "\n",
    "teacher = json.loads(data) # s in loads indicates dump as string\n",
    "\n",
    "print(teacher)"
   ]
  },
  {
   "cell_type": "markdown",
   "metadata": {},
   "source": [
    "### Example reading open dataset from kaggle"
   ]
  },
  {
   "cell_type": "code",
   "execution_count": 36,
   "metadata": {},
   "outputs": [
    {
     "name": "stdout",
     "output_type": "stream",
     "text": [
      "205\n",
      "{'aspiration': 'std', 'body-style': 'convertible', 'bore': 3.47, 'city-mpg': 21.0, 'compression-ratio': '9', 'curb-weight': 2548, 'drive-wheels': 'rwd', 'engine-location': 'front', 'engine-size': 130.0, 'engine-type': 'dohc', 'fuel-system': 'mpfi', 'fuel-type': 'gas', 'height': 48.8, 'highway-mpg': 27.0, 'horsepower': 111.0, 'length': 168.8, 'make': 'alfa-romero', 'normalized-losses': None, 'num-of-cylinders': 'four', 'num-of-doors': 'two', 'peak-rpm': 5000.0, 'price': 13495.0, 'stroke': 2.68, 'symboling': 3.0, 'wheel-base': 88.6, 'width': 64.1}\n",
      "aspiration = std\n",
      "body-style = convertible\n",
      "bore = 3.47\n",
      "city-mpg = 21.0\n",
      "compression-ratio = 9\n",
      "curb-weight = 2548\n",
      "drive-wheels = rwd\n",
      "engine-location = front\n",
      "engine-size = 130.0\n",
      "engine-type = dohc\n",
      "fuel-system = mpfi\n",
      "fuel-type = gas\n",
      "height = 48.8\n",
      "highway-mpg = 27.0\n",
      "horsepower = 111.0\n",
      "length = 168.8\n",
      "make = alfa-romero\n",
      "normalized-losses = None\n",
      "num-of-cylinders = four\n",
      "num-of-doors = two\n",
      "peak-rpm = 5000.0\n",
      "price = 13495.0\n",
      "stroke = 2.68\n",
      "symboling = 3.0\n",
      "wheel-base = 88.6\n",
      "width = 64.1\n",
      "alfa-romero\n",
      "audi\n",
      "bmw\n",
      "chevrolet\n",
      "dodge\n",
      "honda\n",
      "isuzu\n",
      "jaguar\n",
      "mazda\n",
      "mercedes-benz\n",
      "mercury\n",
      "mitsubishi\n",
      "nissan\n",
      "peugot\n",
      "plymouth\n",
      "porsche\n",
      "renault\n",
      "saab\n",
      "subaru\n",
      "toyota\n",
      "volkswagen\n",
      "volvo\n"
     ]
    },
    {
     "data": {
      "image/png": "[encoded data removed]",
      "text/plain": [
       "<Figure size 640x480 with 1 Axes>"
      ]
     },
     "metadata": {},
     "output_type": "display_data"
    }
   ],
   "source": [
    "import matplotlib.pyplot as plt\n",
    "\n",
    "with open(\"..\\\\..\\\\data\\\\autos_json.json\") as file:\n",
    "    data = file.read()\n",
    "\n",
    "cars = json.loads(data)\n",
    "\n",
    "print(len(cars))\n",
    "print(cars[0])\n",
    "\n",
    "for key, value in cars[0].items():\n",
    "    print(f\"{key} = {value}\")\n",
    "\n",
    "brands = set([car[\"make\"] for car in cars])\n",
    "\n",
    "for brand in sorted(brands):\n",
    "    print(brand)\n",
    "\n",
    "makes = [car[\"make\"] for car in cars]\n",
    "prices = [car[\"price\"] for car in cars]\n",
    "\n",
    "cmap = plt.cm.coolwarm\n",
    "inferno_cmap = plt.cm.coolwarm\n",
    "\n",
    "plt.xticks(rotation=90)\n",
    "plt.scatter(makes,prices,c=prices, cmap=cmap)\n",
    "plt.show()"
   ]
  }
 ],
 "metadata": {
  "kernelspec": {
   "display_name": "python-programming-Mikael-Folkesson-Xp2s793V",
   "language": "python",
   "name": "python3"
  },
  "language_info": {
   "codemirror_mode": {
    "name": "ipython",
    "version": 3
   },
   "file_extension": ".py",
   "mimetype": "text/x-python",
   "name": "python",
   "nbconvert_exporter": "python",
   "pygments_lexer": "ipython3",
   "version": "3.11.5"
  },
  "orig_nbformat": 4
 },
 "nbformat": 4,
 "nbformat_minor": 2
}
