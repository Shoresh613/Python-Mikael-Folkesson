{
 "cells": [
  {
   "cell_type": "markdown",
   "metadata": {},
   "source": [
    "# Object oriented programming\n",
    "- Optional in Python, unlike in e.g. Java and C#\n",
    "- A \"class\" is a blueprint that can be used to create objects\n",
    "- An \"instance\" is the actual object containing data and methods"
   ]
  },
  {
   "cell_type": "code",
   "execution_count": 8,
   "metadata": {},
   "outputs": [
    {
     "name": "stdout",
     "output_type": "stream",
     "text": [
      "Fredrik Johansson\n",
      "Anna Karlsson\n"
     ]
    }
   ],
   "source": [
    "# Functional programming solution\n",
    "\n",
    "student_a = {\"FirstName\": \"Fredrik\", \"LastName\": \"Johansson\", \"Age\": \"42\", \"Grade\": \"3.4\"}\n",
    "student_b = {\"FirstName\": \"Anna\", \"LastName\": \"Karlsson\", \"Age\": \"24\", \"Grade\": \"4.2\"}\n",
    "\n",
    "students = [student_a, student_b]\n",
    "\n",
    "def set_grade(student, grade):\n",
    "    student[\"Grade\"] = grade\n",
    "\n",
    "def get_name(student):\n",
    "    return f'{student[\"FirstName\"]} {student[\"LastName\"]}'\n",
    "\n",
    "for student in students:\n",
    "    set_grade(student,3.0)\n",
    "    print(get_name(student))"
   ]
  },
  {
   "cell_type": "markdown",
   "metadata": {},
   "source": [
    "## Object oriented solution"
   ]
  },
  {
   "cell_type": "code",
   "execution_count": 27,
   "metadata": {},
   "outputs": [],
   "source": [
    "class Student:\n",
    "    # The self object is always automatically passed as the first argument to a method\n",
    "    def __init__(self, name, grade):\n",
    "        self.grade = grade\n",
    "        self.name=name\n",
    "        self.age=0\n",
    "\n",
    "    def set_grade(self, grade):\n",
    "        self.grade = grade\n",
    "    "
   ]
  },
  {
   "cell_type": "code",
   "execution_count": 28,
   "metadata": {},
   "outputs": [
    {
     "name": "stdout",
     "output_type": "stream",
     "text": [
      "Fredrik\n",
      "Anna\n"
     ]
    }
   ],
   "source": [
    "# When creating a new object, __New__() is called by Python, creating a reference to the new object, passing that reference to __init__() \n",
    "student_a = Student(\"Fredrik\", 4.5)\n",
    "student_b = Student(\"Anna\", 3.5)\n",
    "\n",
    "student_a.name = \"Fredrik\" # Settings attributes is possible directly in Python, withoug even defining the variables in __init__\n",
    "student_a.age = 42 # It's quite allright, as it's just a dictionary that you can add a new key to if it doesn't exist.\n",
    "student_b.name = \"Anna\" # There is such an optional limit possible in newer versions of Python though\n",
    "\n",
    "student_a.set_grade(4.6)\n",
    "student_b.set_grade(3.2)\n",
    "\n",
    "print(student_a.name)\n",
    "print(student_b.name)\n",
    "# print(student_a.__dict__) # Each object has a built in dict in the background, not to access directly except in very rare cases"
   ]
  },
  {
   "cell_type": "code",
   "execution_count": 45,
   "metadata": {},
   "outputs": [
    {
     "name": "stdout",
     "output_type": "stream",
     "text": [
      "Hello, my name is Misse, and I am 3 years old\n",
      "Hi Kisse, my name is Misse, and I'm 1 years older than you\n",
      "Hi Mjau, my name is Kisse, and I'm 3 years younger than you\n",
      "Hi Mjau, my name is Laban, and we are both 5 years old\n",
      "Hi, my name is Misse, and my best friend is Kisse\n",
      "Hi, my name is Kisse, and my best friend is Misse\n",
      "Hi, my name is Mjau, and I have no best friend, but I'm cool anyway\n",
      "Hi, my name is Laban, and I have no best friend, but I'm cool anyway\n"
     ]
    }
   ],
   "source": [
    "class Cat:\n",
    "    def __init__(self, name, age):\n",
    "        self.name = name\n",
    "        self.age = age\n",
    "        self.best_friend = None\n",
    "\n",
    "    def greet(self, other_cat=None):\n",
    "        \n",
    "        if other_cat:\n",
    "            print(f\"Hi {other_cat.name}, my name is {self.name}, and \",end=\"\")\n",
    "            if other_cat.age < self.age:\n",
    "                print(f\"I'm {self.age-other_cat.age} years older than you\")\n",
    "            elif other_cat.age == self.age:\n",
    "                print(f\"we are both {self.age} years old\")\n",
    "            else:\n",
    "                print(f\"I'm {other_cat.age-self.age} years younger than you\")\n",
    "        else:\n",
    "            print(f\"Hello, my name is {self.name}, and I am {self.age} years old\")\n",
    "    def print_best_friend(self):\n",
    "        if self.best_friend:\n",
    "            print(f\"Hi, my name is {self.name}, and my best friend is {self.best_friend.name}\")\n",
    "        else:\n",
    "            print(f\"Hi, my name is {self.name}, and I have no best friend, but I'm cool anyway\")\n",
    "        \n",
    "\n",
    "# Put similar objects in lists. You don't want a plethora of variables.\n",
    "cats = []\n",
    "cats.append(Cat(\"Misse\", 3))\n",
    "cats.append(Cat(\"Kisse\", 2))\n",
    "cats.append(Cat(\"Mjau\", 5))\n",
    "cats.append(Cat(\"Laban\", 5))\n",
    "\n",
    "cats[0].best_friend = cats[1]\n",
    "cats[1].best_friend = cats[0]\n",
    "\n",
    "cats[0].greet()\n",
    "cats[0].greet(cats[1])\n",
    "cats[1].greet(cats[2])\n",
    "cats[3].greet(cats[2])\n",
    "\n",
    "for cat in cats:\n",
    "    cat.print_best_friend()"
   ]
  }
 ],
 "metadata": {
  "kernelspec": {
   "display_name": "python-programming-Mikael-Folkesson-Xp2s793V",
   "language": "python",
   "name": "python3"
  },
  "language_info": {
   "codemirror_mode": {
    "name": "ipython",
    "version": 3
   },
   "file_extension": ".py",
   "mimetype": "text/x-python",
   "name": "python",
   "nbconvert_exporter": "python",
   "pygments_lexer": "ipython3",
   "version": "3.11.5"
  },
  "orig_nbformat": 4
 },
 "nbformat": 4,
 "nbformat_minor": 2
}
