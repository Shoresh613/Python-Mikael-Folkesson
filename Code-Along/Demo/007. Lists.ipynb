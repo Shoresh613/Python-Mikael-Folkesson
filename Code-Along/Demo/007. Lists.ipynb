{
 "cells": [
  {
   "cell_type": "markdown",
   "metadata": {},
   "source": [
    "Lists are one of 4 built in datatypes in Python.\n",
    "- Lists are used to store multiple items in a single variable.\n",
    "- Lists are created using square brackets\n",
    "- List items are ordered, changeable (muteable), and allow duplicate values\n",
    "- List items can be of any data type, and can containt differend data types."
   ]
  },
  {
   "cell_type": "code",
   "execution_count": 1,
   "metadata": {},
   "outputs": [
    {
     "name": "stdout",
     "output_type": "stream",
     "text": [
      "['apple', 'banana', 'cherry']\n",
      "len(fruits) = 4\n",
      "fruits.count('apple') = 1\n"
     ]
    }
   ],
   "source": [
    "fruits = [\"apple\",\"banana\",\"cherry\"]\n",
    "\n",
    "\n",
    "print(fruits) \n",
    "fruits.append(\"melon\")\n",
    "print(f\"{len(fruits) = }\") # To count number of items in list\n",
    "print(f\"{fruits.count('apple') = }\") # To count occurences of specific item in list\n",
    "\n"
   ]
  },
  {
   "cell_type": "markdown",
   "metadata": {},
   "source": [
    "## Mini-uppgift\n",
    "\n",
    "Skriv ett program som ber användaren mata in färger, en i taget, tills anvädarens input är tom. Varje färg ska läggas i en lista, och när användarens inmatning är slut skrivs listan ut, samt hur många färger det är på listan."
   ]
  },
  {
   "cell_type": "code",
   "execution_count": 7,
   "metadata": {},
   "outputs": [
    {
     "name": "stdout",
     "output_type": "stream",
     "text": [
      "['bl', 'flgkldf', 'dflgkdf']\n",
      "Antal färger du matat in är: 3\n"
     ]
    }
   ],
   "source": [
    "colors = []\n",
    "while(True):\n",
    "    color=input(\"Mata in en färg. Avsluta genom att inte ange någonting: \")\n",
    "    if not color:\n",
    "        print(colors)\n",
    "        print(f\"Antal färger du matat in är: {len(colors)}\")\n",
    "        break\n",
    "    else:\n",
    "        colors.append(color)"
   ]
  },
  {
   "cell_type": "code",
   "execution_count": 11,
   "metadata": {},
   "outputs": [
    {
     "name": "stdout",
     "output_type": "stream",
     "text": [
      "['svart', 'brun', 'lila', 'rosa']\n",
      "Antal färger du matat in är: 4\n"
     ]
    }
   ],
   "source": [
    "colors = []\n",
    "\n",
    "while (input_string := input(\"Add color: \")) and input_string != \"\":\n",
    "    colors.append(input_string)\n",
    "\n",
    "print(colors)\n",
    "print(f\"Antal färger du matat in är: {len(colors)}\")"
   ]
  },
  {
   "cell_type": "markdown",
   "metadata": {},
   "source": [
    "## Indexing and slicing\n",
    "- List items are indexed, the first item has index [0]\n",
    "- Make sure the index exists, otherwise the program will crash (OK when slicing)\n",
    "- Negative indexing: -1 refers to the last item, -2 to the second last etc\n",
    "- Slicing: Specifying a range of indexes creates a new list with the specified items. [start:stop:step (optional)]"
   ]
  },
  {
   "cell_type": "code",
   "execution_count": 11,
   "metadata": {},
   "outputs": [
    {
     "name": "stdout",
     "output_type": "stream",
     "text": [
      "fruits[0] = 'apple'\n",
      "fruits[-3][1] = 'a'\n",
      "fruits[2:5] = ['cherry', 'melon']\n",
      "fruits[:5] = ['apple', 'banana', 'cherry', 'melon']\n",
      "fruits[5:] = []\n",
      "fruits[:] = ['apple', 'banana', 'cherry', 'melon']\n",
      "fruits[-2:] = ['cherry', 'melon']\n",
      "fruits[::2] = ['apple', 'cherry']\n",
      "fruits[::-1] = ['melon', 'cherry', 'banana', 'apple']\n"
     ]
    }
   ],
   "source": [
    "print(f\"{fruits[0] = }\")\n",
    "print(f\"{fruits[-3][1] = }\")\n",
    "print(f\"{fruits[2:5] = }\")\n",
    "print(f\"{fruits[:5] = }\")\n",
    "print(f\"{fruits[5:] = }\")\n",
    "print(f\"{fruits[:] = }\")\n",
    "print(f\"{fruits[-2:] = }\")\n",
    "print(f\"{fruits[::2] = }\")\n",
    "print(f\"{fruits[::-1] = }\")"
   ]
  },
  {
   "cell_type": "markdown",
   "metadata": {},
   "source": [
    "## Looping through a list"
   ]
  },
  {
   "cell_type": "code",
   "execution_count": 14,
   "metadata": {},
   "outputs": [
    {
     "name": "stdout",
     "output_type": "stream",
     "text": [
      "apple, banana, "
     ]
    }
   ],
   "source": [
    "for fruit in fruits[:-2]:\n",
    "    print(fruit, end=\", \")"
   ]
  },
  {
   "cell_type": "code",
   "execution_count": 16,
   "metadata": {},
   "outputs": [
    {
     "name": "stdout",
     "output_type": "stream",
     "text": [
      "0, apple\n",
      "1, banana\n",
      "2, cherry\n",
      "3, melon\n"
     ]
    }
   ],
   "source": [
    "count = 0\n",
    "for fruit in fruits:\n",
    "    print(f\"{count}, {fruit}\")\n",
    "    count +=1"
   ]
  },
  {
   "cell_type": "code",
   "execution_count": 17,
   "metadata": {},
   "outputs": [
    {
     "name": "stdout",
     "output_type": "stream",
     "text": [
      "0, apple\n",
      "1, banana\n",
      "2, cherry\n",
      "3, melon\n"
     ]
    }
   ],
   "source": [
    "# Samma som ovan fast smidigare\n",
    "for index, fruit in enumerate(fruits):\n",
    "    print(f\"{index}, {fruit}\")"
   ]
  },
  {
   "cell_type": "markdown",
   "metadata": {},
   "source": [
    "## List comprehension\n",
    "\n",
    "Syntax: [item for item in my_list]\n",
    "Syntax with conditional: [item for item in my_list] if condition==True"
   ]
  },
  {
   "cell_type": "code",
   "execution_count": 23,
   "metadata": {},
   "outputs": [
    {
     "name": "stdout",
     "output_type": "stream",
     "text": [
      "['apple', 'banana']\n",
      "y = [0, 2, 4, 6, 8, 10, 12, 14, 16, 18]\n"
     ]
    }
   ],
   "source": [
    "fruits_with_a = [fruit for fruit in fruits if 'a' in fruit]\n",
    "\n",
    "print(fruits_with_a)\n",
    "\n",
    "x = list(range(10))\n",
    "\n",
    "#    uttrycket vad jag vill göra med varje item är det första som står\n",
    "y = [item*2 for item in x ]\n",
    "print(f\"{y = }\")"
   ]
  },
  {
   "cell_type": "markdown",
   "metadata": {},
   "source": [
    "# Miniuppgift 2\n",
    "Skapa manuellt en lista i koden med 5 frukter. Använd list comprehension för att skapa en ny lista med samma frukter, men med ett utropstecken i slutet på varje fruktsträng."
   ]
  },
  {
   "cell_type": "code",
   "execution_count": 24,
   "metadata": {},
   "outputs": [
    {
     "name": "stdout",
     "output_type": "stream",
     "text": [
      "['apple!', 'banana!', 'orange!', 'papaya!', 'coconut!']\n"
     ]
    }
   ],
   "source": [
    "fruits = [\"apple\",\"banana\",\"orange\",\"papaya\",\"coconut\"]\n",
    "\n",
    "bang_fruits = [fruit+\"!\" for fruit in fruits] \n",
    "print(bang_fruits)"
   ]
  },
  {
   "cell_type": "markdown",
   "metadata": {},
   "source": [
    "# Miniuppgift 3\n",
    "a) Skapa en ny lista från listan med frukter, som tar med alla frukter där namnet är 5 bokstäver.\n",
    "b) Skapa en lista med alla heltal 0 till 100. Skapa en ny lista som innehåller alla jämna tal från den första listan."
   ]
  },
  {
   "cell_type": "code",
   "execution_count": 29,
   "metadata": {},
   "outputs": [
    {
     "name": "stdout",
     "output_type": "stream",
     "text": [
      "['apple']\n"
     ]
    }
   ],
   "source": [
    "# a)\n",
    "fruit_five = [fruit for fruit in fruits if len(fruit)==5]\n",
    "print(fruit_five)"
   ]
  },
  {
   "cell_type": "code",
   "execution_count": 27,
   "metadata": {},
   "outputs": [
    {
     "name": "stdout",
     "output_type": "stream",
     "text": [
      "[0, 2, 4, 6, 8, 10, 12, 14, 16, 18, 20, 22, 24, 26, 28, 30, 32, 34, 36, 38, 40, 42, 44, 46, 48, 50, 52, 54, 56, 58, 60, 62, 64, 66, 68, 70, 72, 74, 76, 78, 80, 82, 84, 86, 88, 90, 92, 94, 96, 98, 100]\n"
     ]
    }
   ],
   "source": [
    "# b)\n",
    "integers = list(range(101))\n",
    "\n",
    "even_integers = [integer for integer in integers if integer%2 ==0]\n",
    "\n",
    "print(even_integers)"
   ]
  }
 ],
 "metadata": {
  "kernelspec": {
   "display_name": "Python 3",
   "language": "python",
   "name": "python3"
  },
  "language_info": {
   "codemirror_mode": {
    "name": "ipython",
    "version": 3
   },
   "file_extension": ".py",
   "mimetype": "text/x-python",
   "name": "python",
   "nbconvert_exporter": "python",
   "pygments_lexer": "ipython3",
   "version": "3.11.6"
  },
  "orig_nbformat": 4
 },
 "nbformat": 4,
 "nbformat_minor": 2
}
