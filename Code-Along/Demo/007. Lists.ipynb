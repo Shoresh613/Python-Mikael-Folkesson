{
 "cells": [
  {
   "cell_type": "markdown",
   "metadata": {},
   "source": [
    "Lists are one of 4 built in datatypes in Python."
   ]
  },
  {
   "cell_type": "code",
   "execution_count": 5,
   "metadata": {},
   "outputs": [
    {
     "name": "stdout",
     "output_type": "stream",
     "text": [
      "['apple', 'banana', 'cherry']\n",
      "len(fruits) = 4\n",
      "fruits.count('apple') = 1\n"
     ]
    }
   ],
   "source": [
    "fruits = [\"apple\",\"banana\",\"cherry\"]\n",
    "\n",
    "print(fruits)\n",
    "fruits.append(\"melon\")\n",
    "print(f\"{len(fruits) = }\") # To count number of items in list\n",
    "print(f\"{fruits.count('apple') = }\") # To count occurences of specific item in list\n"
   ]
  },
  {
   "cell_type": "markdown",
   "metadata": {},
   "source": [
    "## Mini-uppgift\n",
    "\n",
    "Skriv ett program som ber användaren mata in färger, en i taget, tills anvädarens input är tom. Varje färg ska läggas i en lista, och när användarens inmatning är slut skruvs listan ut, samt hur många färger det är på listan."
   ]
  },
  {
   "cell_type": "code",
   "execution_count": 3,
   "metadata": {},
   "outputs": [
    {
     "name": "stdout",
     "output_type": "stream",
     "text": [
      "['']\n",
      "Antal färger du matat in är: 1\n"
     ]
    }
   ],
   "source": [
    "colors =[\"\"]\n",
    "while(True):\n",
    "    color=input(\"Mata in en färg. Avsluta genom att inte ange någonting: \")\n",
    "    if color == \"\":\n",
    "        print(colors)\n",
    "        print(f\"Antal färger du matat in är: {len(colors)}\")\n",
    "        break\n",
    "    else:\n",
    "        colors.add(color)"
   ]
  }
 ],
 "metadata": {
  "kernelspec": {
   "display_name": "Python 3",
   "language": "python",
   "name": "python3"
  },
  "language_info": {
   "codemirror_mode": {
    "name": "ipython",
    "version": 3
   },
   "file_extension": ".py",
   "mimetype": "text/x-python",
   "name": "python",
   "nbconvert_exporter": "python",
   "pygments_lexer": "ipython3",
   "version": "3.10.11"
  },
  "orig_nbformat": 4
 },
 "nbformat": 4,
 "nbformat_minor": 2
}
