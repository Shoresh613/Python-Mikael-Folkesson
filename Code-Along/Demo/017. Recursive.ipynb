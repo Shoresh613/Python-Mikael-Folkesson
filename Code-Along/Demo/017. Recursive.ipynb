{
 "cells": [
  {
   "cell_type": "markdown",
   "metadata": {},
   "source": [
    "# Recursive"
   ]
  },
  {
   "cell_type": "code",
   "execution_count": null,
   "metadata": {},
   "outputs": [],
   "source": [
    "def main():\n",
    "    print(\"Start of main()\")\n",
    "    func_a()\n",
    "    print(\"Endof main()\")\n",
    "\n",
    "\n",
    "def func_a():\n",
    "    print(\"Start of func_a()\")\n",
    "    func_b()\n",
    "    print(\"End of func_a()\")\n",
    "\n",
    "def func_b():\n",
    "    print(\"Start of func_b()\")\n",
    "    print(\"End of func_b()\")\n",
    "\n",
    "main()"
   ]
  },
  {
   "cell_type": "markdown",
   "metadata": {},
   "source": []
  }
 ],
 "metadata": {
  "language_info": {
   "name": "python"
  },
  "orig_nbformat": 4
 },
 "nbformat": 4,
 "nbformat_minor": 2
}
