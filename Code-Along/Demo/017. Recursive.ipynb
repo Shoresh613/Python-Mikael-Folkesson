{
 "cells": [
  {
   "cell_type": "markdown",
   "metadata": {},
   "source": [
    "# Recursive"
   ]
  },
  {
   "cell_type": "code",
   "execution_count": 1,
   "metadata": {},
   "outputs": [
    {
     "name": "stdout",
     "output_type": "stream",
     "text": [
      "Start of main()\n",
      "Start of func_a()\n",
      "Start of func_b()\n",
      "End of func_b()\n",
      "End of func_a()\n",
      "Endof main()\n"
     ]
    }
   ],
   "source": [
    "def main():\n",
    "    print(\"Start of main()\")\n",
    "    func_a()\n",
    "    print(\"Endof main()\")\n",
    "\n",
    "\n",
    "def func_a():\n",
    "    print(\"Start of func_a()\")\n",
    "    func_b()\n",
    "    print(\"End of func_a()\")\n",
    "\n",
    "def func_b():\n",
    "    print(\"Start of func_b()\")\n",
    "    print(\"End of func_b()\")\n",
    "\n",
    "main()"
   ]
  },
  {
   "cell_type": "markdown",
   "metadata": {},
   "source": []
  }
 ],
 "metadata": {
  "kernelspec": {
   "display_name": "Python 3",
   "language": "python",
   "name": "python3"
  },
  "language_info": {
   "codemirror_mode": {
    "name": "ipython",
    "version": 3
   },
   "file_extension": ".py",
   "mimetype": "text/x-python",
   "name": "python",
   "nbconvert_exporter": "python",
   "pygments_lexer": "ipython3",
   "version": "3.11.6"
  },
  "orig_nbformat": 4
 },
 "nbformat": 4,
 "nbformat_minor": 2
}
