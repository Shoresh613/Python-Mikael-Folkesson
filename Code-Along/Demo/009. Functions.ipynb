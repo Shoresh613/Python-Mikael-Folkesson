{
 "cells": [
  {
   "cell_type": "markdown",
   "metadata": {},
   "source": [
    "# Functions\n",
    "DRY = Don't repeat yourself. Also, if updating, you only have to update once.\n",
    "\n",
    "- A function is a block of code which only runs when it is called.\n",
    "- In Python a function is defined using the **def** keyword.\n",
    "- Must be defined before being called.\n",
    "- To call a function, use the function name followed by paranthesis. "
   ]
  },
  {
   "cell_type": "code",
   "execution_count": 6,
   "metadata": {},
   "outputs": [
    {
     "name": "stdout",
     "output_type": "stream",
     "text": [
      "Hello Pelle!\n",
      "Hello Fredrik!\n",
      "Hello Camilla!\n",
      "Hello Anders!\n",
      "Hello Apple!\n",
      "Hello Orange!\n",
      "Hello Melon!\n",
      "Hello Kiwi!\n"
     ]
    }
   ],
   "source": [
    "def greet(name):\n",
    "    print(\"Hello \" + name + \"!\")\n",
    "\n",
    "def greet_people(people):\n",
    " # \"\"...\" or \" \"pass\" can be used to indicate that the function code is not yet implemented\n",
    "    for person in people:\n",
    "        greet(person)\n",
    "\n",
    "greet(\"Pelle\")\n",
    "\n",
    "people = [\"Fredrik\", \"Camilla\", \"Anders\"]\n",
    "greet_people(people)\n",
    "\n",
    "fruits = [\"Apple\",\"Orange\", \"Melon\", \"Kiwi\"]\n",
    "\n",
    "greet_people(fruits)"
   ]
  },
  {
   "cell_type": "markdown",
   "metadata": {},
   "source": [
    "## Abstraction levels\n",
    "In computing, an abstraction layer or level is a way of hiding the working details of a subsystem. When working on a low level of abstraction we're dealing with the fine details of the code, while, if we work on a high level of abstraction the details are hidden from us, so we get more of an overview of the system.\n",
    "\n",
    "For each stack level (function calling a function etc), the level of abstraction goes down."
   ]
  },
  {
   "cell_type": "markdown",
   "metadata": {},
   "source": [
    "## Example of function returning a value"
   ]
  },
  {
   "cell_type": "code",
   "execution_count": 8,
   "metadata": {},
   "outputs": [
    {
     "name": "stdout",
     "output_type": "stream",
     "text": [
      "Hello Fredrik!\n",
      "Hello Johanna!\n"
     ]
    }
   ],
   "source": [
    "def get_greeting(name):\n",
    "    return \"Hello \" + name + \"!\"\n",
    "\n",
    "print(get_greeting(\"Fredrik\"))\n",
    "\n",
    "my_greeting = get_greeting(\"Johanna\")\n",
    "print(my_greeting)"
   ]
  },
  {
   "cell_type": "markdown",
   "metadata": {},
   "source": [
    "## Default values"
   ]
  },
  {
   "cell_type": "code",
   "execution_count": 9,
   "metadata": {},
   "outputs": [
    {
     "name": "stdout",
     "output_type": "stream",
     "text": [
      "Hello Fredrik\n",
      "Hello Fredrik\n"
     ]
    }
   ],
   "source": [
    "def greet(name, number_of_times):\n",
    "    for i in range(number_of_times):\n",
    "        print(f\"Hello {name}\")\n",
    "\n",
    "greet(\"Fredrik\", 2)"
   ]
  }
 ],
 "metadata": {
  "kernelspec": {
   "display_name": "python-programming-Mikael-Folkesson-Xp2s793V",
   "language": "python",
   "name": "python3"
  },
  "language_info": {
   "codemirror_mode": {
    "name": "ipython",
    "version": 3
   },
   "file_extension": ".py",
   "mimetype": "text/x-python",
   "name": "python",
   "nbconvert_exporter": "python",
   "pygments_lexer": "ipython3",
   "version": "3.11.5"
  },
  "orig_nbformat": 4
 },
 "nbformat": 4,
 "nbformat_minor": 2
}
