{
 "cells": [
  {
   "cell_type": "markdown",
   "metadata": {},
   "source": [
    "# For loops\n",
    "A for loop is used for iterating over a sequence. (Example: a list, string, dictionary or a range)\n",
    "\n",
    "This is less like the for keyword in other programming languages, and works more like an iterator method as found in other object oriented programming languages. (eg. C#'s foreach-loop)"
   ]
  },
  {
   "cell_type": "code",
   "execution_count": 1,
   "metadata": {},
   "outputs": [
    {
     "name": "stdout",
     "output_type": "stream",
     "text": [
      "Fredrik\n",
      "Camilla\n",
      "Anna\n",
      "Anders\n",
      "Erik\n"
     ]
    }
   ],
   "source": [
    "# Example 1: Iterating over the items in a list\n",
    "\n",
    "names = [\"Fredrik\",\"Camilla\",\"Anna\",\"Anders\",\"Erik\"]\n",
    "\n",
    "for name in names:\n",
    "    print(name)"
   ]
  },
  {
   "cell_type": "code",
   "execution_count": 9,
   "metadata": {},
   "outputs": [
    {
     "name": "stdout",
     "output_type": "stream",
     "text": [
      "Only using stop value (start defaults to 0)\n",
      "0\n",
      "1\n",
      "2\n",
      "\n",
      "Using start and stop values (start is inclusive, stop exclusive)\n",
      "10\n",
      "11\n",
      "12\n",
      "\n",
      "Using start, stop and step values (step defaults to 1)\n",
      "10\n",
      "12\n",
      "14\n",
      "16\n",
      "18\n"
     ]
    }
   ],
   "source": [
    "# Example 2: Iterating over a range\n",
    "\n",
    "print(\"Only using stop value (start defaults to 0)\")\n",
    "for i in range(3):\n",
    "    print(i)\n",
    "\n",
    "print(\"\\nUsing start and stop values (start is inclusive, stop exclusive)\")\n",
    "for i in range(10,13):\n",
    "    print(i)\n",
    "\n",
    "print(\"\\nUsing start, stop and step values (step defaults to 1)\")\n",
    "for i in range(10,20, 2):\n",
    "    print(i)"
   ]
  },
  {
   "cell_type": "markdown",
   "metadata": {},
   "source": [
    "## Like While loops, for loops can also use the following statements\n",
    "- continue\n",
    "- break\n",
    "- else"
   ]
  },
  {
   "cell_type": "markdown",
   "metadata": {},
   "source": [
    "## Nested loops\n",
    "A loop within a loop"
   ]
  },
  {
   "cell_type": "code",
   "execution_count": 12,
   "metadata": {},
   "outputs": [
    {
     "name": "stdout",
     "output_type": "stream",
     "text": [
      "01234\n",
      "01234\n",
      "01234\n"
     ]
    }
   ],
   "source": [
    "for y in range(3):\n",
    "    for x in range(5):\n",
    "        print(x, end=\"\") # end default to \\n\n",
    "    print() # New line"
   ]
  }
 ],
 "metadata": {
  "kernelspec": {
   "display_name": "Python-Mikael-Folkesson-aTHbKsrI",
   "language": "python",
   "name": "python3"
  },
  "language_info": {
   "codemirror_mode": {
    "name": "ipython",
    "version": 3
   },
   "file_extension": ".py",
   "mimetype": "text/x-python",
   "name": "python",
   "nbconvert_exporter": "python",
   "pygments_lexer": "ipython3",
   "version": "3.11.2"
  },
  "orig_nbformat": 4
 },
 "nbformat": 4,
 "nbformat_minor": 2
}
