{
 "cells": [
  {
   "cell_type": "markdown",
   "metadata": {},
   "source": [
    "# Properties\n",
    "A property is a python construction (or OOP concept) that works similarly to an attribute, with the difference that an attribute stores (and reads) the value directly to memory, while a property uses getter and setter methods to change the values of the property.\n",
    "\n",
    "For the \"outside\" (of the class definition), when a property of an object is set, the objects' internal setter method will be called to handle the operation. This method is marked in the class definition by a decorator called {name}.setter (where \"name\") is the name of the property.\n",
    "\n",
    "When the property is read (from the \"outside\"), the objects' internal getter method will be called to return a value. The getter method is marked in the class definition by a decorator called @property."
   ]
  },
  {
   "cell_type": "code",
   "execution_count": 20,
   "metadata": {},
   "outputs": [],
   "source": [
    "class Employee:\n",
    "    def __init__(self,name,salary):\n",
    "        self.name = name\n",
    "        # Ternary operator. Beginning variable name with '_' signals that it's a private variable\n",
    "        self._salary = \"Salary not set\" if salary < 0 else salary\n",
    "    \n",
    "    # Getter and setter methods. Internally methods, but can be accessed as attributes from the outside\n",
    "    # Decorators starting with '@'. The name is the name of the property.\n",
    "    @property\n",
    "    def salary(self):\n",
    "        return self._salary\n",
    "    @salary.setter\n",
    "    def salary(self,salary):\n",
    "        self._salary = \"Salary not set\" if salary < 0 else salary"
   ]
  },
  {
   "cell_type": "code",
   "execution_count": 21,
   "metadata": {},
   "outputs": [
    {
     "name": "stdout",
     "output_type": "stream",
     "text": [
      "50000\n",
      "Salary not set\n"
     ]
    }
   ],
   "source": [
    "employee = Employee(\"Anders\", 40000)\n",
    "employee2 = Employee(\"Bertil\", -40000)\n",
    "\n",
    "employee.salary = 50000\n",
    "\n",
    "print(employee.salary)\n",
    "print(employee2.salary)"
   ]
  }
 ],
 "metadata": {
  "kernelspec": {
   "display_name": "python-programming-Mikael-Folkesson-Xp2s793V",
   "language": "python",
   "name": "python3"
  },
  "language_info": {
   "codemirror_mode": {
    "name": "ipython",
    "version": 3
   },
   "file_extension": ".py",
   "mimetype": "text/x-python",
   "name": "python",
   "nbconvert_exporter": "python",
   "pygments_lexer": "ipython3",
   "version": "3.11.5"
  },
  "orig_nbformat": 4
 },
 "nbformat": 4,
 "nbformat_minor": 2
}
