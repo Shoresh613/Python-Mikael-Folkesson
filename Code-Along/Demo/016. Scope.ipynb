{
 "cells": [
  {
   "cell_type": "markdown",
   "metadata": {},
   "source": [
    "# Scope\n",
    "\n",
    "The scope is the life-time of a variable.\n",
    "* *Local scope*: Only available locally in a function.\n",
    "* *Global scope*: Available through the execution of the entire program.\n",
    "* There is no block scope in Python, unlike in C#, Java, C++ and most other languages."
   ]
  },
  {
   "cell_type": "code",
   "execution_count": 5,
   "metadata": {},
   "outputs": [
    {
     "name": "stdout",
     "output_type": "stream",
     "text": [
      "Mikael\n",
      "Kalle\n",
      "Kalle\n",
      "Folkesson\n",
      "0\n",
      "1\n",
      "2\n",
      "3\n",
      "4\n",
      "5\n",
      "6\n",
      "7\n",
      "8\n",
      "9\n",
      "i = 9\n"
     ]
    }
   ],
   "source": [
    "# Normal is not to set a lot of global variables, but to pass along the variables as arguments to functions.\n",
    "name = \"Mikael\"\n",
    "\n",
    "def main():\n",
    "    global name # This is possible if one wants to use the global variable, but this is not a preferred method\n",
    "    name = \"Kalle\" # Local\n",
    "    print(name)\n",
    "\n",
    "# The common practice is to define all the functions and only run main() at the end.\n",
    "\n",
    "print(name)\n",
    "main()\n",
    "print(name)\n",
    "\n",
    "if name == \"Mikael\":\n",
    "    last_name = \"Folkesson\" # This would be block scope in C#\n",
    "print(last_name) # But in Python it is remains outside of the if clause\n",
    "\n",
    "for i in range(10):\n",
    "    print(i)\n",
    "\n",
    "print(f\"i = {i}\") # Another example of no block scope in Python"
   ]
  }
 ],
 "metadata": {
  "kernelspec": {
   "display_name": "Python 3",
   "language": "python",
   "name": "python3"
  },
  "language_info": {
   "codemirror_mode": {
    "name": "ipython",
    "version": 3
   },
   "file_extension": ".py",
   "mimetype": "text/x-python",
   "name": "python",
   "nbconvert_exporter": "python",
   "pygments_lexer": "ipython3",
   "version": "3.11.5"
  },
  "orig_nbformat": 4
 },
 "nbformat": 4,
 "nbformat_minor": 2
}
