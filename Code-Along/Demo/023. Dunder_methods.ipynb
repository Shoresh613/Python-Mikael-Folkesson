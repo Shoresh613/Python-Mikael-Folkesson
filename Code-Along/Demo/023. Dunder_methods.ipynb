{
 "cells": [
  {
   "cell_type": "markdown",
   "metadata": {},
   "source": [
    "# Dunder methods (framed by double underscore __)\n",
    "\n",
    "- Officially called **\"special methods\"**\n",
    "- \\_\\_init__() is called when a new object instance is created. The purpose is to initialize the object.\n",
    "- But there are also others."
   ]
  },
  {
   "cell_type": "code",
   "execution_count": 11,
   "metadata": {},
   "outputs": [
    {
     "name": "stdout",
     "output_type": "stream",
     "text": [
      "This is the cat called Mjau\n"
     ]
    },
    {
     "data": {
      "text/plain": [
       "Cat(\"Mjau\")"
      ]
     },
     "execution_count": 11,
     "metadata": {},
     "output_type": "execute_result"
    }
   ],
   "source": [
    "class Cat:\n",
    "    def __init__(self, name):\n",
    "        self.name=name\n",
    "    \n",
    "    def __str__(self):\n",
    "        return self.name \n",
    "    \n",
    "    def __repr__(self):\n",
    "        # return \"This is the representation of a cat\"\n",
    "        # It is normal to show how the object was created. This is more for coders than str()\n",
    "        return f'Cat(\"{self.name}\")'\n",
    "\n",
    "cat = Cat(\"Mjau\")\n",
    "\n",
    "print(str(cat))\n",
    "\n",
    "# Jupyter Notebook uses repr() to print the results of the final command. Without it, it would show the object reference.\n",
    "cat"
   ]
  },
  {
   "cell_type": "code",
   "execution_count": 8,
   "metadata": {},
   "outputs": [
    {
     "name": "stdout",
     "output_type": "stream",
     "text": [
      "This is the cat called Mjau True 1.5 Hello\n",
      "This is the cat called Pelle True 1.5 Hello\n",
      "This is the cat called Måns True 1.5 Hello\n"
     ]
    }
   ],
   "source": [
    "cats = [Cat(\"Mjau\"),Cat(\"Pelle\"),Cat(\"Måns\")]\n",
    "\n",
    "# Print() automatically converts objects to strings using str()\n",
    "for cat in cats:\n",
    "    print(cat, True, 1.5, \"Hello\")"
   ]
  },
  {
   "cell_type": "code",
   "execution_count": 12,
   "metadata": {},
   "outputs": [
    {
     "name": "stdout",
     "output_type": "stream",
     "text": [
      "Cat(\"Mjau\")\n"
     ]
    },
    {
     "data": {
      "text/plain": [
       "'Mjau'"
      ]
     },
     "execution_count": 12,
     "metadata": {},
     "output_type": "execute_result"
    }
   ],
   "source": [
    "# eval() evaluates a string as if it were python code\n",
    "# Be careful when letting users enter any code they want. Possibility to erase everything or access everything. Code injection.\n",
    "\n",
    "my_cat = Cat(\"Mjau\")\n",
    "print(repr(my_cat))\n",
    "\n",
    "copycat = eval(repr(my_cat))\n",
    "copycat.name"
   ]
  }
 ],
 "metadata": {
  "kernelspec": {
   "display_name": "python-programming-Mikael-Folkesson-Xp2s793V",
   "language": "python",
   "name": "python3"
  },
  "language_info": {
   "codemirror_mode": {
    "name": "ipython",
    "version": 3
   },
   "file_extension": ".py",
   "mimetype": "text/x-python",
   "name": "python",
   "nbconvert_exporter": "python",
   "pygments_lexer": "ipython3",
   "version": "3.11.5"
  },
  "orig_nbformat": 4
 },
 "nbformat": 4,
 "nbformat_minor": 2
}
