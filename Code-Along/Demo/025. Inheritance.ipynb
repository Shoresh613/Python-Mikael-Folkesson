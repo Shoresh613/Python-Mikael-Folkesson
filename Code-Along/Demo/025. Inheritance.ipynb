{
 "cells": [
  {
   "cell_type": "markdown",
   "metadata": {},
   "source": [
    "# Inheritance"
   ]
  },
  {
   "cell_type": "code",
   "execution_count": 32,
   "metadata": {},
   "outputs": [
    {
     "name": "stdout",
     "output_type": "stream",
     "text": [
      "Misse is running.\n",
      "\n",
      "Karo is running.\n",
      "Karo is barking: VOFF!\n",
      "\n",
      "Nemo is running.\n",
      "Nemo is swimming.\n",
      "\n",
      "Kalle is running.\n",
      "Kalle is barking: voff\n",
      "\n",
      "issubclass(Cat,Dog) = False\n",
      "issubclass(Cat,object) = True\n",
      "issubclass(Animal,Cat) = False\n",
      "hasattr(my_dog, 'name') = True\n",
      "hasattr(my_dog, 'age') = False\n"
     ]
    }
   ],
   "source": [
    "class Animal:\n",
    "    def __init__(self, name):\n",
    "        self.name = name\n",
    "    \n",
    "    def __str__(self):\n",
    "        return f\"My name is {self.name} and I am a {str(type(self)).split('.')[1][:-2]}\"\n",
    "    \n",
    "    def move(self):\n",
    "        print(f\"{self.name} is running.\")\n",
    "\n",
    "class Cat(Animal):\n",
    "    ...\n",
    "\n",
    "class Dog(Animal):\n",
    "    def __init__(self, name, is_loud):\n",
    "        super().__init__(name) # You can call the super even if you have an override, to not have to change things in several locations\n",
    "        self._is_loud = is_loud\n",
    "\n",
    "    def _get_voff(self):\n",
    "        return \"VOFF!\" if self._is_loud else \"voff\"\n",
    "    \n",
    "    def bark(self):\n",
    "            print(f\"{self.name} is barking: {self._get_voff()}\")\n",
    "class Fish(Animal):\n",
    "    # Method override, polymorphism\n",
    "    def move(self):\n",
    "        super().move() # Calls the super class move method\n",
    "        print(f\"{self.name} is swimming.\")\n",
    "\n",
    "animals = [\n",
    "    Cat(\"Misse\"),\n",
    "    Dog(\"Karo\", is_loud = True),\n",
    "    Fish(\"Nemo\"),\n",
    "    Dog(\"Kalle\", is_loud = False)\n",
    "]\n",
    "\n",
    "for animal in animals:\n",
    "    animal.move()\n",
    "    # if hasattr(animal,\"bark\"):\n",
    "    # if type(animal) == Dog:\n",
    "    if isinstance(animal, Dog):\n",
    "        animal.bark()\n",
    "    # If you want to check if everyone belongs to the superclass animal, \n",
    "    # you can't use type() because they are not that type. Must use isinstance().\n",
    "    print()\n",
    "\n",
    "print(f\"{issubclass(Cat,Dog) = }\") \n",
    "print(f\"{issubclass(Cat,object) = }\") \n",
    "print(f\"{issubclass(Animal,Cat) = }\") \n",
    "\n",
    "my_dog = Dog(\"Karo\",True)\n",
    "print(f\"{hasattr(my_dog, 'name') = }\")\n",
    "print(f\"{hasattr(my_dog, 'age') = }\")"
   ]
  }
 ],
 "metadata": {
  "kernelspec": {
   "display_name": "python-programming-Mikael-Folkesson-Xp2s793V",
   "language": "python",
   "name": "python3"
  },
  "language_info": {
   "codemirror_mode": {
    "name": "ipython",
    "version": 3
   },
   "file_extension": ".py",
   "mimetype": "text/x-python",
   "name": "python",
   "nbconvert_exporter": "python",
   "pygments_lexer": "ipython3",
   "version": "3.11.5"
  },
  "orig_nbformat": 4
 },
 "nbformat": 4,
 "nbformat_minor": 2
}
