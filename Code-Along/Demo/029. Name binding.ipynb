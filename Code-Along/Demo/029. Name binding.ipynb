{
 "cells": [
  {
   "cell_type": "markdown",
   "metadata": {},
   "source": [
    "# Name binding\n",
    "- Everything in Python is an object, meaning every entity has some metadata (attributes) and some associated functionality (methods).\n",
    "- Names can be bound to any object."
   ]
  },
  {
   "cell_type": "markdown",
   "metadata": {},
   "source": [
    "## Mutable vs immutable object\n",
    "- Numerics, strings and tuples are immutable, meaning their values can't change after they are created.\n",
    "- Almost everything else, including lists, dictionaries and user-defined objects are mutable, meaning the value has methods that can change the value in-place."
   ]
  },
  {
   "cell_type": "code",
   "execution_count": 2,
   "metadata": {},
   "outputs": [
    {
     "name": "stdout",
     "output_type": "stream",
     "text": [
      "1 140727139951400\n",
      "2 140727139951432\n"
     ]
    }
   ],
   "source": [
    "# In C for instance, a is a reference in memory. When setting it again it overwrites that place in memory.\n",
    "# In Python, the old object is dropped and a new is created.\n",
    "# In this example we will have two objects called a in sequence.\n",
    "a = 1\n",
    "print(a, id(a)) # id() shows the memory address of the object\n",
    "a=2\n",
    "print(a, id(a))"
   ]
  },
  {
   "cell_type": "markdown",
   "metadata": {},
   "source": [
    "## Rebinding the name vs mutating the value\n",
    "- Variables in Python don't work the same way as in languages like C, C# and Java.\n",
    "- 'a' doesn't refer to a place in memory where we store different values.\n",
    "- rather values themselves are objects in memory, and 'a' is the name bound to it. \n",
    "- ``a = 2`` doesn't mutate the value o 'a', but rather creates a new object '2' and rebinds 'a' to it."
   ]
  },
  {
   "cell_type": "code",
   "execution_count": 5,
   "metadata": {},
   "outputs": [
    {
     "name": "stdout",
     "output_type": "stream",
     "text": [
      "a=1, b=1 140727139951400 140727139951400\n",
      "\n",
      "a=1, b=2 140727139951400 140727139951432\n"
     ]
    }
   ],
   "source": [
    "a = 1\n",
    "b = a \n",
    "\n",
    "# a and b refer to the same object\n",
    "print(f\"{a=}, {b=}\", id(a), id(b))\n",
    "\n",
    "print()\n",
    "b = 2\n",
    "\n",
    "# now b pointing to a new object\n",
    "print(f\"{a=}, {b=}\", id(a), id(b))"
   ]
  },
  {
   "cell_type": "code",
   "execution_count": 13,
   "metadata": {},
   "outputs": [
    {
     "name": "stdout",
     "output_type": "stream",
     "text": [
      "cat_a = <__main__.Cat object at 0x0000028B2EFFA0D0> 0x28b2effa0d0\n",
      "cat_a.name = 'Bill' 0x28b2ea702b0\n",
      "cat_b.name = 'Bill' 0x28b2ea702b0\n",
      "\n",
      "cat_a.name = 'Bull' 0x28b2ea9d5b0\n",
      "cat_b.name = 'Bull' 0x28b2ea9d5b0\n",
      "\n",
      "cat_a.name = 'Måns' 0x28b2ed08da0\n",
      "cat_b.name = 'Bull' 0x28b2ea9d5b0\n"
     ]
    }
   ],
   "source": [
    "class Cat:\n",
    "    def __init__(self, name) -> None:\n",
    "        self.name = name\n",
    "\n",
    "cat_a = Cat(\"Bill\")\n",
    "\n",
    "print(f\"{cat_a = }\", hex(id(cat_a)))\n",
    "\n",
    "cat_b = cat_a\n",
    "\n",
    "print(f\"{cat_a.name = }\", hex(id(cat_a.name)))\n",
    "print(f\"{cat_b.name = }\", hex(id(cat_b.name)))\n",
    "\n",
    "print()\n",
    "\n",
    "cat_b.name = \"Bull\"\n",
    "\n",
    "# Both names are pointing to the same object, thus \"both\" will change when changing one \n",
    "print(f\"{cat_a.name = }\", hex(id(cat_a.name)))\n",
    "print(f\"{cat_b.name = }\", hex(id(cat_b.name)))\n",
    "\n",
    "print()\n",
    "\n",
    "# Here we create a new object, so that cat_a and cat_b no longer point to the same object.\n",
    "cat_a = Cat(\"Måns\")\n",
    "\n",
    "print(f\"{cat_a.name = }\", hex(id(cat_a.name)))\n",
    "print(f\"{cat_b.name = }\", hex(id(cat_b.name)))\n"
   ]
  },
  {
   "cell_type": "markdown",
   "metadata": {},
   "source": [
    "## Names and values\n",
    "- Names refer to values.\n",
    "- Assignments never copy data.\n",
    "- Many names can refer to one value.\n",
    "- Changes in a value are visible through all of its' names.\n",
    "- Names are reassigned independently of other names.\n",
    "- Objects live until nothing references them.\n",
    "\n",
    "*Python keeps track of how many references each object has, and automatically cleans up objects that have none. This is called 'garbage collection', and means that you don't have to get rid of objects, they go away by themselves when they are no longer needed.*"
   ]
  },
  {
   "cell_type": "code",
   "execution_count": 16,
   "metadata": {},
   "outputs": [
    {
     "name": "stdout",
     "output_type": "stream",
     "text": [
      "2796806378416\n",
      "2796806378416\n",
      "2796806378416\n"
     ]
    }
   ],
   "source": [
    "a = \"Pelle\"\n",
    "b = [\"Måns\", \"Pelle\", \"Bill\", \"Bull\"]\n",
    "c = Cat(\"Pelle\")\n",
    "\n",
    "# All pointing at the same object. If reassigning one will not affect the others as they are immutable\n",
    "\n",
    "print(id(a))\n",
    "print(id(b[1]))\n",
    "print(id(c.name))\n"
   ]
  },
  {
   "cell_type": "markdown",
   "metadata": {},
   "source": [
    "## References can be more than just names\n",
    "Anything that can appear on the left-hand side of an assignment statement is a reference, such as:\n",
    "- list items\n",
    "- dictionary keys and values\n",
    "- object attributes\n",
    "- .. and so on"
   ]
  },
  {
   "cell_type": "code",
   "execution_count": 24,
   "metadata": {},
   "outputs": [
    {
     "name": "stdout",
     "output_type": "stream",
     "text": [
      "a = [1, 2, 3] 2796806324352\n",
      "b = [1, 2, 3] 2796806324352\n",
      "\n",
      "a = [1, 2, 3, 4] 2796806324352\n",
      "b = [1, 2, 3, 4] 2796806324352\n",
      "\n",
      "a = [1, 2, 3, 4] 2796806324352\n",
      "b = [1, 2, 3, 4, 5] 2796812200832\n",
      "\n",
      "a == b = False\n",
      "a is b = False\n"
     ]
    }
   ],
   "source": [
    "a = [1,2,3]\n",
    "b=a\n",
    "\n",
    "print(f\"{a = }\", id(a))\n",
    "print(f\"{b = }\", id(b))\n",
    "\n",
    "print()\n",
    "\n",
    "b.append(4)\n",
    "\n",
    "print(f\"{a = }\", id(a))\n",
    "print(f\"{b = }\", id(b))\n",
    "\n",
    "# copy() creates a new instance of the list, so that they will not refer to the same object \n",
    "b=a.copy()\n",
    "\n",
    "b.append(5)\n",
    "print()\n",
    "print(f\"{a = }\", id(a))\n",
    "print(f\"{b = }\", id(b))\n",
    "\n",
    "print(f\"\\n{a == b = }\")\n",
    "print(f\"{a is b = }\")"
   ]
  },
  {
   "cell_type": "markdown",
   "metadata": {},
   "source": [
    "## Identity vs equality\n",
    "- The *is* operator checks whether two variables refer to the same object.\n",
    "- The *==* operator checks whether the values of the two variabls are equal.\n",
    "\n",
    "Always use is to compare to (the object) None, as there might be operator overloading for == that messes it up. For example:\n",
    "```python\n",
    "if my_cat is None\n",
    "```"
   ]
  },
  {
   "cell_type": "code",
   "execution_count": 32,
   "metadata": {},
   "outputs": [
    {
     "name": "stdout",
     "output_type": "stream",
     "text": [
      "cat_a.name = 'Pelle' 0x28b2ea693b0\n",
      "cat_b.name = 'Pelle' 0x28b2ea693b0\n",
      "\n",
      "cat_a.name = 'Pelle' 0x28b2ea693b0\n",
      "cat_b.name = 'Måns' 0x28b2ea098e0\n",
      "\n",
      "cat_a.friends = ['Bill', 'Bull', 'Pelle'] 0x28b2f053bc0\n",
      "cat_b.friends = ['Bill', 'Bull', 'Pelle'] 0x28b2f053bc0\n",
      "\n",
      "cat_a.friends = ['Bill', 'Bull', 'Pelle'] 0x28b2f053bc0\n",
      "cat_b.friends = ['Bill', 'Bull', 'Pelle', 'Måns'] 0x28b2eff77c0\n"
     ]
    }
   ],
   "source": [
    "import copy\n",
    "cat_a = Cat(\"Pelle\")\n",
    "cat_a.friends = [\"Bill\", \"Bull\"]\n",
    "\n",
    "# To create a copy of an object that doesn't have a copy method, import the copy library\n",
    "cat_b = copy.copy(cat_a)\n",
    "\n",
    "print(f\"{cat_a.name = }\", hex(id(cat_a.name)))\n",
    "print(f\"{cat_b.name = }\", hex(id(cat_b.name)))\n",
    "\n",
    "cat_b.name = \"Måns\"\n",
    "\n",
    "print(f\"\\n{cat_a.name = }\", hex(id(cat_a.name)))\n",
    "print(f\"{cat_b.name = }\", hex(id(cat_b.name)))\n",
    "\n",
    "# Lists are mutable, thus the change will be reflected in both cats, as they point to the same list\n",
    "cat_b.friends.append(\"Pelle\")\n",
    "\n",
    "print(f\"\\n{cat_a.friends = }\", hex(id(cat_a.friends)))\n",
    "print(f\"{cat_b.friends = }\", hex(id(cat_b.friends)))\n",
    "\n",
    "# To circumvent, use deepcopy. This will copy recursively and copy not only the first level but all\n",
    "cat_b = copy.deepcopy(cat_a)\n",
    "cat_b.friends.append(\"Måns\")\n",
    "\n",
    "print(f\"\\n{cat_a.friends = }\", hex(id(cat_a.friends)))\n",
    "print(f\"{cat_b.friends = }\", hex(id(cat_b.friends)))"
   ]
  },
  {
   "cell_type": "markdown",
   "metadata": {},
   "source": [
    "## Shallow vs Deep copy\n",
    "- Assignment statemsnts in Python do not create copies of objects, the only bind names to an object.\n",
    "- A **shallow copy** means constructing a new collection object and then populating it with references to the child objects found in the original. In essence, a shallow copy is only one level deep. The copying process does not recurse, and therefore won't create copies of the child objects themselves.\n",
    "- A **deep copy** performs the copying process recursively, i.e. first constructing a new collection object and then revursively populating it with copies of the child objects found in the original. Copying an object this way walks the whole object tree to create a fully independent clone of the original object and all of its children. "
   ]
  },
  {
   "cell_type": "code",
   "execution_count": 40,
   "metadata": {},
   "outputs": [
    {
     "name": "stdout",
     "output_type": "stream",
     "text": [
      "True\n",
      "This is my function!\n",
      "This is my function!\n",
      "Now my_func refers to a new function!\n",
      "This is my function!\n"
     ]
    }
   ],
   "source": [
    "def my_func():\n",
    "    print(\"This is my function!\")\n",
    "\n",
    "# Callable checks if a varaible is callable, i.e. is a method or function. A class will report as false.\n",
    "print(callable(my_func))\n",
    "\n",
    "my_func()\n",
    "\n",
    "also_my_func = my_func\n",
    "\n",
    "also_my_func()\n",
    "\n",
    "def my_func():\n",
    "    print(\"Now my_func refers to a new function!\")\n",
    "\n",
    "# also_my_func keeps the old my_func function!\n",
    "my_func()\n",
    "also_my_func()"
   ]
  },
  {
   "cell_type": "markdown",
   "metadata": {},
   "source": [
    "## Lots of this are assignments\n",
    "Just as many things can serve as reference, there are many operations in Python that are assignments.\n",
    "\n",
    "Each of these lines is an assignment to the name X:\n",
    "\n",
    "```python\n",
    "X = ...\n",
    "for X in ...\n",
    "[... for X in ...]\n",
    "def X(...):\n",
    "class X:\n",
    "import X\n",
    "from ... import X\n",
    "with ... as X\n",
    "```"
   ]
  },
  {
   "cell_type": "markdown",
   "metadata": {},
   "source": [
    "It's not that these statements act kind of like assignments, but that they are real assignments. They all make the name X refer to an object and every fact about assignments applies to all of them."
   ]
  },
  {
   "cell_type": "code",
   "execution_count": 42,
   "metadata": {},
   "outputs": [
    {
     "ename": "TypeError",
     "evalue": "'int' object is not callable",
     "output_type": "error",
     "traceback": [
      "\u001b[1;31m---------------------------------------------------------------------------\u001b[0m",
      "\u001b[1;31mTypeError\u001b[0m                                 Traceback (most recent call last)",
      "\u001b[1;32mc:\\Users\\Mikae\\Sync\\Dokument\\ITHS\\GitHub\\python-programming-Mikael-Folkesson\\Code-Along\\Demo\\029. Name binding.ipynb Cell 17\u001b[0m line \u001b[0;36m2\n\u001b[0;32m      <a href='vscode-notebook-cell:/c%3A/Users/Mikae/Sync/Dokument/ITHS/GitHub/python-programming-Mikael-Folkesson/Code-Along/Demo/029.%20Name%20binding.ipynb#X24sZmlsZQ%3D%3D?line=0'>1</a>\u001b[0m \u001b[39mprint\u001b[39m \u001b[39m=\u001b[39m \u001b[39m5\u001b[39m\n\u001b[1;32m----> <a href='vscode-notebook-cell:/c%3A/Users/Mikae/Sync/Dokument/ITHS/GitHub/python-programming-Mikael-Folkesson/Code-Along/Demo/029.%20Name%20binding.ipynb#X24sZmlsZQ%3D%3D?line=1'>2</a>\u001b[0m \u001b[39mprint\u001b[39;49m(\u001b[39m\"\u001b[39;49m\u001b[39mHello world\u001b[39;49m\u001b[39m\"\u001b[39;49m)\n",
      "\u001b[1;31mTypeError\u001b[0m: 'int' object is not callable"
     ]
    }
   ],
   "source": [
    "print = 5\n",
    "print(\"Hello world\")\n",
    "\n",
    "# a common mistake is also to call a variable sum, as that replaces sum()\n",
    "\n",
    "sum = 0\n",
    "for i in range(10):\n",
    "    sum += 1 "
   ]
  },
  {
   "cell_type": "code",
   "execution_count": 43,
   "metadata": {},
   "outputs": [
    {
     "name": "stdout",
     "output_type": "stream",
     "text": [
      "Hello world\n"
     ]
    }
   ],
   "source": [
    "# restores the original print function, as it exists in a scope above the global level\n",
    "del print\n",
    "print(\"Hello world\")"
   ]
  },
  {
   "cell_type": "code",
   "execution_count": 44,
   "metadata": {},
   "outputs": [
    {
     "name": "stdout",
     "output_type": "stream",
     "text": [
      "Fredrik\n"
     ]
    }
   ],
   "source": [
    "# Local scope inside function, will not affect level above\n",
    "def my_func():\n",
    "    x = \"Kalle\"\n",
    "x = \"Fredrik\"\n",
    "my_func()\n",
    "print(x)"
   ]
  },
  {
   "cell_type": "code",
   "execution_count": 45,
   "metadata": {},
   "outputs": [
    {
     "name": "stdout",
     "output_type": "stream",
     "text": [
      "Hello world\n"
     ]
    }
   ],
   "source": [
    "# Possible to pass on functions as parameters, becomes a higher order function\n",
    "\n",
    "def my_func(function, string):\n",
    "    function(string)\n",
    "\n",
    "my_func(print, \"Hello world\")"
   ]
  },
  {
   "cell_type": "code",
   "execution_count": 48,
   "metadata": {},
   "outputs": [
    {
     "name": "stdout",
     "output_type": "stream",
     "text": [
      "HELLO WORLD\n",
      "hello world\n",
      "Hello world\n",
      "Hello World\n"
     ]
    }
   ],
   "source": [
    "methods = [str.upper, str.lower, str.capitalize, str.title]\n",
    "\n",
    "for method in methods:\n",
    "    print(method(\"HELLO world\"))"
   ]
  },
  {
   "cell_type": "code",
   "execution_count": 50,
   "metadata": {},
   "outputs": [
    {
     "data": {
      "text/plain": [
       "[20.0, 32.5, 1.0]"
      ]
     },
     "execution_count": 50,
     "metadata": {},
     "output_type": "execute_result"
    }
   ],
   "source": [
    "my_float = float(\"24.5\")\n",
    "\n",
    "# Walks through all iterables and performs a function on all of them\n",
    "list(map(float, [\"20.0\",\"32.5\",\"1\"]))"
   ]
  },
  {
   "cell_type": "code",
   "execution_count": 51,
   "metadata": {},
   "outputs": [
    {
     "data": {
      "text/plain": [
       "['kiwi', 'apple', 'orange', 'banana', 'grapes', 'pineapple']"
      ]
     },
     "execution_count": 51,
     "metadata": {},
     "output_type": "execute_result"
    }
   ],
   "source": [
    "fruits = [\"apple\", \"orange\", \"banana\", \"kiwi\", \"pineapple\", \"grapes\"]\n",
    "\n",
    "# Here key specifies a function to use for sorting, in this case len()\n",
    "sorted(fruits, key=len)"
   ]
  },
  {
   "cell_type": "markdown",
   "metadata": {},
   "source": [
    "## Python passes function arguments by assigning to them\n",
    "- Parameters are names used in a function\n",
    "- When calling a function, we provide actual values to be used as the arguments of a function.\n",
    "- These values are assigned to the parameter names just as if an assignment statement had been used."
   ]
  },
  {
   "cell_type": "code",
   "execution_count": null,
   "metadata": {},
   "outputs": [],
   "source": [
    "def my_func(x,y):\n",
    "    return x + y\n",
    "\n",
    "print(my_func(8,9))"
   ]
  },
  {
   "cell_type": "markdown",
   "metadata": {},
   "source": [
    "When my_func is called, the name ``x`` has 8 assigned to it, and the name ``y`` has 9 assigned to it. That assignment works in exactly the same way as the simple assignment statement we've been talking about. The names ``x`` and ``y`` are local to the function, so when the function returns, those names go away. But if the values they refer to are still referenced by other names, the values live on.\n",
    "\n",
    "Just like every other assignment, mutable values can be passed into functions, and changes to the value will be visible through all of its names and scopes."
   ]
  },
  {
   "cell_type": "code",
   "execution_count": 52,
   "metadata": {},
   "outputs": [
    {
     "name": "stdout",
     "output_type": "stream",
     "text": [
      "Måns\n"
     ]
    }
   ],
   "source": [
    "def my_func(cat):\n",
    "    cat.name = \"Måns\"\n",
    "\n",
    "cat_a = Cat(\"Pelle\")\n",
    "\n",
    "my_func(cat_a)\n",
    "\n",
    "print(cat_a.name)"
   ]
  },
  {
   "cell_type": "code",
   "execution_count": 55,
   "metadata": {},
   "outputs": [
    {
     "name": "stdout",
     "output_type": "stream",
     "text": [
      "['A', 'B', 'C']\n",
      "['E', 'D']\n",
      "['E', 'D']\n"
     ]
    }
   ],
   "source": [
    "# Here list is assigned to a new list object in the local scope\n",
    "def set_list(list):\n",
    "    list = ['A','B','C']\n",
    "    return list\n",
    "\n",
    "# Here 'D' is appended to the mutable list, thus the change exists also outside the local scope\n",
    "def append_list(list):\n",
    "    list.append('D')\n",
    "    return list\n",
    "\n",
    "my_list = ['E']\n",
    "\n",
    "print(set_list(my_list))\n",
    "print(append_list(my_list))\n",
    "print(my_list)\n"
   ]
  }
 ],
 "metadata": {
  "kernelspec": {
   "display_name": "python-programming-Mikael-Folkesson-Xp2s793V",
   "language": "python",
   "name": "python3"
  },
  "language_info": {
   "codemirror_mode": {
    "name": "ipython",
    "version": 3
   },
   "file_extension": ".py",
   "mimetype": "text/x-python",
   "name": "python",
   "nbconvert_exporter": "python",
   "pygments_lexer": "ipython3",
   "version": "3.11.5"
  }
 },
 "nbformat": 4,
 "nbformat_minor": 2
}
