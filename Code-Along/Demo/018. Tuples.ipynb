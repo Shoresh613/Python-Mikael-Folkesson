{
 "cells": [
  {
   "cell_type": "markdown",
   "metadata": {},
   "source": [
    "# Tuples\n",
    "- Tuples are used to store multiple items in a single variable.\n",
    "- Tuple items are ordered, unchangeable, and allow duplicate values.\n",
    "- Tuples allow different data types and a mix of data types.\n",
    "- Tuple items are indexed, the first item has index [0], and so on.\n",
    "- Tuples are written with round brackets, e.g. ```(), (1,), (1, 2), (1, 2, 3)```\n",
    "\n",
    "Not possible to append or change things. Use a tuple when you know the values won't change. The advantages of this data type is to show the intention that this will not change, but tie two or more values together in one variable. "
   ]
  },
  {
   "cell_type": "code",
   "execution_count": 4,
   "metadata": {},
   "outputs": [
    {
     "name": "stdout",
     "output_type": "stream",
     "text": [
      "my_tuple[0] = 'Fredrik'\n",
      "('Fredrik', 42, 'Everyloop')\n",
      "('Kalle', 42, 'Everyloop')\n"
     ]
    }
   ],
   "source": [
    "# Create empty tuple\n",
    "empty_tuple = ()\n",
    "\n",
    "# Create tuple with one item\n",
    "single_item_tuple = (1, )\n",
    "\n",
    "# Create tuple with items\n",
    "my_tuple = (\"Fredrik\", 42, \"Everyloop\")\n",
    "\n",
    "# Tuples can be indexed and sliced\n",
    "\n",
    "print(f\"{my_tuple[0] = }\")\n",
    "\n",
    "# But individual items can not be altered\n",
    "\n",
    "# my_tuple[0] = \"Kalle\" # <- not allowed, \n",
    "# The workaround to alter items in a tuple is to convert to a list and back\n",
    "\n",
    "print(my_tuple)\n",
    "\n",
    "my_list = list(my_tuple)\n",
    "my_list[0] = \"Kalle\"\n",
    "my_tuple = tuple(my_list)\n",
    "\n",
    "print(my_tuple)\n",
    "\n",
    "# Typical use case of a tuple: Group a few values in a variable, for example a point to plot\n",
    "point = (5.3, 4.7)"
   ]
  },
  {
   "cell_type": "markdown",
   "metadata": {},
   "source": [
    "## Unpacking\n",
    "When we create a tuple we normally assign values to it. This is called \"packing\" a tuple.\n",
    "We are also allowed to extract values back into variables. This is called \"unpacking\"."
   ]
  },
  {
   "cell_type": "code",
   "execution_count": 5,
   "metadata": {},
   "outputs": [
    {
     "name": "stdout",
     "output_type": "stream",
     "text": [
      "Kalle, 42, Everyloop\n"
     ]
    }
   ],
   "source": [
    "# important to assign as many variables as there are in the tuple. Can also be done from lists.\n",
    "name, age, company = my_tuple\n",
    "# knowing that it's a tuple you don't have to worry about exceptions because it will containg the packed values.\n",
    "\n",
    "print(f\"{name}, {age}, {company}\")"
   ]
  },
  {
   "cell_type": "markdown",
   "metadata": {},
   "source": [
    "## Looping through a tuple"
   ]
  },
  {
   "cell_type": "code",
   "execution_count": 6,
   "metadata": {},
   "outputs": [
    {
     "name": "stdout",
     "output_type": "stream",
     "text": [
      "Kalle\n",
      "42\n",
      "Everyloop\n"
     ]
    }
   ],
   "source": [
    "for item in my_tuple:\n",
    "    print(item)"
   ]
  },
  {
   "cell_type": "code",
   "execution_count": 7,
   "metadata": {},
   "outputs": [
    {
     "name": "stdout",
     "output_type": "stream",
     "text": [
      "Kalle\n",
      "42\n",
      "Everyloop\n"
     ]
    }
   ],
   "source": [
    "for i in range(len(my_tuple)):\n",
    "    print(my_tuple[i])"
   ]
  }
 ],
 "metadata": {
  "kernelspec": {
   "display_name": "python-programming-Mikael-Folkesson-Xp2s793V",
   "language": "python",
   "name": "python3"
  },
  "language_info": {
   "codemirror_mode": {
    "name": "ipython",
    "version": 3
   },
   "file_extension": ".py",
   "mimetype": "text/x-python",
   "name": "python",
   "nbconvert_exporter": "python",
   "pygments_lexer": "ipython3",
   "version": "3.11.5"
  },
  "orig_nbformat": 4
 },
 "nbformat": 4,
 "nbformat_minor": 2
}
