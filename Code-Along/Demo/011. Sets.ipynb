{
 "cells": [
  {
   "cell_type": "code",
   "execution_count": null,
   "metadata": {},
   "outputs": [],
   "source": []
  },
  {
   "cell_type": "markdown",
   "metadata": {},
   "source": [
    "# Sets\n",
    "- Set items are unordered, ungangeable, and do not allow duplicate values\n",
    "- Items can not be accessed using indexes or slicing\n",
    "- Set items can be of any data type, and can contain different data types\n",
    "- No duplicates"
   ]
  },
  {
   "cell_type": "code",
   "execution_count": 4,
   "metadata": {},
   "outputs": [
    {
     "name": "stdout",
     "output_type": "stream",
     "text": [
      "5\n",
      "{1, 3, 4, 5, 10}\n",
      "{9, 11, 12}\n"
     ]
    }
   ],
   "source": [
    "# Create set with values\n",
    "\n",
    "a = {1, 3, 5 ,3 ,4 ,10}\n",
    "\n",
    "# Get number of items in set (duplicates not allowed)\n",
    "print(len(a))\n",
    "print(a)\n",
    "\n",
    "a.clear() # Remove all items from set\n",
    "\n",
    "# Add value to set\n",
    "a.add(12)\n",
    "\n",
    "a.update({9,10,11}) # Join with another set\n",
    "\n",
    "# Remove element from set if it exists\n",
    "# pop() removes a random item from a set\n",
    "a.discard(10)\n",
    "\n",
    "print(a)"
   ]
  },
  {
   "cell_type": "code",
   "execution_count": 5,
   "metadata": {},
   "outputs": [
    {
     "name": "stdout",
     "output_type": "stream",
     "text": [
      "{'apple', 'melon', 'kiwi'}\n"
     ]
    }
   ],
   "source": [
    "fruits = [\"apple\",\"kiwi\",\"apple\",\"melon\",\"kiwi\"]\n",
    "\n",
    "# To remove duplicates from a list, convert to set\n",
    "print(set(fruits))"
   ]
  },
  {
   "cell_type": "markdown",
   "metadata": {},
   "source": [
    "## Combining sets\n",
    "Sets can be combined in several ways:\n",
    "- **Union():** returns a set that contains all items from both sets\n",
    "- **Intersection():** Returns a set that contains the items that exis in both set *a* and set *b*\n",
    "- **Difference():** Returns a set that contains the items that only exist in set *a*, and not in set *b*\n",
    "- **Symmetric_difference():** Returns a set that contains all items from both sets, except items that are present in both sets."
   ]
  },
  {
   "cell_type": "code",
   "execution_count": 14,
   "metadata": {},
   "outputs": [
    {
     "name": "stdout",
     "output_type": "stream",
     "text": [
      "a = {9, 11, 12}\n",
      "b = {2, 4, 5, 6, 10, 11, 15}\n",
      "a.union(b, {1,77,89}) = {1, 2, 4, 5, 6, 9, 10, 11, 12, 77, 15, 89}\n",
      "a.intersection(b) = {11}\n",
      "a.difference(b) = {9, 12}\n",
      "b.difference(a) = {2, 4, 5, 6, 10, 15}\n",
      "a.symmetric_difference(b) = {2, 4, 5, 6, 9, 10, 12, 15}\n"
     ]
    }
   ],
   "source": [
    "b = {2,4,5,6,10,11,15}\n",
    "\n",
    "# To not get error, run the cell where a is defined above\n",
    "\n",
    "print(f\"{a = }\\n{b = }\")\n",
    "\n",
    "print(f\"{a.union(b, {1,77,89}) = }\")\n",
    "print(f\"{a.intersection(b) = }\")\n",
    "print(f\"{a.difference(b) = }\")\n",
    "print(f\"{b.difference(a) = }\")\n",
    "print(f\"{a.symmetric_difference(b) = }\")\n"
   ]
  },
  {
   "cell_type": "markdown",
   "metadata": {},
   "source": [
    "In Python, below quick operands can be used for different operations.\n",
    "\n",
    "* | for union.\n",
    "* & for intersection.\n",
    "* – for difference\n",
    "* ^ for symmetric difference"
   ]
  },
  {
   "cell_type": "markdown",
   "metadata": {},
   "source": [
    "To differentiate between set and dict when declaring new empty: use set() and dict() instead of {}."
   ]
  },
  {
   "cell_type": "code",
   "execution_count": 16,
   "metadata": {},
   "outputs": [
    {
     "name": "stdout",
     "output_type": "stream",
     "text": [
      "{2, 4, 5, 6, 9, 10, 11, 12, 15}\n",
      "{11}\n",
      "{9, 12}\n",
      "{2, 4, 5, 6, 9, 10, 12, 15}\n"
     ]
    }
   ],
   "source": [
    "print(a|b)\n",
    "print(a&b)\n",
    "print(a-b)\n",
    "print(a^b)"
   ]
  }
 ],
 "metadata": {
  "kernelspec": {
   "display_name": "python-programming-Mikael-Folkesson-Xp2s793V",
   "language": "python",
   "name": "python3"
  },
  "language_info": {
   "codemirror_mode": {
    "name": "ipython",
    "version": 3
   },
   "file_extension": ".py",
   "mimetype": "text/x-python",
   "name": "python",
   "nbconvert_exporter": "python",
   "pygments_lexer": "ipython3",
   "version": "3.11.5"
  },
  "orig_nbformat": 4
 },
 "nbformat": 4,
 "nbformat_minor": 2
}
