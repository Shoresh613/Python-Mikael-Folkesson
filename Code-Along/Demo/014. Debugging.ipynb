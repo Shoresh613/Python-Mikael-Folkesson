{
 "cells": [
  {
   "cell_type": "markdown",
   "metadata": {},
   "source": [
    "# Debugging\n",
    "Finding and correcting errors (bugs) in code. The term derives from the early days of computing, when there were mechanical relays and a bug was in the way preventing a relay from switching on and off.\n",
    "\n",
    "## Break points\n",
    "In all IDE's (Integrated Development Environment) the developer has the possibility to debug code by stepping through instructions one-by-one and look at the internal states (memory/variables) for each step.\n",
    "\n",
    "We can set one or multiple breakpoints at any line in our code. When starting the program in debug mode, the ode will run up until it hits the first breakpoint. From there we can inspect the current state of our program, and we can choose to either run or program until it hits the next breakpoint, or we can use the 'step over' function of the debugger to step one instruction at a time."
   ]
  },
  {
   "cell_type": "code",
   "execution_count": 2,
   "metadata": {},
   "outputs": [
    {
     "name": "stdout",
     "output_type": "stream",
     "text": [
      "Hello\n",
      "Hello\n",
      "Hello\n",
      "8\n"
     ]
    }
   ],
   "source": [
    "def greet(n):\n",
    "    for i in range(n):\n",
    "        print(\"Hello\")\n",
    "\n",
    "a = 5\n",
    "b = 3\n",
    "c = a + b\n",
    "\n",
    "my_list = [4,5,8,8]\n",
    "my_list.append('hello')\n",
    "\n",
    "greet(b)\n",
    "print(c)"
   ]
  },
  {
   "cell_type": "markdown",
   "metadata": {},
   "source": [
    "## Miniuppgift\n",
    "Skriv ut sekvensesr ur en sträng, där första tecknet i sekvensen är en siffra, och den sista är samma siffra, avbryt om det kommer en bokstav. Skriv ut hela sekvensen, men skriv ut den funna sekvensen med annan färg. En ny rad för varje färg. "
   ]
  },
  {
   "cell_type": "code",
   "execution_count": 36,
   "metadata": {},
   "outputs": [
    {
     "name": "stdout",
     "output_type": "stream",
     "text": [
      "\u001b[0m\u001b[34m2953512\u001b[0m3p48723487597645723645\n",
      "\u001b[0m29\u001b[34m535\u001b[0m123p48723487597645723645\n",
      "\u001b[0m295\u001b[34m35123\u001b[0mp48723487597645723645\n",
      "\u001b[0m29535123p\u001b[34m487234\u001b[0m87597645723645\n",
      "\u001b[0m29535123p4\u001b[34m872348\u001b[0m7597645723645\n",
      "\u001b[0m29535123p48\u001b[34m723487\u001b[0m597645723645\n",
      "\u001b[0m29535123p487\u001b[34m2348759764572\u001b[0m3645\n",
      "\u001b[0m29535123p4872\u001b[34m3487597645723\u001b[0m645\n",
      "\u001b[0m29535123p48723\u001b[34m48759764\u001b[0m5723645\n",
      "\u001b[0m29535123p4872348\u001b[34m7597\u001b[0m645723645\n",
      "\u001b[0m29535123p48723487\u001b[34m597645\u001b[0m723645\n",
      "\u001b[0m29535123p4872348759\u001b[34m76457\u001b[0m23645\n",
      "\u001b[0m29535123p48723487597\u001b[34m6457236\u001b[0m45\n",
      "\u001b[0m29535123p487234875976\u001b[34m4572364\u001b[0m5\n",
      "\u001b[0m29535123p4872348759764\u001b[34m5723645\u001b[0m\n"
     ]
    }
   ],
   "source": [
    "from colorama import Fore, Back, Style\n",
    "# istället för att importera hela biblioteket, slipper då skriva colorama.Fore\n",
    "\n",
    "#print(\"hej\")\n",
    "#print(Fore.BLUE)\n",
    "#print(\"Hej igen\")\n",
    "\n",
    "#print(f\"2342341{Back.YELLOW}453453{Style.RESET_ALL}\")\n",
    "\n",
    "seq = input(\"Enter sequenece: \")\n",
    "string_prior=\"\"\n",
    "string_after=\"\"    \n",
    "\n",
    "for i, char in enumerate(seq):\n",
    "    found=0\n",
    "    if char.isdigit():\n",
    "        j=i+1\n",
    "        while(j<len(seq)):\n",
    "            if not seq[j].isdigit():\n",
    "                break\n",
    "            if seq[j] == seq[i]:\n",
    "                found=1\n",
    "                break\n",
    "            j+=1\n",
    "        if i:\n",
    "            string_prior = seq[:i]\n",
    "        if j<len(seq):\n",
    "            string_after = seq[j+1:]\n",
    "\n",
    "    if found == 1:\n",
    "        print(f\"{Style.RESET_ALL}{string_prior}{Fore.BLUE}{seq[i:j+1]}{Style.RESET_ALL}{string_after}\")\n"
   ]
  }
 ],
 "metadata": {
  "kernelspec": {
   "display_name": "python-programming-Mikael-Folkesson-Xp2s793V",
   "language": "python",
   "name": "python3"
  },
  "language_info": {
   "codemirror_mode": {
    "name": "ipython",
    "version": 3
   },
   "file_extension": ".py",
   "mimetype": "text/x-python",
   "name": "python",
   "nbconvert_exporter": "python",
   "pygments_lexer": "ipython3",
   "version": "3.11.5"
  },
  "orig_nbformat": 4
 },
 "nbformat": 4,
 "nbformat_minor": 2
}
