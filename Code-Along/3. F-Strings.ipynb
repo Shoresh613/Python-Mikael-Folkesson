{
 "cells": [
  {
   "cell_type": "markdown",
   "metadata": {},
   "source": [
    "# f-Strings (Formatted string literals)\n",
    "\n",
    "Hardcoded strings (literals)\n",
    "\n",
    "- literal starts with f or F\n",
    "- variables, expressions can be instrted using {}\n",
    "- use '=' after expression to print expression and result (not only result)\n",
    "- quotes can be used inside expression as long as they differ from the quote type of the f-String\n",
    "- For padding and alignment, use :{padding character (default space)}{alignment}{width}\n",
    "- Alignments: Left <, Center ^, Right >. Default alignment is left for strings, right for numbers\n",
    "- Data type: Add data type after padding and aligntment, eg: x:<20.2f\n",
    "- Data type formats: Fixed-point notation (f), Exponent notation (e), Percentage (%) where default precision is 6\n",
    "- Use comma for thousands separation, eg: (1000:,) or (1000:,.2f)\n",
    "- Use methods"
   ]
  },
  {
   "cell_type": "code",
   "execution_count": 24,
   "metadata": {},
   "outputs": [
    {
     "name": "stdout",
     "output_type": "stream",
     "text": [
      "Hello MIKAEL!\n",
      "5 + 8 = 13\n",
      "Hej \"Mikael\"\n",
      "Hej '\"Mikael'\n",
      "3.14\n",
      "1.00e+06\n",
      "78.000000%\n",
      "78.00%\n",
      "0.78\n",
      "7.800e-01\n",
      "78.000000%\n",
      "1,000,000.00\n"
     ]
    }
   ],
   "source": [
    "name = input(\"Enter your name: \")\n",
    "myString = f\"Hello {name.upper()}!\"\n",
    "print(myString)\n",
    "\n",
    "print(f\"{5 + 8 = }\")\n",
    "\n",
    "print(f'Hej \"{name}\"') #Går att använda vilka fnuttar man vill beroende på vad man vill ha i outputen\n",
    "print(f\"Hej '\\\"{name}'\") #Vill man ha båda kan man låta den föregås av backslash. Kan även använda \\n för ny rad\n",
    "\n",
    "print(f\"{3.1415927:.2f}\") #Avrunda flyttal eller specificera antal decimaler\n",
    "\n",
    "print(f\"{1000000:.2e}\") #Scientific notation\n",
    "\n",
    "print(f\"{0.78:%}\")\n",
    "print(f\"{0.78:.2%}\")\n",
    "\n",
    "print(f\"{0.78:.2f}\")\n",
    "print(f\"{0.78:.3e}\")\n",
    "print(f\"{0.78:%}\")\n",
    "print(f\"{1000000:,.2f}\")"
   ]
  },
  {
   "cell_type": "code",
   "execution_count": 14,
   "metadata": {},
   "outputs": [
    {
     "name": "stdout",
     "output_type": "stream",
     "text": [
      "=====Firstname====== Lastname\n",
      "xxxxxxxxxxxxxFredrik Johansson\n"
     ]
    }
   ],
   "source": [
    "first_name=\"Fredrik\"\n",
    "last_name=\"Johansson\"\n",
    "\n",
    "print(f\"{'Firstname':=^20} {'Lastname'}\")\n",
    "print(f\"{first_name:x>20} {last_name}\")"
   ]
  }
 ],
 "metadata": {
  "kernelspec": {
   "display_name": "Python-Mikael-Folkesson-aTHbKsrI",
   "language": "python",
   "name": "python3"
  },
  "language_info": {
   "codemirror_mode": {
    "name": "ipython",
    "version": 3
   },
   "file_extension": ".py",
   "mimetype": "text/x-python",
   "name": "python",
   "nbconvert_exporter": "python",
   "pygments_lexer": "ipython3",
   "version": "3.11.2"
  },
  "orig_nbformat": 4
 },
 "nbformat": 4,
 "nbformat_minor": 2
}
