{
 "cells": [
  {
   "cell_type": "markdown",
   "metadata": {},
   "source": [
    "# Extra string exercises"
   ]
  },
  {
   "cell_type": "markdown",
   "metadata": {},
   "source": [
    "1. Utgå från strängen (skapa en variabel med) “Hello World!”, skriv ut hela strängen bokstav för bokstav (i en loop), men avsluta när det kommer ett space. (Den ska alltså bara skriva “Hello”)."
   ]
  },
  {
   "cell_type": "code",
   "execution_count": null,
   "metadata": {},
   "outputs": [],
   "source": [
    "# Skipping, too easy"
   ]
  },
  {
   "cell_type": "markdown",
   "metadata": {},
   "source": [
    "2. Utgå från strängen “This is just some other text”. Skriv ut strängen bokstav för bokstav, men när det kommer ett space, gör radbyte istället. (Du ska få ett ord på varje rad)."
   ]
  },
  {
   "cell_type": "code",
   "execution_count": null,
   "metadata": {},
   "outputs": [],
   "source": [
    "# Skipping, too easy"
   ]
  },
  {
   "cell_type": "markdown",
   "metadata": {},
   "source": [
    "3. Utgå från strängen “Detta är uppgift 3”. Skriv ut bokstav för bokstav. Men om index är en jämn siffra, skriv istället ut *"
   ]
  },
  {
   "cell_type": "code",
   "execution_count": null,
   "metadata": {},
   "outputs": [],
   "source": [
    "# Skipping, too easy"
   ]
  },
  {
   "cell_type": "markdown",
   "metadata": {},
   "source": [
    "4. Utgå från strängen “Hello world!”. Skriv ut bokstav för bokstav. Alla “o” ska vara grön färg, alla “l” ska vara röd färg. Övriga bokstäver är vita/grå."
   ]
  },
  {
   "cell_type": "code",
   "execution_count": null,
   "metadata": {},
   "outputs": [],
   "source": [
    "# Skipping, too easy"
   ]
  },
  {
   "cell_type": "markdown",
   "metadata": {},
   "source": [
    "5. Utgå från strängen “Hello world”. Skriv ut bokstav för bokstav. Om två tecken på rad är samma så ska dessa vara grön färg. Övriga bokstäver är vita/grå.\n"
   ]
  },
  {
   "cell_type": "code",
   "execution_count": 13,
   "metadata": {},
   "outputs": [
    {
     "name": "stdout",
     "output_type": "stream",
     "text": [
      "He\u001b[32ml\u001b[0m\u001b[32ml\u001b[0m\u001b[32mo\u001b[0m w\u001b[32mo\u001b[0mr\u001b[32ml\u001b[0md"
     ]
    }
   ],
   "source": [
    "from colorama import Fore, Back, Style\n",
    "\n",
    "text = \"Hello world\"\n",
    "\n",
    "for char in text:\n",
    "    count = text.count(char)\n",
    "    if count >= 2:\n",
    "        print(f\"{Fore.GREEN}{char}{Style.RESET_ALL}\", end=\"\")\n",
    "    else:\n",
    "        print(f\"{char}\", end=\"\")\n",
    "        \n"
   ]
  },
  {
   "cell_type": "markdown",
   "metadata": {},
   "source": [
    "\n",
    "6. Utgå från strängen “How much wood would a woodchuck chuck if a woodchuck could chuck wood?”, samt den mindre strängen “oo”. Skriv ut den långa strängen bokstav för bokstav. Varje gång den mindre strängen förekommer (två “o” på raken) så ska dessa vara med grön färg. Övriga bokstäver är vita/grå.\n"
   ]
  },
  {
   "cell_type": "code",
   "execution_count": 15,
   "metadata": {},
   "outputs": [
    {
     "name": "stdout",
     "output_type": "stream",
     "text": [
      "How much w\u001b[32mo\u001b[0m\u001b[32mo\u001b[0md would a w\u001b[32mo\u001b[0m\u001b[32mo\u001b[0mdchuck chuck if a w\u001b[32mo\u001b[0m\u001b[32mo\u001b[0mdchuck could chuck w\u001b[32mo\u001b[0m\u001b[32mo\u001b[0md?"
     ]
    }
   ],
   "source": [
    "from colorama import Fore, Back, Style\n",
    "\n",
    "text = \"How much wood would a woodchuck chuck if a woodchuck could chuck wood?\"\n",
    "\n",
    "for i, char in enumerate(text):\n",
    "    count = text.count(char)\n",
    "    try:\n",
    "        if (char == 'o' and (text[i+1] == 'o' or text[i-1] == 'o')):\n",
    "            print(f\"{Fore.GREEN}{char}{Style.RESET_ALL}\", end=\"\")\n",
    "        else:\n",
    "            print(f\"{char}\", end=\"\")\n",
    "    except:\n",
    "        pass    \n"
   ]
  },
  {
   "cell_type": "markdown",
   "metadata": {},
   "source": [
    "7. Samma som uppgift 79, men den mindre strängen är “chuck” istället för “oo”. D.v.s. alla gånger “chuck” förekommer i den längre strängen skrivs dessa med grön text."
   ]
  },
  {
   "cell_type": "code",
   "execution_count": 19,
   "metadata": {},
   "outputs": [
    {
     "name": "stdout",
     "output_type": "stream",
     "text": [
      "How much wood would a wood\u001b[32mchuck\u001b[0m \u001b[32mchuck\u001b[0m if a wood\u001b[32mchuck\u001b[0m could \u001b[32mchuck\u001b[0m wood?\n"
     ]
    }
   ],
   "source": [
    "from colorama import Fore, Back, Style\n",
    "\n",
    "text = \"How much wood would a woodchuck chuck if a woodchuck could chuck wood?\"\n",
    "check = \"chuck\"\n",
    "\n",
    "while len(text) > 0:\n",
    "    index = text.find(check)\n",
    "    if index != -1:\n",
    "        print(f\"{text[:index]}\", end=\"\")\n",
    "        print(f\"{Fore.GREEN}{text[index:index+len(check)]}{Style.RESET_ALL}\", end=\"\")\n",
    "        text = text[index+len(check):]\n",
    "    else:\n",
    "        print(f\"{text}\")\n",
    "        text = \"\""
   ]
  },
  {
   "cell_type": "markdown",
   "metadata": {},
   "source": [
    "8. Samma som uppgift 79 igen, men denna gången kan användaren mata in den kortare strängen, alltså valfri text som ska sökas (färgas grön) i den längre texten."
   ]
  },
  {
   "cell_type": "code",
   "execution_count": null,
   "metadata": {},
   "outputs": [],
   "source": [
    "# Skipping, too similar to above. Just check = input()"
   ]
  },
  {
   "cell_type": "markdown",
   "metadata": {},
   "source": [
    "9. Utgå från strängen “Hello world!”. Gör ett program som skriver ut första bokstaven en gång på första raden. Andra bokstaven 2 gånger på andra raden. Tredje, 3 gånger på nästa rad osv. Alltså:\n",
    "H\n",
    "ee\n",
    "lll\n",
    "o.s.v...."
   ]
  },
  {
   "cell_type": "code",
   "execution_count": null,
   "metadata": {},
   "outputs": [],
   "source": [
    "# Skipping"
   ]
  },
  {
   "cell_type": "markdown",
   "metadata": {},
   "source": [
    "10. Utgå från strängen “How much wood would a woodchuck chuck if a woodchuck could chuck wood?”. Gör ett program som skriver ut första ordet en gång på första raden; andra ordet två gånger på nästa rad. Tredje ordet tre gånger på nästa. etc. alltså:\n",
    "How\n",
    "much much\n",
    "wood wood wood\n",
    "o.s.v."
   ]
  },
  {
   "cell_type": "code",
   "execution_count": null,
   "metadata": {},
   "outputs": [],
   "source": [
    "# split(\" \") in a list, loop through and put print in for loop in range index"
   ]
  },
  {
   "cell_type": "markdown",
   "metadata": {},
   "source": [
    "11. Utgå från strängen “How much wood would a woodchuck chuck if a woodchuck could chuck wood?”. Gör ett program som på första raden skriver ut första ordet. På nästa rad skriver ut de två första orden, sedan de tre första orden på nästa rad o.s.v till man kommit till raden som skriver ut hela meningen. Alltså:\n",
    "How\n",
    "How much\n",
    "How much wood\n",
    "o.s.v.\n"
   ]
  },
  {
   "cell_type": "code",
   "execution_count": null,
   "metadata": {},
   "outputs": [],
   "source": [
    "# split(\" \"), print slice(:index) per index in loop"
   ]
  },
  {
   "cell_type": "markdown",
   "metadata": {},
   "source": [
    "12. Utgå från samma sträng igen, men denna gång ska programmet skriva ut hela strängen på varje rad. På första raden ska första ordet vara grön (övriga vita), på andra raden ska andra ordet vara grönt. På tredje raden ska tredje vara grön osv. Alltså:\n",
    "How much wood would a woodchuck chuck if a woodchuck could chuck wood?\n",
    "How much wood would a woodchuck chuck if a woodchuck could chuck wood?\n",
    "How much wood would a woodchuck chuck if a woodchuck could chuck wood?\n",
    "o.s.v.\n"
   ]
  },
  {
   "cell_type": "code",
   "execution_count": 23,
   "metadata": {},
   "outputs": [
    {
     "name": "stdout",
     "output_type": "stream",
     "text": [
      "\u001b[32mHow\u001b[0m much wood would a woodchuck chuck if a woodchuck could chuck wood?\n",
      "How \u001b[32mmuch\u001b[0m wood would a woodchuck chuck if a woodchuck could chuck wood?\n",
      "How much \u001b[32mwood\u001b[0m would a woodchuck chuck if a woodchuck could chuck wood?\n",
      "How much wood \u001b[32mwould\u001b[0m a woodchuck chuck if a woodchuck could chuck wood?\n",
      "How much wood would \u001b[32ma\u001b[0m woodchuck chuck if a woodchuck could chuck wood?\n",
      "How much wood would a \u001b[32mwoodchuck\u001b[0m chuck if a woodchuck could chuck wood?\n",
      "How much wood would a woodchuck \u001b[32mchuck\u001b[0m if a woodchuck could chuck wood?\n",
      "How much wood would a woodchuck chuck \u001b[32mif\u001b[0m a woodchuck could chuck wood?\n",
      "How much wood would a woodchuck chuck if \u001b[32ma\u001b[0m woodchuck could chuck wood?\n",
      "How much wood would a woodchuck chuck if a \u001b[32mwoodchuck\u001b[0m could chuck wood?\n",
      "How much wood would a woodchuck chuck if a woodchuck \u001b[32mcould\u001b[0m chuck wood?\n",
      "How much wood would a woodchuck chuck if a woodchuck could \u001b[32mchuck\u001b[0m wood?\n",
      "How much wood would a woodchuck chuck if a woodchuck could chuck \u001b[32mwood?\u001b[0m "
     ]
    }
   ],
   "source": [
    "from colorama import Fore, Back, Style\n",
    "\n",
    "text = \"How much wood would a woodchuck chuck if a woodchuck could chuck wood?\"\n",
    "check = \"chuck\"\n",
    "text_list = text.split(\" \")\n",
    "i=0\n",
    "\n",
    "while i < len(text_list):\n",
    "    if i > 0:\n",
    "        print(f\"{' '.join(text_list[:i])}\", end=\" \")\n",
    "    print(f\"{Fore.GREEN}{text_list[i]}{Style.RESET_ALL}\", end=\" \")    \n",
    "    if i < len(text_list)-1:\n",
    "        print(f\"{' '.join(text_list[i+1:])}\")\n",
    "    i += 1"
   ]
  },
  {
   "cell_type": "markdown",
   "metadata": {},
   "source": [
    "13. Utgå från strängen “abcdefghijklmnopqrstuvwxyz”. Hela strängen skrivs ut på varje rad. På första raden är de 5 första tecknen gröna. På nästa rad är “bcdef” grön, sedan “cedfg” osv.. alltså alltid 5 tecken, men de flyttas ett steg åt höger för varje rad, tills sista raden har “vwxyz” grönfärgad. Alltså:\n",
    "abcdefghijklmnopqrstuvwxyz\n",
    "abcdefghijklmnopqrstuvwxyz\n",
    "abcdefghijklmnopqrstuvwxyz\n",
    "o.s.v.\n"
   ]
  },
  {
   "cell_type": "code",
   "execution_count": null,
   "metadata": {},
   "outputs": [],
   "source": [
    "# Same as above, only step five chars in the string instead of spliting and joining a list"
   ]
  },
  {
   "cell_type": "markdown",
   "metadata": {},
   "source": [
    "14. Användaren matar in valfri sträng. Programmet skriver ut hela strängen bokstav för bokstav. Alla bokstäverna är gröna fram tills du stöter på ett tecken som är samma som första tecknet i strängen. Därefter skriver den ut resten av bokstäver med vit/grå färg. Några exempel på inmatningar:\n",
    "ajdfhvajhdfd\n",
    "hhfgijff\n",
    "fjpdpog"
   ]
  },
  {
   "cell_type": "code",
   "execution_count": null,
   "metadata": {},
   "outputs": [],
   "source": [
    "# Check if char is the same as first, then reset output and print rest of string"
   ]
  },
  {
   "cell_type": "markdown",
   "metadata": {},
   "source": [
    "15. Användaren matar in valfri sträng. Programmet skriver sedan ut en hela strängen flera gånger. På första raden börjar den skriva med grön färg på första bokstaven och fram tills den hittar samma bokstav igen. På andra raden börjar den skriva med grön färg på andra bokstaven och fram tills den hittar samma bokstav igen. På tredje raden börjar den skriva med grön text på tredje bokstaven och fram tills den hittar samma igen. Om man t.ex matar in “ajdfhvajhdfd” blir det då:\n",
    "ajdfhvajhdfd\n",
    "ajdfhvajhdfd\n",
    "ajdfhvajhdfd\n",
    "ajdfhvajhdfd\n",
    "o.s.v"
   ]
  },
  {
   "cell_type": "code",
   "execution_count": null,
   "metadata": {},
   "outputs": [],
   "source": [
    "# Same as above, only use row index to compare the character to."
   ]
  }
 ],
 "metadata": {
  "kernelspec": {
   "display_name": "Python 3",
   "language": "python",
   "name": "python3"
  },
  "language_info": {
   "codemirror_mode": {
    "name": "ipython",
    "version": 3
   },
   "file_extension": ".py",
   "mimetype": "text/x-python",
   "name": "python",
   "nbconvert_exporter": "python",
   "pygments_lexer": "ipython3",
   "version": "3.11.5"
  },
  "orig_nbformat": 4
 },
 "nbformat": 4,
 "nbformat_minor": 2
}
