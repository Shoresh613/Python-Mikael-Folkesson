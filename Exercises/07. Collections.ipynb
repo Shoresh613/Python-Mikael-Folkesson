{
 "cells": [
  {
   "cell_type": "markdown",
   "metadata": {},
   "source": [
    "## 1. Print inputed values in reverse (*)\n",
    "\n",
    "Create a loop that keeps asking for user input until the user inputs an empty string, then print all inputs in reverse order."
   ]
  },
  {
   "cell_type": "code",
   "execution_count": 3,
   "metadata": {},
   "outputs": [
    {
     "name": "stdout",
     "output_type": "stream",
     "text": [
      "kaka Kalle göra Smakar \n"
     ]
    }
   ],
   "source": [
    "input_list = []\n",
    "\n",
    "while(True):\n",
    "    inp = input(\"Enter input, when finished press Enter to stop: \")\n",
    "    if inp == \"\":\n",
    "        break\n",
    "    input_list.append(inp)\n",
    "\n",
    "input_list.reverse()\n",
    "for inp in input_list:\n",
    "    print(f\"{inp}\",end=\" \")\n",
    "print()"
   ]
  },
  {
   "cell_type": "markdown",
   "metadata": {},
   "source": [
    "---\n",
    "\n",
    "## 2. Print a given number using words. (*)\n",
    "\n",
    "Create a dictionary with 10 key-value pairs: {\"0\": \"Zero\", \"1\": \"One\", ..., \"9\": \"Nine\"}\n",
    "\n",
    "Make the program ask the user to input a number, then print the word for each number in sequence;\n",
    "\n",
    "<details>\n",
    "\n",
    "<summary>Example</summary>\n",
    "\n",
    "```\n",
    "Input: 34507\n",
    "Output: Three-Four-Five-Zero-Seven\n",
    "```\n",
    "\n",
    "</details>\n"
   ]
  },
  {
   "cell_type": "code",
   "execution_count": 13,
   "metadata": {},
   "outputs": [
    {
     "name": "stdout",
     "output_type": "stream",
     "text": [
      "One-Two-Eight-Nine-Three-Seven-One-Nine-Two"
     ]
    }
   ],
   "source": [
    "def wordify(inp):\n",
    "    number_dict = {\n",
    "        0: \"Zero\",\n",
    "        1: \"One\",\n",
    "        2: \"Two\",\n",
    "        3: \"Three\",\n",
    "        4: \"Four\",\n",
    "        5: \"Five\",\n",
    "        6: \"Six\",\n",
    "        7: \"Seven\",\n",
    "        8: \"Eight\",\n",
    "        9: \"Nine\",\n",
    "    }\n",
    "\n",
    "    try:\n",
    "        int(inp)\n",
    "    except:\n",
    "        print(\"Invalid input\")\n",
    "        return\n",
    "\n",
    "    #For each digit\n",
    "    for i, num in enumerate(inp):\n",
    "        #Walk through dict to check if it's the number \n",
    "        for number, name in number_dict.items():\n",
    "            if i == len(inp)-1:\n",
    "                if int(num) == number:\n",
    "                    print(f\"{name}\", end=\"\")\n",
    "            else:\n",
    "                if int(num) == number:\n",
    "                    print(f\"{name}\", end=\"-\")\n",
    "\n",
    "inp = input(\"Enter a positive integer to see in words: \")\n",
    "wordify(inp)\n"
   ]
  },
  {
   "cell_type": "markdown",
   "metadata": {},
   "source": [
    "---\n",
    "## 3. Glossary training program (*)\n",
    "\n",
    "Create a glossary training program, where the user can test their skills on translating the names of english colors to swedish:\n",
    "\n",
    "- The program should ask the user to write a color in swedish (eg. \"Type the Swedish word for 'red': )\n",
    "\n",
    "- Then let the user know if it was correct (and if not, show them the correct translation)\n",
    "\n",
    "- Keep asking to translate random colors until the user inputs an blank answer (\"\")\n",
    "\n",
    "- Lastly let the user know how many of their translations where correct, how many they guess in total, and the ratio of correct answer (eg. \"You got 3 out of 5 correct answers. That is 60%\")\n"
   ]
  },
  {
   "cell_type": "code",
   "execution_count": 6,
   "metadata": {},
   "outputs": [
    {
     "name": "stdout",
     "output_type": "stream",
     "text": [
      "You got 4 out of 5 correct answers. That is 80%.\n"
     ]
    }
   ],
   "source": [
    "import random\n",
    "\n",
    "color_dictionary = {\n",
    "    \"red\": \"röd\",\n",
    "    \"blue\": \"blå\",\n",
    "    \"green\": \"grön\",\n",
    "    \"yellow\": \"gul\",\n",
    "    \"orange\": \"orange\",\n",
    "    \"purple\": \"lila\",\n",
    "    \"pink\": \"rosa\",\n",
    "    \"brown\": \"brun\",\n",
    "    \"white\": \"vit\",\n",
    "    \"black\": \"svart\",\n",
    "    \"gray\": \"grå\"\n",
    "}\n",
    "\n",
    "rights=0\n",
    "total=0\n",
    "\n",
    "while True:\n",
    "    random_color = random.choice(list(color_dictionary.keys()))\n",
    "    inp = input(f\"Type the Swedish word for '{random_color}: \")\n",
    "    if inp == color_dictionary[random_color]:\n",
    "        rights += 1\n",
    "    if inp == \"\":\n",
    "        break\n",
    "    total +=1\n",
    "print(f\"You got {rights} out of {total} correct answers. That is {rights/total:.0%}.\")"
   ]
  },
  {
   "cell_type": "markdown",
   "metadata": {},
   "source": [
    "---\n",
    "## 4. Find common values between two inputs (*)\n",
    "\n",
    "Ask the user to input items on a comma-seperated list (1 input string)\n",
    "\n",
    "Then ask the user to input a new string of comma seperated items.\n",
    "\n",
    "Lastly, print all the items that appeared in both lists.\n",
    "\n",
    "<details>\n",
    "\n",
    "<summary>Example</summary>\n",
    "\n",
    "```\n",
    "Input A: green, red, yellow, purple, blue\n",
    "Input B: red, blue, black, white, brown\n",
    "Output: red, blue\n",
    "```\n",
    "\n",
    "</details>"
   ]
  },
  {
   "cell_type": "code",
   "execution_count": 21,
   "metadata": {},
   "outputs": [
    {
     "name": "stdout",
     "output_type": "stream",
     "text": [
      "{'3', '1', '4', '7'}\n",
      "{'', '1', '2', '3', '9'}\n",
      "The common elements are: {'3', '1'}\n"
     ]
    }
   ],
   "source": [
    "set1 = set(input(\"Enter a comma separated list\").split(\",\"))\n",
    "print(set1)\n",
    "set2 = set((input(\"Enter another comma separated list\").split(\",\")))\n",
    "print(set2)\n",
    "intersect = set1.intersection(set2)\n",
    "\n",
    "print(f\"The common elements are: {intersect}\")"
   ]
  },
  {
   "cell_type": "markdown",
   "metadata": {},
   "source": [
    "---\n",
    "\n",
    "## 5. Print a given number using words (version 2). (**)\n",
    "\n",
    "Make the program ask the user to input any number from 0 to 99999.\n",
    "\n",
    "The program should then print out the full sequence of words for the number.\n",
    "\n",
    "<details>\n",
    "\n",
    "<summary>Example</summary>\n",
    "\n",
    "```\n",
    "Input: 34507\n",
    "Output: Thirtyfour thousand five hundred and seven\n",
    "```\n",
    "\n",
    "</details>\n"
   ]
  },
  {
   "cell_type": "code",
   "execution_count": 48,
   "metadata": {},
   "outputs": [
    {
     "name": "stdout",
     "output_type": "stream",
     "text": [
      "thirty four thousand five hundred twenty three "
     ]
    }
   ],
   "source": [
    "def wordify_number(number: int):\n",
    "\n",
    "    base_dict = {\n",
    "        1000: \"thousand\",\n",
    "        100: \"hundred\",\n",
    "        90: \"ninety\",\n",
    "        80: \"eighty\",\n",
    "        70: \"seventy\",\n",
    "        60: \"sixty\",\n",
    "        50: \"fifty\",\n",
    "        40: \"forty\",\n",
    "        30: \"thirty\",\n",
    "        20: \"twenty\",\n",
    "        19: \"nineteen\",\n",
    "        18: \"eighteen\",\n",
    "        17: \"seventeen\",\n",
    "        16: \"sixteen\",\n",
    "        15: \"fifteen\",\n",
    "        14: \"fourteen\",\n",
    "        13: \"thirteen\",\n",
    "        12: \"twelve\",\n",
    "        11: \"eleven\",\n",
    "        10: \"ten\",\n",
    "        9: \"nine\",\n",
    "        8: \"eight\",\n",
    "        7: \"seven\",\n",
    "        6: \"six\",\n",
    "        5: \"five\",\n",
    "        4: \"four\",\n",
    "        3: \"three\",\n",
    "        2: \"two\",\n",
    "        1: \"one\",\n",
    "    }\n",
    "\n",
    "    for base, base_name in base_dict.items():\n",
    "        j = 1\n",
    "        count=0\n",
    "        recurse=0\n",
    "        while (float(number)/(base*j)) >= 1:\n",
    "            count += 1\n",
    "            j +=1\n",
    "        if count > 1 and (base == 1000 or base == 100) :\n",
    "            wordify_number(count)\n",
    "            recurse=1\n",
    "        if count > 1 and recurse == 0:\n",
    "            print(f\"{count} {base_name}\", end=\" \")\n",
    "        elif count > 1 and recurse == 1:\n",
    "            print(f\"{base_name}\",end=\" \")\n",
    "        elif count == 1:\n",
    "            if base_name == 'thousand' or base_name == 'hundred':\n",
    "                print(f\"{count} {base_name}\", end=\" \")\n",
    "            else:    \n",
    "                print(f\"{base_name}\",end=\" \")\n",
    "        number -= count*base\n",
    "\n",
    "number = input(\"Enter value to see pronounciation: \")\n",
    "words = wordify_number(int(number))\n"
   ]
  }
 ],
 "metadata": {
  "kernelspec": {
   "display_name": "python-programming-Mikael-Folkesson-Xp2s793V",
   "language": "python",
   "name": "python3"
  },
  "language_info": {
   "codemirror_mode": {
    "name": "ipython",
    "version": 3
   },
   "file_extension": ".py",
   "mimetype": "text/x-python",
   "name": "python",
   "nbconvert_exporter": "python",
   "pygments_lexer": "ipython3",
   "version": "3.11.5"
  },
  "orig_nbformat": 4
 },
 "nbformat": 4,
 "nbformat_minor": 2
}
