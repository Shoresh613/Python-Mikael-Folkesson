{
 "cells": [
  {
   "cell_type": "markdown",
   "metadata": {},
   "source": [
    "## 1. Check sign (*)\n",
    "\n",
    "Ask the user to input a number and check if this number is **positive**, **negative** or **zero** and print it out."
   ]
  },
  {
   "cell_type": "code",
   "execution_count": 10,
   "metadata": {},
   "outputs": [
    {
     "name": "stdout",
     "output_type": "stream",
     "text": [
      "The number 0.5 is a positive number\n"
     ]
    }
   ],
   "source": [
    "number = float(input(\"Input a number: \"))\n",
    "\n",
    "if number < 0 : print(f\"The number {number} is a negative number\")\n",
    "elif number > 0 : print(f\"The number {number} is a positive number\")\n",
    "else: print(f\"The number is {number}\") # Zero"
   ]
  },
  {
   "cell_type": "markdown",
   "metadata": {},
   "source": [
    "---\n",
    "## 2. Smallest (*)\n",
    "Ask the user to input two numbers and check which one is the smallest and print it out.   "
   ]
  },
  {
   "cell_type": "code",
   "execution_count": 11,
   "metadata": {},
   "outputs": [
    {
     "name": "stdout",
     "output_type": "stream",
     "text": [
      "The smallest number is 5.0\n"
     ]
    }
   ],
   "source": [
    "number1 = float(input(\"Enter first number: \"))\n",
    "number2 = float(input(\"Enter second number: \"))\n",
    "\n",
    "if number1<number2:\n",
    "    print(f\"The smallest number is {number1}\")\n",
    "elif number1==number2:\n",
    "    print(f\"The numbers are equal\")\n",
    "else:\n",
    "    print(f\"The smallest number is {number2}\")"
   ]
  },
  {
   "cell_type": "markdown",
   "metadata": {},
   "source": [
    "---\n",
    "## 3. Right angle (*)\n",
    "\n",
    "Ask the user to input three angles and check if the triangle has a right angle. Your code should make sure that all three angles are valid and make up a triangle."
   ]
  },
  {
   "cell_type": "code",
   "execution_count": 37,
   "metadata": {},
   "outputs": [
    {
     "name": "stdout",
     "output_type": "stream",
     "text": [
      "------- Checking whether a triangle has a right angle ------- \n",
      "\n",
      "-4.0 is not a valid angle, it cannot be negative.\n",
      "The angles 5.0 and 45.0 are part of a triangle, just not a right angled triangle, as the sum of the angles is too small (50.0 + 90 < 180).\n"
     ]
    }
   ],
   "source": [
    "print(f\"{' Checking whether a triangle has a right angle ':-^61} \\n\")\n",
    "\n",
    "inputInvalid=1\n",
    "while(inputInvalid):\n",
    "    try:\n",
    "        angle1 = float(input(\"Enter first angle: \"))\n",
    "    except:\n",
    "        print(\"Please enter a valid number!\")\n",
    "    else: \n",
    "        if(angle1<=0):\n",
    "            inputInvalid=1\n",
    "            print(f\"{angle1} is not a valid angle, it cannot be negative.\")\n",
    "        elif(angle1>=180):\n",
    "            inputInvalid=1\n",
    "            print(f\"{angle1} is not a valid triangle angle, it cannot be 180 degrees or greater\")\n",
    "        else: inputInvalid=0\n",
    "    \n",
    "inputInvalid=1\n",
    "while(inputInvalid):\n",
    "    try:\n",
    "        angle2 = float(input(\"Enter second angle: \"))\n",
    "    except:\n",
    "        print(\"Please enter a valid number!\")\n",
    "    else:\n",
    "        if(angle2<=0):\n",
    "            inputInvalid=1\n",
    "            print(f\"{angle2} is not a valid angle, it cannot be negative.\")\n",
    "        elif(angle2>=180):\n",
    "            inputInvalid=1\n",
    "            print(f\"{angle2} is not a valid triangle angle, it cannot be 180 degrees or greater\")\n",
    "        else: inputInvalid=0\n",
    "\n",
    "\n",
    "if angle1 + angle2 + 90 == 180 : print(f\"The angles {angle1} and {angle2} are part of a right angled triangle! ({angle1 + angle2} + 90 = 180)\")\n",
    "elif angle1 + angle2 >= 180 : print(f\"The angles {angle1} and {angle2} cannot be part of a triangle, as the sum of them is too big ({angle1+angle2} => 180).\")\n",
    "elif angle1 + angle2 + 90 < 180 : print(f\"The angles {angle1} and {angle2} are part of a triangle, just not a right angled triangle, as the sum of the angles is too small ({angle1+angle2} + 90 < 180).\")"
   ]
  },
  {
   "cell_type": "markdown",
   "metadata": {},
   "source": [
    "----\n",
    "## 4. Medicine (*)\n",
    "\n",
    "The information in the following table is stated in a medicine package. Also it is stated that for children weight is more important than age.\n",
    "\n",
    "<table align=\"left\">\n",
    "<thead>\n",
    "    <tr>\n",
    "        <th></th>\n",
    "        <th>Age</th>\n",
    "        <th>Number of pills</th>\n",
    "    </tr>\n",
    "</thead>\n",
    "\n",
    "<tbody>\n",
    "  <tr>\n",
    "    <td>Adults & adolescent <br>over 40 kg</td>\n",
    "    <td>over 12 years</td>\n",
    "    <td>1-2</td>\n",
    "  </tr>\n",
    "\n",
    "  <tr>\n",
    "    <td>Children 26-40 kg</td>\n",
    "    <td>7-12 years</td>\n",
    "    <td>1/2-1</td>\n",
    "  </tr>\n",
    "\n",
    "  <tr>\n",
    "    <td>Children 15-25 kg</td>\n",
    "    <td>3-7 years</td>\n",
    "    <td>1/2</td>\n",
    "  </tr>\n",
    "</tbody>\n",
    "</table>"
   ]
  },
  {
   "cell_type": "code",
   "execution_count": 49,
   "metadata": {},
   "outputs": [
    {
     "ename": "SyntaxError",
     "evalue": "invalid syntax (27037065.py, line 37)",
     "output_type": "error",
     "traceback": [
      "\u001b[1;36m  Cell \u001b[1;32mIn[49], line 37\u001b[1;36m\u001b[0m\n\u001b[1;33m    if 15 <= weight < 26: print(f\"As you weigh {weight} kg you should take 1/2 a synthetic patented pill, according to the medical mafia.\":''<61)\u001b[0m\n\u001b[1;37m                                                                                                                                          ^\u001b[0m\n\u001b[1;31mSyntaxError\u001b[0m\u001b[1;31m:\u001b[0m invalid syntax\n"
     ]
    }
   ],
   "source": [
    "print(f\"{' The Pills Peddler ':-^61}\")\n",
    "print(f\"{' based on age and weight ':^61} \\n\")\n",
    "\n",
    "inputInvalid=1\n",
    "while(inputInvalid):\n",
    "    try:\n",
    "        age = float(input(\"Enter age: \"))\n",
    "    except:\n",
    "        print(\"Please enter a valid number!\")\n",
    "    else: \n",
    "        if(age<=0):\n",
    "            inputInvalid=1\n",
    "            print(f\"{age} is not a valid age, it cannot be zero or negative.\")\n",
    "        elif(age>=300):\n",
    "            inputInvalid=1\n",
    "            print(f\"{age} is a very impressive age, what is your secret? Pretend you are younger, you don't need pills anyway.\")\n",
    "        else: inputInvalid=0\n",
    "\n",
    "inputInvalid=1\n",
    "while(inputInvalid):\n",
    "    try:\n",
    "        weight = float(input(\"Enter weight in kg: \"))\n",
    "    except:\n",
    "        print(\"Please enter a valid number!\")\n",
    "    else: \n",
    "        if(weight<=0):\n",
    "            inputInvalid=1\n",
    "            print(f\"{weight} is not a valid weight, it cannot be negative (according to theory).\")\n",
    "        elif(weight>=597):\n",
    "            inputInvalid=1\n",
    "            print(f\"{weight} is a world record. Try again when you have lost some weight.\")\n",
    "        else: inputInvalid=0\n",
    "\n",
    "if age < 3: print(\"You are too young for this sh*t\")\n",
    "if weight < 15: print(\"You are too small for this sh*t\")\n",
    "\n",
    "if 15 <= weight < 26: print(f\"As you weigh {weight} kg you should take 1/2 a synthetic patented pill, according to the medical mafia.\")\n",
    "if 26 <= weight < 40: print(f\"As you weigh {weight} kg you should take 1/2-1 synthetic patented pill, according to the medical mafia.\")\n",
    "if weight >= 40: print(f\"As you weigh {weight} kg you should take 1-2 synthetic patented pills, according to the medical mafia.\")"
   ]
  },
  {
   "cell_type": "markdown",
   "metadata": {},
   "source": [
    "---\n",
    "## 5. Divisible (*)\n",
    "Let the user input a number. Check if the number is\n",
    "<ol type=\"a\">\n",
    "  <li>even or odd</li>\n",
    "  <li>is divisible by 5</li>\n",
    "  <li>is divisble by 5 and odd</li>\n",
    "</ol> "
   ]
  },
  {
   "cell_type": "code",
   "execution_count": 53,
   "metadata": {},
   "outputs": [
    {
     "name": "stdout",
     "output_type": "stream",
     "text": [
      "15.0 is an odd number and it is divisible by 5.\n"
     ]
    }
   ],
   "source": [
    "inputInvalid=1\n",
    "while(inputInvalid):\n",
    "    try:\n",
    "        number = float(input(\"Enter number: \"))\n",
    "    except:\n",
    "        print(\"Please enter a valid number!\")\n",
    "    else: \n",
    "        inputInvalid=0\n",
    "\n",
    "if number%2: \n",
    "    print(f\"{number} is an odd number\",end='')\n",
    "    if not number%5:\n",
    "        print(\" and it is divisible by 5.\")\n",
    "else: \n",
    "    print(f\"{number} is an even number\")"
   ]
  },
  {
   "cell_type": "markdown",
   "metadata": {},
   "source": [
    "---\n",
    "## 6. Luggage size (*)\n",
    "\n",
    "The maximum allowed luggage size for boarding an airplane is: \n",
    "- weight: 8kg\n",
    "- dimensions: 55x40x23cm (length x width x height) \n",
    "\n",
    "Let the user input weight, length, width and height of the luggage. The program should check if the luggage is allowed or not."
   ]
  },
  {
   "cell_type": "code",
   "execution_count": 55,
   "metadata": {},
   "outputs": [
    {
     "name": "stdout",
     "output_type": "stream",
     "text": [
      "-------------------- The Luggage checker --------------------\n",
      "Unfortunately, your luggage is not allowed for boarding an airplane.\n"
     ]
    }
   ],
   "source": [
    "print(f\"{' The Luggage checker ':-^61}\")\n",
    "\n",
    "# Input weight\n",
    "inputInvalid=1\n",
    "while(inputInvalid):\n",
    "    try:\n",
    "        weight = float(input(\"Enter weight: \"))\n",
    "    except:\n",
    "        print(\"Please enter a valid number!\")\n",
    "    else: \n",
    "        if(weight<=0):\n",
    "            inputInvalid=1\n",
    "            print(f\"{weight} is not a valid weight, it cannot be zero or negative.\")\n",
    "        else: inputInvalid=0\n",
    "\n",
    "# Input length\n",
    "inputInvalid=1\n",
    "while(inputInvalid):\n",
    "    try:\n",
    "        length = float(input(\"Enter length: \"))\n",
    "    except:\n",
    "        print(\"Please enter a valid number!\")\n",
    "    else: \n",
    "        if(length<=0):\n",
    "            inputInvalid=1\n",
    "            print(f\"{length} is not a valid length, it cannot be zero or negative.\")\n",
    "        else: inputInvalid=0\n",
    "\n",
    "# Input width\n",
    "inputInvalid=1\n",
    "while(inputInvalid):\n",
    "    try:\n",
    "        width = float(input(\"Enter width: \"))\n",
    "    except:\n",
    "        print(\"Please enter a valid number!\")\n",
    "    else: \n",
    "        if(width<=0):\n",
    "            inputInvalid=1\n",
    "            print(f\"{width} is not a valid width, it cannot be zero or negative.\")\n",
    "        else: inputInvalid=0\n",
    "\n",
    "# Input height\n",
    "inputInvalid=1\n",
    "while(inputInvalid):\n",
    "    try:\n",
    "        height = float(input(\"Enter height: \"))\n",
    "    except:\n",
    "        print(\"Please enter a valid number!\")\n",
    "    else: \n",
    "        if(height<=0):\n",
    "            inputInvalid=1\n",
    "            print(f\"{height} is not a valid height, it cannot be zero or negative.\")\n",
    "        else: inputInvalid=0\n",
    "\n",
    "if weight <= 8 and length <= 55 and width <= 40 and height <= 23:\n",
    "    print(\"Your luggage is allowed for boarding an airplane.\")\n",
    "else:\n",
    "        print(\"Unfortunately, your luggage is not allowed for boarding an airplane.\")"
   ]
  }
 ],
 "metadata": {
  "kernelspec": {
   "display_name": "Python-Mikael-Folkesson-aTHbKsrI",
   "language": "python",
   "name": "python3"
  },
  "language_info": {
   "codemirror_mode": {
    "name": "ipython",
    "version": 3
   },
   "file_extension": ".py",
   "mimetype": "text/x-python",
   "name": "python",
   "nbconvert_exporter": "python",
   "pygments_lexer": "ipython3",
   "version": "3.11.2"
  },
  "orig_nbformat": 4
 },
 "nbformat": 4,
 "nbformat_minor": 2
}
