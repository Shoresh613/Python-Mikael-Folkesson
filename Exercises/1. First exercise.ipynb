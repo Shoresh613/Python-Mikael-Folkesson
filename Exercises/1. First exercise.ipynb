{
 "cells": [
  {
   "cell_type": "markdown",
   "metadata": {},
   "source": [
    "# 1. Pythagorean theorem\n",
    "\n",
    "a) Compute the hypothenuse of a triangle with catheti a = 3 and b = 4"
   ]
  },
  {
   "cell_type": "code",
   "execution_count": 1,
   "metadata": {},
   "outputs": [
    {
     "name": "stdout",
     "output_type": "stream",
     "text": [
      "The hypothenuse of a triangle with the catheti of length 3 and 4 units has the length 5.0.\n"
     ]
    }
   ],
   "source": [
    "import math\n",
    "\n",
    "# Define lengths of catheti\n",
    "a = 3\n",
    "b = 4\n",
    "\n",
    "hypothenuse = math.sqrt(a*a + b*b)\n",
    "\n",
    "print(f\"The hypothenuse of a triangle with the catheti of length {a} and {b} units has the length {hypothenuse} units.\")"
   ]
  },
  {
   "cell_type": "markdown",
   "metadata": {},
   "source": [
    "b) &nbsp;  A right angled triangle has hypothenuse c = 7.0 and a cathetus a = 5.0 length units. Compute the other cathetus and round to one decimal."
   ]
  },
  {
   "cell_type": "code",
   "execution_count": 2,
   "metadata": {},
   "outputs": [
    {
     "name": "stdout",
     "output_type": "stream",
     "text": [
      "The length of the other cathetus is 4.9\n"
     ]
    }
   ],
   "source": [
    "import math\n",
    "\n",
    "# Define the variables\n",
    "h = 7.0\n",
    "a = 5.0\n",
    "\n",
    "# Calculate the cathetus\n",
    "b = math.sqrt(h**2 - a**2)\n",
    "\n",
    "# Print the result\n",
    "print(f\"The length of the other cathetus is {b:0.1f}\")"
   ]
  },
  {
   "cell_type": "markdown",
   "metadata": {},
   "source": [
    "-----\n",
    "## 2. Classification accuracy (*)\n",
    "\n",
    "A machine learning algorithm has been trained to predict whether or not it would rain the next day. Out of 365 predictions, it got 300 correct, compute the accuracy of this model."
   ]
  },
  {
   "cell_type": "code",
   "execution_count": 6,
   "metadata": {},
   "outputs": [
    {
     "name": "stdout",
     "output_type": "stream",
     "text": [
      "The accuracy of the algorith is 82%.\n"
     ]
    }
   ],
   "source": [
    "accuracy = 300.0/365.0\n",
    "\n",
    "print(f\"The accuracy of the algorith is {accuracy:.0%}.\")"
   ]
  },
  {
   "cell_type": "markdown",
   "metadata": {},
   "source": [
    "---\n",
    "## 3. Classification accuracy (*)\n",
    "A machine learning model has been trained to detect fire. Here is the result of its predictions: \n",
    "\n",
    "<table align=\"left\">\n",
    "<tbody>\n",
    "  <tr>\n",
    "    <td>True Positive (TP)\n",
    "      <ul>\n",
    "        <li>Reality: fire</li>\n",
    "        <li>Predicted: fire</li>\n",
    "        <li>Number of TP: 2</li>\n",
    "      </ul>\n",
    "    </td>\n",
    "    <td>False Positive (FP)\n",
    "      <ul>\n",
    "        <li>Reality: no fire</li>\n",
    "        <li>Predicted: fire</li>\n",
    "        <li>Number of FP: 2</li>\n",
    "      </ul>\n",
    "    </td>\n",
    "  </tr>\n",
    "\n",
    "  <tr>\n",
    "    <td>False Negative (FN)\n",
    "      <ul>\n",
    "        <li>Reality: fire</li>\n",
    "        <li>Predicted: no fire</li>\n",
    "        <li>Number of FN: 11</li>\n",
    "      </ul>\n",
    "    </td>\n",
    "    <td>True Negative (TN)\n",
    "      <ul>\n",
    "        <li>Reality: no fire</li>\n",
    "        <li>Predicted: no fire</li>\n",
    "        <li>Number of TN: 985</li>\n",
    "      </ul>\n",
    "    </td>\n",
    "  </tr>\n",
    "</tbody>\n",
    "</table>"
   ]
  },
  {
   "cell_type": "markdown",
   "metadata": {},
   "source": [
    "The accuracy is calculated using the formula (TP+TN) / (TP + TN + FP + FN).\n",
    "\n",
    "Is this a good model? Or rather, what is the accuracy in percent?"
   ]
  },
  {
   "cell_type": "code",
   "execution_count": 3,
   "metadata": {},
   "outputs": [
    {
     "name": "stdout",
     "output_type": "stream",
     "text": [
      "The accuracy is 98.7%, which I would say is not good enough.\n"
     ]
    }
   ],
   "source": [
    "TP=2.0\n",
    "FP=2.0\n",
    "FN=11.0\n",
    "TN=985.0\n",
    "\n",
    "accuracy = ((TP+TN) / (TP + TN + FP + FN))\n",
    "\n",
    "print(f\"The accuracy is {accuracy:.1%}, which I would say is not good enough.\")"
   ]
  },
  {
   "cell_type": "markdown",
   "metadata": {},
   "source": [
    "## 4. Line\n",
    "Compute the slope $k$ and the constant term $m$ of this line using the points $A: (4,4)$ and $B: (0,1)$. "
   ]
  },
  {
   "cell_type": "code",
   "execution_count": 20,
   "metadata": {},
   "outputs": [
    {
     "name": "stdout",
     "output_type": "stream",
     "text": [
      "The formula for the line is y = 0.75x + 1.0.\n"
     ]
    }
   ],
   "source": [
    "import math\n",
    "\n",
    "# Known points on line\n",
    "a = (4.0,4.0)\n",
    "b = (0.0,1.0)\n",
    "\n",
    "# k = yDelta/xDelta\n",
    "\n",
    "k = (a[1] - b[1]) / (a[0] - b[0])\n",
    "\n",
    "# y = kx + m, thus m = y-kx\n",
    "\n",
    "m = b[1] - k * b[0]\n",
    "\n",
    "print(f\"The formula for the line is y = {k}x + {m}.\")"
   ]
  },
  {
   "cell_type": "markdown",
   "metadata": {},
   "source": [
    "---\n",
    "## 5. Euclidean distance (*)\n",
    "\n",
    "The Euclidean distance between the points $P_1$ and $P_2$ is the length of a line between them. Let $P_1: (3,5)$ and $P_2: (-2,4)$ and compute the distance between them."
   ]
  },
  {
   "cell_type": "code",
   "execution_count": 25,
   "metadata": {},
   "outputs": [
    {
     "name": "stdout",
     "output_type": "stream",
     "text": [
      "The Euclidean distance between the points is 5.1 units.\n"
     ]
    }
   ],
   "source": [
    "import math\n",
    "\n",
    "P1 = (3,5)\n",
    "P2 = (-2,4)\n",
    "\n",
    "# Vertical and Horizontal distance between the points\n",
    "yDist = abs(P2[1]-P1[1])\n",
    "xDist = abs(P2[0]-P1[0])\n",
    "\n",
    "# Distance between points according to pythagorean formula\n",
    "\n",
    "d = math.sqrt(yDist**2 + xDist**2)\n",
    "\n",
    "print(f\"The Euclidean distance between the points is {d:.1f} units.\")"
   ]
  },
  {
   "cell_type": "markdown",
   "metadata": {},
   "source": [
    "---\n",
    "## 6. Euclidean distance in 3D (**)\n",
    "\n",
    "Calculate the distance between the points $P_1: (2,1,4)$ and $P_2: (3,1,0)$ \n",
    "\n",
    "<details> \n",
    "\n",
    "<summary>Hint </summary>\n",
    "\n",
    "Let $p =(p_1, p_2, p_3)$ and $q = (q_1, q_2, q_3) \\Rightarrow$   \n",
    "\n",
    "$d(p,q) = \\sqrt{(p_1-q_1)^2 +(p_2-q_2)^2 +(p_3-q_3)^2 }$, where $d(p,q)$ is the Euclidean distance between $p$ and $q$"
   ]
  },
  {
   "cell_type": "code",
   "execution_count": 2,
   "metadata": {},
   "outputs": [
    {
     "name": "stdout",
     "output_type": "stream",
     "text": [
      "The Euclidean distance between the points in 3D space is 4.12 units.\n"
     ]
    }
   ],
   "source": [
    "import math\n",
    "\n",
    "P1 = (2,1,4)\n",
    "P2 = (3,1,0)\n",
    "\n",
    "# Vertical, Depth and Horizontal distance between the points\n",
    "zDist = abs(P2[2]-P1[2])\n",
    "yDist = abs(P2[1]-P1[1])\n",
    "xDist = abs(P2[0]-P1[0])\n",
    "\n",
    "# Distance between points according to pythagorean formula\n",
    "\n",
    "d = math.sqrt(zDist**2 + yDist**2 + xDist**2)\n",
    "\n",
    "print(f\"The Euclidean distance between the points in 3D space is {d:.2f} units.\")"
   ]
  }
 ],
 "metadata": {
  "kernelspec": {
   "display_name": "Python-Mikael-Folkesson-aTHbKsrI",
   "language": "python",
   "name": "python3"
  },
  "language_info": {
   "codemirror_mode": {
    "name": "ipython",
    "version": 3
   },
   "file_extension": ".py",
   "mimetype": "text/x-python",
   "name": "python",
   "nbconvert_exporter": "python",
   "pygments_lexer": "ipython3",
   "version": "3.11.2"
  },
  "orig_nbformat": 4
 },
 "nbformat": 4,
 "nbformat_minor": 2
}
