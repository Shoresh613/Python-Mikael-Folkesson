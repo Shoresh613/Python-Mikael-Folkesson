{
 "cells": [
  {
   "cell_type": "markdown",
   "metadata": {},
   "source": [
    "## 1. Counting letters (*)\n",
    "\n",
    "Let the user input a word: \n",
    "\n",
    "&nbsp; a) &nbsp; print out the number of letters in the word. (*) \n",
    "  \n",
    "&nbsp; b) &nbsp; print out the number of **uppercase** and **lowercase** letters of the word (*)   \n"
   ]
  },
  {
   "cell_type": "code",
   "execution_count": 10,
   "metadata": {},
   "outputs": [
    {
     "name": "stdout",
     "output_type": "stream",
     "text": [
      "Letters in the word 'Kookaburra12': 12\n",
      "Uppercase letters: 1\n",
      "Lowercase letters: 9\n"
     ]
    }
   ],
   "source": [
    "word = input(\"Enter a word: \")\n",
    "# a) \n",
    "print(f\"Letters in the word '{word}': {len(word)}\")\n",
    "\n",
    "#b)\n",
    "upper=0 \n",
    "lower=0\n",
    "\n",
    "for letter in word:\n",
    "    if letter.isupper():\n",
    "        upper+=1\n",
    "    if letter.islower():\n",
    "        lower+=1\n",
    "\n",
    "print(f\"Uppercase letters: {upper}\")\n",
    "print(f\"Lowercase letters: {lower}\")"
   ]
  },
  {
   "cell_type": "markdown",
   "metadata": {},
   "source": [
    "---\n",
    "## 2. Print names separately (*)\n",
    "\n",
    "Ask the user to input their first and last name (same input e.g. \"Fredrik Johansson\"). Then print the names separately:\n",
    "\n",
    "<details>\n",
    "\n",
    "<summary>Answer</summary>\n",
    "\n",
    "```\n",
    "Firstname: Fredrik\n",
    "Lastname: Johansson\n",
    "```"
   ]
  },
  {
   "cell_type": "code",
   "execution_count": 17,
   "metadata": {},
   "outputs": [
    {
     "name": "stdout",
     "output_type": "stream",
     "text": [
      "First name: Mikael \n",
      " Last name: Folkesson\n"
     ]
    }
   ],
   "source": [
    "full_name = input(\"Enter your first and last name: \")\n",
    "names = full_name.split()\n",
    "print(f\"{'First name: ':>12}{names[0]} \\n{'Last name: ':>12}{names[-1]}\")"
   ]
  },
  {
   "cell_type": "markdown",
   "metadata": {},
   "source": [
    "---\n",
    "## 3. Counting words (*)\n",
    "\n",
    "Count the number of words in this sentence: \"A picture says more than a thousand words, a matematical formula says more than a thousand pictures.\" (*) \n",
    "\n",
    "<details>\n",
    "\n",
    "<summary>Answer</summary>\n",
    "\n",
    "```\n",
    "There are 17 words in that sentence\n",
    "```"
   ]
  },
  {
   "cell_type": "code",
   "execution_count": 19,
   "metadata": {},
   "outputs": [
    {
     "name": "stdout",
     "output_type": "stream",
     "text": [
      "17\n"
     ]
    }
   ],
   "source": [
    "sentence = \"A picture says more than a thousand words, a matematical formula says more than a thousand pictures.\"\n",
    "\n",
    "def count_words(text):\n",
    "    words = text.split()\n",
    "    return len(words)\n",
    "\n",
    "print(count_words(sentence))"
   ]
  },
  {
   "cell_type": "markdown",
   "metadata": {},
   "source": [
    "---\n",
    "## 4. Print words in reverse (*)\n",
    "\n",
    "a) Ask the user to input a sentence, then print the words in reverse order. (*) \n",
    "\n",
    "b) Also, make the first letter in the first word uppercase when reversed.\n",
    "\n",
    "<details>\n",
    "\n",
    "<summary>Answer</summary>\n",
    "\n",
    "```\n",
    "a)\n",
    "Example input: This is input from the user\n",
    "Output: user the from input is This\n",
    "```\n",
    "\n",
    "```\n",
    "b)\n",
    "Example input: This is input from the user\n",
    "Output: User the from input is this\n",
    "```\n"
   ]
  },
  {
   "cell_type": "code",
   "execution_count": 23,
   "metadata": {},
   "outputs": [
    {
     "name": "stdout",
     "output_type": "stream",
     "text": [
      "Kaka hade en pelle\n"
     ]
    }
   ],
   "source": [
    "sentence = input(\"Enter a sentence: \")\n",
    "\n",
    "words = sentence.split()\n",
    "words.sort(reverse=True)\n",
    "\n",
    "print((\" \".join(words)).capitalize())"
   ]
  },
  {
   "cell_type": "markdown",
   "metadata": {},
   "source": [
    "---\n",
    "## 5. Palindrome (*)\n",
    "\n",
    "A palindrome is a sequence of characters that is the same, when read forward as backwards (ignoring spaces). For example:\n",
    "- \"Anna\" is a palindrome\n",
    "- \"Ni talar bra latin\"\n",
    "- \"bjkjb \"\n",
    "\n",
    "Let the user input a sequence of characters and check if it is a palindrome. (*)"
   ]
  },
  {
   "cell_type": "code",
   "execution_count": 5,
   "metadata": {},
   "outputs": [
    {
     "name": "stdout",
     "output_type": "stream",
     "text": [
      "pelle\n",
      "pelle ellep\n",
      "\"Pelle\" is not a palindrome\n"
     ]
    }
   ],
   "source": [
    "sequence = input(\"Enter a sequence of letters to check if it is a palindrome: \")\n",
    "\n",
    "lowered_sequence = sequence.lower()\n",
    "stripped_sequence = lowered_sequence.replace(\" \",\"\")\n",
    "print(stripped_sequence)\n",
    "\n",
    "reversed_list = list(reversed(stripped_sequence))\n",
    "reversed_string = \"\".join(reversed_list)\n",
    "print(stripped_sequence,reversed_string)\n",
    "\n",
    "if( stripped_sequence == reversed_string):\n",
    "    print(f'\"{sequence}\" is a palindrome')\n",
    "else:\n",
    "    print(f'\"{sequence}\" is not a palindrome')"
   ]
  },
  {
   "cell_type": "markdown",
   "metadata": {},
   "source": [
    "---\n",
    "## 6. Vowels (**)\n",
    "\n",
    "Count the number of vowels in this sentence: \"Pure mathematics is, in its way, the poetry of logical ideas\"\n",
    "\n",
    "<details>\n",
    "\n",
    "<summary>Answer</summary>\n",
    "\n",
    "```\n",
    "\n",
    "There are 22 vowels in this sentence\n",
    "\n",
    "```\n",
    "</details>"
   ]
  },
  {
   "cell_type": "code",
   "execution_count": 10,
   "metadata": {},
   "outputs": [
    {
     "name": "stdout",
     "output_type": "stream",
     "text": [
      "The sentence \"Pure mathematics is, in its way, the poetry of logical ideas\" \n",
      "has 22 vowels in it.\n"
     ]
    }
   ],
   "source": [
    "sentence = \"Pure mathematics is, in its way, the poetry of logical ideas\"\n",
    "vowels=0\n",
    "\n",
    "for letter in sentence:\n",
    "    if letter == 'a' or letter == 'e' or letter == 'i' or letter == 'o' or letter == 'u' or letter == 'y' or letter == 'å' or letter == 'ä' or letter == 'ö':\n",
    "        vowels +=1\n",
    "\n",
    "print(f'The sentence \"{sentence}\" \\nhas {vowels} vowels in it.')"
   ]
  },
  {
   "cell_type": "markdown",
   "metadata": {},
   "source": [
    "---\n",
    "## 7. Rövarspråket (**)\n",
    "\n",
    "Ask the user to input a sentence, and translate it using the formula described in this article:\n",
    "\n",
    "https://en.wikipedia.org/wiki/R%C3%B6varspr%C3%A5ket\n"
   ]
  },
  {
   "cell_type": "code",
   "execution_count": 33,
   "metadata": {},
   "outputs": [
    {
     "name": "stdout",
     "output_type": "stream",
     "text": [
      "KoK-a-non dod-u lol-i-sos-tot-a u-tot-?\n"
     ]
    }
   ],
   "source": [
    "text = input(\"Enter what you want to get translated into Rövarspråket: \")\n",
    "translated_text = \"\"\n",
    "\n",
    "for i, letter in enumerate(text):\n",
    "    if letter == ' ' and i<len(text)-1:\n",
    "        translated_text += ' '\n",
    "    elif letter == '!' or letter == '?':\n",
    "        translated_text += letter\n",
    "    elif letter != 'a' and letter != 'e' and letter != 'i' and letter != 'o' and letter != 'u' and letter != 'y' and letter != 'å' and letter != 'ä' and letter != 'ö':\n",
    "        if i<len(text)-1:\n",
    "            translated_text += letter + \"o\" + letter+\"-\"\n",
    "        else:\n",
    "            translated_text += letter + \"o\" + letter\n",
    "    else:\n",
    "        if i<len(text)-1:\n",
    "            translated_text += letter+\"-\"\n",
    "        else:\n",
    "            translated_text += letter\n",
    "\n",
    "print(translated_text.replace('- ',' '))"
   ]
  },
  {
   "cell_type": "markdown",
   "metadata": {},
   "source": [
    "---\n",
    "## 8. Encryption (**)\n",
    "\n",
    "Let the user input a word and: \n",
    "\n",
    "&nbsp; a) &nbsp; encrypt the message by replacing each letter with the next letter. If the letter is in the end of the alphabet, use the first letter instead. \n",
    "\n",
    "e.g. in Swedish: \"höst\" $\\rightarrow$ \"iatu\"\n",
    "\n",
    "&nbsp; b) &nbsp; decrypt the message\n",
    "\n",
    "&nbsp; c) &nbsp; let the user choose either encryption or decryption."
   ]
  },
  {
   "cell_type": "code",
   "execution_count": 7,
   "metadata": {},
   "outputs": [
    {
     "name": "stdout",
     "output_type": "stream",
     "text": [
      "höst\n"
     ]
    }
   ],
   "source": [
    "choice = input(\"Decrypt (d) or encrypt message (e)?: \")\n",
    "if choice == 'e':\n",
    "    to_encrypt = input(\"Enter message to encrypt: \")\n",
    "    encrypted = \"\"\n",
    "\n",
    "    for letter in to_encrypt:\n",
    "        if letter == 'ö':\n",
    "            encrypted = encrypted + 'a'\n",
    "        else:\n",
    "            encrypted = encrypted + chr(ord(letter) + 1)\n",
    "\n",
    "    print(encrypted)\n",
    "elif choice == 'd':\n",
    "    to_decrypt = input(\"Enter message to decrypt: \")\n",
    "    decrypted = \"\"\n",
    "\n",
    "    for letter in to_decrypt:\n",
    "        if letter == 'a':\n",
    "            decrypted = decrypted + 'ö'\n",
    "        else:\n",
    "            decrypted = decrypted + chr(ord(letter) - 1)\n",
    "    print(decrypted)\n",
    "else:\n",
    "    print(\"Invalid choice\")"
   ]
  }
 ],
 "metadata": {
  "kernelspec": {
   "display_name": "python-programming-Mikael-Folkesson-Xp2s793V",
   "language": "python",
   "name": "python3"
  },
  "language_info": {
   "codemirror_mode": {
    "name": "ipython",
    "version": 3
   },
   "file_extension": ".py",
   "mimetype": "text/x-python",
   "name": "python",
   "nbconvert_exporter": "python",
   "pygments_lexer": "ipython3",
   "version": "3.11.5"
  },
  "orig_nbformat": 4
 },
 "nbformat": 4,
 "nbformat_minor": 2
}
