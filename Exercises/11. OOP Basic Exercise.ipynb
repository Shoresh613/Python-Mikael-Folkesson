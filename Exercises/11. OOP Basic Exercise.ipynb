{
 "cells": [
  {
   "cell_type": "markdown",
   "metadata": {},
   "source": [
    "## 1. Step tracker\n",
    "\n",
    "Create a class that can be used as a step tracker. It should have a property \"steps\" that is read only; a method step() that increases \"steps\" by 1 each time it is called; and a method reset() that resets the counter.\n",
    "\n",
    "Instantiate the class, and write a loop that simulates walking 1000 steps. Then print the value of \"steps\"."
   ]
  },
  {
   "cell_type": "code",
   "execution_count": 5,
   "metadata": {},
   "outputs": [
    {
     "name": "stdout",
     "output_type": "stream",
     "text": [
      "Number of steps: 1000\n"
     ]
    }
   ],
   "source": [
    "class Step_tracker:\n",
    "    def __init__(self) -> None:\n",
    "        self._steps=0\n",
    "\n",
    "    @property\n",
    "    def steps(self):\n",
    "        return self._steps  # Getter method to access the private attribute\n",
    "\n",
    "    def step(self):\n",
    "        self._steps += 1\n",
    "\n",
    "    def reset(self):\n",
    "        self._steps=0\n",
    "\n",
    "step_tracker = Step_tracker()\n",
    "\n",
    "for i in range(1000):\n",
    "    step_tracker.step()\n",
    "\n",
    "print(f\"Number of steps: {step_tracker.steps}\")"
   ]
  },
  {
   "cell_type": "markdown",
   "metadata": {},
   "source": [
    "---\n",
    "## 2. Empty/full glass simulator (*)\n",
    "\n",
    "Create a class that represents a glass of water. It should have a method for filling the glass, and another method for emptying the glass. Also, there needs to be an internal/private attribute that keeps track of if the glass is empty or full. Depending on the current state (empty/full), the method that fills the glass should print either \"Filling the glass with water\" or \"The glass is already full\". The other method should print either \"Emptying the glass\" or \"The glass is already empty\".\n",
    "\n",
    "**Additional exercise:** Add another method to break the glass. Every glass (instance) keeps track of it's internal state, and prints what happens when the different methods are executed. Eg. \"The glass breaks. Now there is water all over the floor\", or \"The glass can not be filled, since it's broken\", etc."
   ]
  },
  {
   "cell_type": "code",
   "execution_count": 12,
   "metadata": {},
   "outputs": [
    {
     "name": "stdout",
     "output_type": "stream",
     "text": [
      "Filling the glass with water\n",
      "The glass is already full\n",
      "O no, the glass breaks! Too bad it was full so there's water all over the floor too!\n",
      "The glass is already empty, as it's broken\n",
      "The glass is already empty, as it's broken\n",
      "Oh my goodness. The glass breaks again! What an unlucky glass!\n",
      "The glass can not be filled, since it's broken\n"
     ]
    }
   ],
   "source": [
    "class Water_glass:\n",
    "    def __init__(self) -> None:\n",
    "        self._full_or_empty=\"empty\"\n",
    "        self.is_broken=False\n",
    "\n",
    "    def fill(self):\n",
    "        if self.is_broken:\n",
    "            print(\"The glass can not be filled, since it's broken\")\n",
    "        else:\n",
    "            if self._full_or_empty == \"empty\":\n",
    "                print(\"Filling the glass with water\")\n",
    "                self._full_or_empty = \"full\"\n",
    "            else:\n",
    "                print(\"The glass is already full\")\n",
    "\n",
    "    def empty(self):\n",
    "        if self.is_broken:\n",
    "            print(\"The glass is already empty, as it's broken\")\n",
    "        else:\n",
    "            if self._full_or_empty == \"empty\":\n",
    "                print(\"The glass is already empty\")\n",
    "            else:\n",
    "                print(\"Emptying the glass\")\n",
    "                self._full_or_empty = \"empty\"\n",
    "    \n",
    "    def breakglass(self):\n",
    "        if self.is_broken:\n",
    "            print(\"Oh my goodness. The glass breaks again! What an unlucky glass!\")\n",
    "        else:\n",
    "            if self._full_or_empty==\"full\":\n",
    "                print(\"O no, the glass breaks! Too bad it was full so there's water all over the floor too!\")\n",
    "            else:\n",
    "                print(\"O no, the glass breaks! Fortunately it was empty!\")\n",
    "        self.is_broken = True\n",
    "\n",
    "glass = Water_glass()\n",
    "\n",
    "glass.fill()\n",
    "glass.fill()\n",
    "glass.breakglass()\n",
    "glass.empty()\n",
    "glass.empty()\n",
    "glass.breakglass()\n",
    "glass.fill()"
   ]
  },
  {
   "cell_type": "markdown",
   "metadata": {},
   "source": [
    "---\n",
    "## 3. Red and blue (*)\n",
    "\n",
    "Create a class that has a property \"red\", and a property \"blue\". Both should be floats, and be able to take any value between 0.0 and 100.0. However, they should be \"linked\" in such a way that the sum of \"red\" and \"blue\" always is 100.0. i.e. if we set the value of \"blue\" to 8.5, and then read the value of \"red\", it should return 91.5"
   ]
  },
  {
   "cell_type": "code",
   "execution_count": 13,
   "metadata": {},
   "outputs": [
    {
     "data": {
      "text/plain": [
       "80"
      ]
     },
     "execution_count": 13,
     "metadata": {},
     "output_type": "execute_result"
    }
   ],
   "source": [
    "class RedBlue:\n",
    "    def __init__(self) -> None:\n",
    "        self._red = 50.0\n",
    "        self._blue = 50.0\n",
    "\n",
    "    # Getter method\n",
    "    @property\n",
    "    def red(self):\n",
    "        return self._red\n",
    "\n",
    "    # Setter method\n",
    "    @red.setter\n",
    "    def red(self, val):\n",
    "        self._red = val\n",
    "        self._blue = 100-val\n",
    "\n",
    "    # Getter method\n",
    "    @property\n",
    "    def blue(self):\n",
    "        return self._blue\n",
    "\n",
    "    # Setter method\n",
    "    @blue.setter\n",
    "    def blue(self, val):\n",
    "        self._blue = val\n",
    "        self._red = 100-val\n",
    "\n",
    "redblue = RedBlue()\n",
    "\n",
    "redblue.red = 20\n",
    "redblue.blue"
   ]
  },
  {
   "cell_type": "markdown",
   "metadata": {},
   "source": [
    "---\n",
    "## 4. One thousand cars (*)\n",
    "\n",
    "Create a class that represents a car. Every car can have a color and a length. When a new car is instantiated it gets a random color, and a random length (between 3 and 5 meters). Instatiate 1000 cars a save them in a list. Then print the sum of the length of all green cars in the list."
   ]
  },
  {
   "cell_type": "code",
   "execution_count": 31,
   "metadata": {},
   "outputs": [
    {
     "name": "stdout",
     "output_type": "stream",
     "text": [
      "Sum of length of all green cars is: 438.5124028662251\n"
     ]
    }
   ],
   "source": [
    "import random\n",
    "\n",
    "class Car:\n",
    "    colors = [\"red\",\"blue\",\"yellow\",\"green\",\"purple\", \"pink\", \"white\", \"black\", \"grey\"]\n",
    "    def __init__(self) -> None:\n",
    "        self.color = self.colors[random.randint(0,len(self.colors)-1)]\n",
    "        self.length = random.random()*2+3\n",
    "\n",
    "cars = []\n",
    "for i in range(1000):\n",
    "    cars.append(Car())\n",
    "\n",
    "sum=0\n",
    "for car in cars:\n",
    "    if car.color == \"green\":\n",
    "        sum+= car.length\n",
    "\n",
    "print(f\"Sum of length of all green cars is: {sum}\")"
   ]
  },
  {
   "cell_type": "markdown",
   "metadata": {},
   "source": [
    "---\n",
    "## 5. Email (**)\n",
    "\n",
    "Create an email class with a property \"address\". When we set this property it should validate that we gave it a proper email address by checking that it contains one or more letter, followed by an at-sign (@), followed by one or more letter, then a dot (.), then at least two letters.\n",
    "\n",
    "We should also be able to provide the address directly, when creating an new instance of the class (it must still be validated).\n",
    "\n",
    "The class should also have the following properties: \"username\", \"domainname\", and \"topdomain\" implemented in such a way that, if we set the address to \"fredrik@everyloop.com\", the username should read \"fredrik\", the domainname should read \"everyloop.com\", and the topdomain should read \"com\".\n",
    "\n",
    "When changing any of the four properties, all the others must be updated accordingly; and the address must always remain valid."
   ]
  },
  {
   "cell_type": "code",
   "execution_count": 1,
   "metadata": {},
   "outputs": [
    {
     "name": "stdout",
     "output_type": "stream",
     "text": [
      "mikael.f@gonka.com\n",
      "mikael.f\n",
      "gonka\n",
      "com\n",
      "mikael_@hc.cm\n",
      "göran@pudel.se\n"
     ]
    }
   ],
   "source": [
    "class Email:\n",
    "    def __init__(self, address=\"\") -> None:\n",
    "        if address != \"\":\n",
    "            if self._is_address_ok(address):\n",
    "                self._address=address\n",
    "                self._username=address[:address.find(\"@\")]\n",
    "                dot_pos = address[::-1].find(\".\")\n",
    "                self._domain=address[address.find(\"@\")+1:-dot_pos-1]\n",
    "                self._topdomain=address[len(address)-dot_pos:]\n",
    "            else:\n",
    "                print(\"E-mail address invalid\")\n",
    "    \n",
    "    def _is_address_ok(self, address:str):\n",
    "        at_pos = address.find(\"@\")\n",
    "        # if '@' in the string, and room for '.' followed by 2 letters and preceded by at least 1 letter\n",
    "        if at_pos != -1 and at_pos < len(address)-4 and at_pos >= 1:\n",
    "            dot_pos = address[::-1].find(\".\")\n",
    "            if dot_pos != -1 and dot_pos >= 2:\n",
    "                return True\n",
    "        return False\n",
    "    \n",
    "    def _is_username_ok(self, username:str):\n",
    "        if username.find(\"@\") == -1:\n",
    "            return True\n",
    "        else:\n",
    "            return False\n",
    "\n",
    "    def _is_domain_ok(self, domain:str):\n",
    "        if domain.find(\"@\") == -1:\n",
    "            dot_pos = domain.find(\".\")\n",
    "            if dot_pos != -1:\n",
    "                if domain.count(\".\")<2:\n",
    "                    return True if self._is_topdomain_ok(domain[len(domain)-dot_pos+2:]) else False\n",
    "                else:\n",
    "                    return False\n",
    "            else:\n",
    "                return True\n",
    "        else:\n",
    "            return False\n",
    "        \n",
    "    def _is_topdomain_ok(self, topdomain:str):\n",
    "        if topdomain.find(\"@\") == -1 and topdomain.find(\".\") == -1:\n",
    "            return True\n",
    "        else:\n",
    "            return False\n",
    "\n",
    "    @property\n",
    "    def address(self):\n",
    "        return self._address\n",
    "    \n",
    "    @address.setter\n",
    "    def address(self, address):\n",
    "        if self._is_address_ok(address):\n",
    "            self._address=address\n",
    "        else:\n",
    "            print(\"E-mail address invalid\")\n",
    "    \n",
    "    @property\n",
    "    def username(self):\n",
    "        return self._username\n",
    "    \n",
    "    @username.setter\n",
    "    def username(self, username:str):\n",
    "        if self._is_username_ok(username):\n",
    "            self._username=username\n",
    "            self._address=username+'@'+self._domain+\".\"+self._topdomain\n",
    "        else:\n",
    "            print(\"Username invalid\")\n",
    "\n",
    "    @property\n",
    "    def domain(self):\n",
    "        return self._domain\n",
    "    \n",
    "    @domain.setter\n",
    "    def domain(self, domain:str):\n",
    "        if self._is_domain_ok(domain):\n",
    "            dot_pos=domain.find(\".\")\n",
    "            if dot_pos == -1:\n",
    "                self._domain=domain\n",
    "            else:\n",
    "                self.topdomain = domain[len(domain)-dot_pos+2:]\n",
    "                self._domain=domain[:dot_pos]\n",
    "            self._address=self.username+'@'+self._domain+\".\"+self._topdomain\n",
    "        else:\n",
    "            print(\"Domain invalid\")\n",
    "\n",
    "    @property\n",
    "    def topdomain(self):\n",
    "        return self._topdomain\n",
    "    \n",
    "    @topdomain.setter\n",
    "    def topdomain(self, topdomain:str):\n",
    "        if self._is_topdomain_ok(topdomain):\n",
    "            self._topdomain=topdomain\n",
    "            self._address=self.username+'@'+self.domain+\".\"+topdomain\n",
    "        else:\n",
    "            print(\"Topdomain invalid\")\n",
    "\n",
    "min_mail = Email(\"mikael.f@gonka.com\")\n",
    "print(min_mail.address)\n",
    "print(min_mail._username)\n",
    "print(min_mail._domain)\n",
    "print(min_mail._topdomain)\n",
    "\n",
    "min_mail.address = \"mikael_@hc.cm\"\n",
    "\n",
    "print(min_mail.address)\n",
    "\n",
    "min_mail.username = \"göran\"\n",
    "min_mail.domain = \"pudel.com\"\n",
    "min_mail.topdomain = \"se\"\n",
    "\n",
    "print(min_mail.address)"
   ]
  }
 ],
 "metadata": {
  "kernelspec": {
   "display_name": "python-programming-Mikael-Folkesson-Xp2s793V",
   "language": "python",
   "name": "python3"
  },
  "language_info": {
   "codemirror_mode": {
    "name": "ipython",
    "version": 3
   },
   "file_extension": ".py",
   "mimetype": "text/x-python",
   "name": "python",
   "nbconvert_exporter": "python",
   "pygments_lexer": "ipython3",
   "version": "3.11.5"
  },
  "orig_nbformat": 4
 },
 "nbformat": 4,
 "nbformat_minor": 2
}
