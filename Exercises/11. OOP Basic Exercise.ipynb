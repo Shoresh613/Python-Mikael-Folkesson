{
 "cells": [
  {
   "cell_type": "markdown",
   "metadata": {},
   "source": [
    "## 1. Step tracker\n",
    "\n",
    "Create a class that can be used as a step tracker. It should have a property \"steps\" that is read only; a method step() that increases \"steps\" by 1 each time it is called; and a method reset() that resets the counter.\n",
    "\n",
    "Instantiate the class, and write a loop that simulates walking 1000 steps. Then print the value of \"steps\"."
   ]
  },
  {
   "cell_type": "code",
   "execution_count": 5,
   "metadata": {},
   "outputs": [
    {
     "name": "stdout",
     "output_type": "stream",
     "text": [
      "Number of steps: 1000\n"
     ]
    }
   ],
   "source": [
    "class Step_tracker:\n",
    "    def __init__(self) -> None:\n",
    "        self._steps=0\n",
    "\n",
    "    @property\n",
    "    def steps(self):\n",
    "        return self._steps  # Getter method to access the private attribute\n",
    "\n",
    "    def step(self):\n",
    "        self._steps += 1\n",
    "\n",
    "    def reset(self):\n",
    "        self._steps=0\n",
    "\n",
    "step_tracker = Step_tracker()\n",
    "\n",
    "for i in range(1000):\n",
    "    step_tracker.step()\n",
    "\n",
    "print(f\"Number of steps: {step_tracker.steps}\")"
   ]
  },
  {
   "cell_type": "markdown",
   "metadata": {},
   "source": [
    "---\n",
    "## 2. Empty/full glass simulator (*)\n",
    "\n",
    "Create a class that represents a glass of water. It should have a method for filling the glass, and another method for emptying the glass. Also, there needs to be an internal/private attribute that keeps track of if the glass is empty or full. Depending on the current state (empty/full), the method that fills the glass should print either \"Filling the glass with water\" or \"The glass is already full\". The other method should print either \"Emptying the glass\" or \"The glass is already empty\".\n",
    "\n",
    "**Additional exercise:** Add another method to break the glass. Every glass (instance) keeps track of it's internal state, and prints what happens when the different methods are executed. Eg. \"The glass breaks. Now there is water all over the floor\", or \"The glass can not be filled, since it's broken\", etc."
   ]
  },
  {
   "cell_type": "code",
   "execution_count": null,
   "metadata": {},
   "outputs": [],
   "source": []
  }
 ],
 "metadata": {
  "kernelspec": {
   "display_name": "python-programming-Mikael-Folkesson-Xp2s793V",
   "language": "python",
   "name": "python3"
  },
  "language_info": {
   "codemirror_mode": {
    "name": "ipython",
    "version": 3
   },
   "file_extension": ".py",
   "mimetype": "text/x-python",
   "name": "python",
   "nbconvert_exporter": "python",
   "pygments_lexer": "ipython3",
   "version": "3.11.5"
  },
  "orig_nbformat": 4
 },
 "nbformat": 4,
 "nbformat_minor": 2
}
