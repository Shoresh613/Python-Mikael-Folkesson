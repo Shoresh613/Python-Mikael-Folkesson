{
 "cells": [
  {
   "cell_type": "code",
   "execution_count": null,
   "metadata": {},
   "outputs": [],
   "source": []
  },
  {
   "cell_type": "markdown",
   "metadata": {},
   "source": [
    "## 1. Count numbers (*)\n",
    "\n",
    "Use a **while** statement to count from -10 to 10 with one increment. \n",
    "\n",
    "<details>\n",
    "\n",
    "<summary>Hint </summary>\n",
    "\n",
    "```python\n",
    "\n",
    "i += 1 # adds one and assigns it to i, equivalent to i = i + 1\n",
    "```\n",
    "\n",
    "</details>\n",
    "<br>\n",
    "<details>\n",
    "\n",
    "<summary>Answer </summary>\n",
    "\n",
    "```\n",
    "\n",
    "-10 -9 -8 -7 -6 -5 -4 -3 -2 -1 0 1 2 3 4 5 6 7 8 9 10\n",
    "```\n",
    "\n",
    "</details>"
   ]
  },
  {
   "cell_type": "code",
   "execution_count": 2,
   "metadata": {},
   "outputs": [
    {
     "name": "stdout",
     "output_type": "stream",
     "text": [
      "-10\n",
      "-9\n",
      "-8\n",
      "-7\n",
      "-6\n",
      "-5\n",
      "-4\n",
      "-3\n",
      "-2\n",
      "-1\n",
      "0\n",
      "1\n",
      "2\n",
      "3\n",
      "4\n",
      "5\n",
      "6\n",
      "7\n",
      "8\n",
      "9\n",
      "10\n"
     ]
    }
   ],
   "source": [
    "counter = -10\n",
    "\n",
    "while counter <= 10: \n",
    "    print(counter)\n",
    "    counter += 1"
   ]
  },
  {
   "cell_type": "markdown",
   "metadata": {},
   "source": [
    "--- \n",
    "## 2. Arithmetic sum (*)\n",
    "Use a **while** statement to compute the following sums: \n",
    "\n",
    "&nbsp; a) &nbsp; $\\text{sum} = 1 + 2 + \\ldots + 99+ 100$\n",
    "\n",
    "&nbsp; b) &nbsp; $\\text{sum} = 1 + 3 + 5 + \\ldots + 97 + 99$\n",
    "\n",
    "<details>\n",
    "\n",
    "<summary>Answer </summary>\n",
    "\n",
    "```\n",
    "a) 1 + 2 + ... + 99 + 100 = 5050 \n",
    "\n",
    "b) 1 + 3 + 5 +...+ 97 + 99 = 2500\n",
    "```\n",
    "\n",
    "</details>"
   ]
  },
  {
   "cell_type": "code",
   "execution_count": 6,
   "metadata": {},
   "outputs": [
    {
     "name": "stdout",
     "output_type": "stream",
     "text": [
      "b) The sum of the odd integers between 1 and 99 is: 2500\n"
     ]
    }
   ],
   "source": [
    "#Task b)\n",
    "\n",
    "i=-1\n",
    "sum=0\n",
    "\n",
    "while i<99: \n",
    "    i+=2\n",
    "    sum +=i\n",
    "\n",
    "print(f\"b) The sum of the odd integers between 1 and 99 is: {sum}\")"
   ]
  },
  {
   "cell_type": "code",
   "execution_count": null,
   "metadata": {},
   "outputs": [],
   "source": [
    "i=0\n",
    "sum=0\n",
    "\n",
    "while i<100: \n",
    "    i+=1\n",
    "    sum +=i\n",
    "\n",
    "print(f\"a) The sum of the integers between 1 and 100 is: {sum}\")"
   ]
  },
  {
   "cell_type": "markdown",
   "metadata": {},
   "source": [
    "--- \n",
    "## 3. Guess number game (*)\n",
    "&nbsp; a) &nbsp; Create a guessing number game following the specified flow chart."
   ]
  },
  {
   "cell_type": "code",
   "execution_count": 15,
   "metadata": {},
   "outputs": [
    {
     "name": "stdout",
     "output_type": "stream",
     "text": [
      "Not quite, it's a greater number than 40\n",
      "Not quite, it's a greater number than 60\n",
      "Not quite, it's a smaller number than 80\n",
      "Not quite, it's a greater number than 70\n",
      "Not quite, it's a greater number than 76\n",
      "Not quite, it's a greater number than 78\n",
      "Not quite, it's a greater number than 78\n",
      "Well done! Your guess, 79, is the correct number, which you found after 8 guesses.\n"
     ]
    }
   ],
   "source": [
    "import random\n",
    "number = random.randint(1,100)\n",
    "\n",
    "def guess_number():\n",
    "    # Input guess\n",
    "    inputInvalid=1\n",
    "    while(inputInvalid):\n",
    "        try:\n",
    "            guess = int(input(\"Guess the random number in the range 1-99: \"))\n",
    "        except:\n",
    "            print(\"Please enter a valid integer!\")\n",
    "        else: \n",
    "            if( guess<1 or guess>99):\n",
    "                inputInvalid=1\n",
    "                print(f\"{guess} is not within the valid range.\")\n",
    "            else: inputInvalid=0\n",
    "    return guess\n",
    "\n",
    "guesses=1\n",
    "guess=guess_number()\n",
    "\n",
    "while guess != number:\n",
    "    guesses += 1\n",
    "    if guess < number: print(f\"Not quite, it's a greater number than {guess}\")\n",
    "    elif guess > number: print(f\"Not quite, it's a smaller number than {guess}\")\n",
    "    guess=guess_number()\n",
    "print(f\"Well done! Your guess, {guess}, is the correct number, which you found after {guesses} guesses.\")"
   ]
  },
  {
   "cell_type": "markdown",
   "metadata": {},
   "source": [
    "&nbsp; b) &nbsp; Make an algorithm to automatically guess the correct number. Can you optimize to get as few guesses as possible? (**)"
   ]
  },
  {
   "cell_type": "code",
   "execution_count": 12,
   "metadata": {},
   "outputs": [
    {
     "name": "stdout",
     "output_type": "stream",
     "text": [
      "Not quite, it's a smaller number than 45\n",
      "Not quite, it's a greater number than 33\n",
      "Not quite, it's a greater number than 38\n",
      "Not quite, it's a greater number than 41\n",
      "Not quite, it's a greater number than 42\n",
      "Not quite, it's a greater number than 43\n",
      "Well done! Your guess, 44, is the correct number, which you found after 7 guesses.\n"
     ]
    }
   ],
   "source": [
    "import random\n",
    "number = random.randint(1,100)\n",
    "\n",
    "#Auto guess, try to optimize to guess in as few tries as possible\n",
    "# Here based on random. Average about 8 tries.\n",
    "def auto_guess_first_number(min,max):\n",
    "    try: guess = random.randint(min,max)\n",
    "    except: guess = random.randint(min,max)\n",
    "    return guess\n",
    "\n",
    "guesses=1\n",
    "minimum=1\n",
    "maximum=99\n",
    "guess=auto_guess_number(minimum,maximum)\n",
    "\n",
    "while guess != number:\n",
    "    guesses += 1\n",
    "    if guess < number: \n",
    "        print(f\"Not quite, it's a greater number than {guess}\")\n",
    "        minimum=guess+1\n",
    "        guess=auto_guess_number(minimum,maximum)\n",
    "    elif guess > number:\n",
    "        print(f\"Not quite, it's a smaller number than {guess}\")\n",
    "        maximum=guess-1\n",
    "        guess=auto_guess_number(minimum,maximum)\n",
    "\n",
    "print(f\"Well done! Your guess, {guess}, is the correct number, which you found after {guesses} guesses.\")"
   ]
  },
  {
   "cell_type": "code",
   "execution_count": 40,
   "metadata": {},
   "outputs": [
    {
     "name": "stdout",
     "output_type": "stream",
     "text": [
      "Not quite, it's a greater number than 50\n",
      "Not quite, it's a greater number than 75\n",
      "Not quite, it's a smaller number than 87\n",
      "Not quite, it's a smaller number than 81\n",
      "Well done! Your guess, 78, is the correct number, which you found after 5 guesses.\n"
     ]
    }
   ],
   "source": [
    "import random\n",
    "number = random.randint(1,100)\n",
    "\n",
    "# Halfing, try to optimize to guess in as few tries as possible\n",
    "# Here in general 6 guesses or less\n",
    "def auto_guess_number(min,max):\n",
    "    return int((min + (max-min)/2))\n",
    "\n",
    "guesses=1\n",
    "minimum=1\n",
    "maximum=99\n",
    "guess=50\n",
    "\n",
    "while guess != number:\n",
    "    guesses += 1\n",
    "    if guess < number: \n",
    "        print(f\"Not quite, it's a greater number than {guess}\")\n",
    "        minimum=guess+1\n",
    "        guess=auto_guess_number(minimum,maximum)\n",
    "    elif guess > number:\n",
    "        print(f\"Not quite, it's a smaller number than {guess}\")\n",
    "        maximum=guess-1\n",
    "        guess=auto_guess_number(minimum,maximum)\n",
    "\n",
    "print(f\"Well done! Your guess, {guess}, is the correct number, which you found after {guesses} guesses.\")"
   ]
  },
  {
   "cell_type": "markdown",
   "metadata": {},
   "source": [
    "--- \n",
    "## 4. Multiplication game (*)\n",
    "&nbsp; a) &nbsp; Create a multiplication game following the specified flow chart. "
   ]
  },
  {
   "cell_type": "code",
   "execution_count": 3,
   "metadata": {},
   "outputs": [
    {
     "name": "stdout",
     "output_type": "stream",
     "text": [
      "Well done! Your score is now 1.\n",
      "Well done! Your score is now 2.\n",
      "8*4 = 32\n"
     ]
    }
   ],
   "source": [
    "import random\n",
    "\n",
    "x = random.randint(1,10)\n",
    "y = random.randint(1,10)\n",
    "score = 0\n",
    "\n",
    "while True:\n",
    "    answer = int(input(f\"How much is {x} * {y} ?: \"))\n",
    "    if answer == x*y:\n",
    "        score += 1\n",
    "        print(f\"Well done! Your score is now {score}.\")\n",
    "    else:\n",
    "        print(f\"{x}*{y} = {x*y}\")\n",
    "    play=input(\"Do you wan to play again (y/n)?\")\n",
    "    if play == 'n':\n",
    "        break\n",
    "    if play == 'y':\n",
    "        x = random.randint(1,10)\n",
    "        y = random.randint(1,10)"
   ]
  },
  {
   "cell_type": "markdown",
   "metadata": {},
   "source": [
    "&nbsp; b) &nbsp; Add a menu for choosing difficulty level of the game"
   ]
  }
 ],
 "metadata": {
  "kernelspec": {
   "display_name": "Python-Mikael-Folkesson-aTHbKsrI",
   "language": "python",
   "name": "python3"
  },
  "language_info": {
   "codemirror_mode": {
    "name": "ipython",
    "version": 3
   },
   "file_extension": ".py",
   "mimetype": "text/x-python",
   "name": "python",
   "nbconvert_exporter": "python",
   "pygments_lexer": "ipython3",
   "version": "3.11.2"
  },
  "orig_nbformat": 4
 },
 "nbformat": 4,
 "nbformat_minor": 2
}
